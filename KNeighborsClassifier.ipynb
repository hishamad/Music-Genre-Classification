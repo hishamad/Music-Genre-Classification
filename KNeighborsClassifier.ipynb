{
 "cells": [
  {
   "cell_type": "code",
   "execution_count": 162,
   "metadata": {},
   "outputs": [],
   "source": [
    "from sklearn.neighbors import KNeighborsClassifier\n",
    "from sklearn.model_selection import train_test_split\n",
    "from sklearn.preprocessing import StandardScaler\n",
    "import numpy as np"
   ]
  },
  {
   "cell_type": "code",
   "execution_count": 163,
   "metadata": {},
   "outputs": [
    {
     "data": {
      "text/plain": [
       "array([[ 7.23267436e-01,  9.76336300e-02,  3.12463820e-01, ...,\n",
       "        -3.40898895e+01, -1.90405726e-01,  7.56735802e-02],\n",
       "       [ 5.37877202e-01,  8.07771459e-02,  2.84213215e-01, ...,\n",
       "        -3.02505894e+01,  1.13161340e-01,  2.41499424e-01],\n",
       "       [ 3.09401631e-01,  3.23186181e-02,  1.79773793e-01, ...,\n",
       "        -1.79960537e+01, -1.09656930e-01, -6.36193752e-02],\n",
       "       ...,\n",
       "       [ 5.96247137e-01,  8.57254341e-02,  2.92789072e-01, ...,\n",
       "        -3.15021992e+01, -8.84332210e-02, -3.94949675e-01],\n",
       "       [ 3.03517491e-01,  7.38315582e-02,  2.71719635e-01, ...,\n",
       "        -3.46965561e+01,  1.13321029e-01,  9.41651344e-01],\n",
       "       [ 5.73514521e-01,  3.69564332e-02,  1.92240566e-01, ...,\n",
       "        -1.16448154e+01,  2.25810148e-02, -2.05043793e-01]])"
      ]
     },
     "execution_count": 163,
     "metadata": {},
     "output_type": "execute_result"
    }
   ],
   "source": [
    "#Load the data\n",
    "x = np.load('./X.npy', allow_pickle=True)\n",
    "y = np.load('./y.npy', allow_pickle=True)\n",
    "np.nan_to_num(x,0)"
   ]
  },
  {
   "cell_type": "code",
   "execution_count": 164,
   "metadata": {},
   "outputs": [
    {
     "data": {
      "text/plain": [
       "array([[ 0.34819095,  1.19882548,  1.13110697, ..., -0.01390718,\n",
       "        -0.53547482, -0.53027602],\n",
       "       [ 0.44033729,  1.51378402,  1.37706143, ...,  1.01883209,\n",
       "         0.6021113 , -0.17970941],\n",
       "       [ 0.34156642, -0.40450014, -0.30507402, ...,  0.12128097,\n",
       "         1.35698375, -0.87706524],\n",
       "       ...,\n",
       "       [-0.7849381 , -0.85063863, -0.78512506, ...,  0.26263994,\n",
       "        -0.7267339 , -0.80973667],\n",
       "       [-0.74498751, -1.33394448, -1.37070101, ..., -1.20943548,\n",
       "        -1.19057337,  0.17673418],\n",
       "       [ 0.35811563,  1.15877681,  1.09915612, ...,  2.09519371,\n",
       "         2.2892034 ,  0.38364113]])"
      ]
     },
     "execution_count": 164,
     "metadata": {},
     "output_type": "execute_result"
    }
   ],
   "source": [
    "\n",
    "X_train, XX, y_train, YY = train_test_split(x, y, test_size=0.2, random_state=42, stratify=y)\n",
    "X_val, X_test, y_val, y_test = train_test_split(XX, YY, test_size=0.5,random_state=42, stratify=y_temp )\n",
    "\n",
    "scaler = StandardScaler(copy=False)\n",
    "scaler.fit_transform(X_train)\n",
    "scaler.transform(X_test)\n",
    "scaler.transform(X_val)"
   ]
  },
  {
   "cell_type": "code",
   "execution_count": 165,
   "metadata": {},
   "outputs": [],
   "source": [
    "\n",
    "all_score = []\n",
    "all_k = []\n",
    "for k in range(1,328,2):\n",
    " clf  = KNeighborsClassifier(n_neighbors=k)\n",
    " clf.fit(X_train, y_train)\n",
    " score = clf.score(X_val, y_val)\n",
    " all_score.append(score)\n",
    " all_k.append(k)\n",
    "\n",
    "all_score = np.array(all_score)\n",
    "all_k = np.array(all_k)"
   ]
  },
  {
   "cell_type": "code",
   "execution_count": 166,
   "metadata": {},
   "outputs": [
    {
     "name": "stdout",
     "output_type": "stream",
     "text": [
      "5\n",
      "0.4856070087609512\n"
     ]
    }
   ],
   "source": [
    "K = all_k[np.argmax(all_score)]\n",
    "print(K)\n",
    "print(np.max(all_score))\n"
   ]
  },
  {
   "cell_type": "code",
   "execution_count": 167,
   "metadata": {},
   "outputs": [
    {
     "data": {
      "text/plain": [
       "0.48125"
      ]
     },
     "execution_count": 167,
     "metadata": {},
     "output_type": "execute_result"
    }
   ],
   "source": [
    "#final testing and final model\n",
    "clf  = KNeighborsClassifier(n_neighbors=K)\n",
    "clf .fit(X_train, y_train)\n",
    "score = clf.score(X_test, y_test)\n",
    "score"
   ]
  }
 ],
 "metadata": {
  "kernelspec": {
   "display_name": "base",
   "language": "python",
   "name": "python3"
  },
  "language_info": {
   "codemirror_mode": {
    "name": "ipython",
    "version": 3
   },
   "file_extension": ".py",
   "mimetype": "text/x-python",
   "name": "python",
   "nbconvert_exporter": "python",
   "pygments_lexer": "ipython3",
   "version": "3.12.2"
  }
 },
 "nbformat": 4,
 "nbformat_minor": 2
}
