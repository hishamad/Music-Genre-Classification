{
 "cells": [
  {
   "cell_type": "code",
   "execution_count": 1,
   "metadata": {},
   "outputs": [],
   "source": [
    "from sklearn.svm import SVC\n",
    "import numpy as np\n",
    "from sklearn.model_selection import train_test_split\n",
    "from sklearn.preprocessing import StandardScaler\n"
   ]
  },
  {
   "cell_type": "code",
   "execution_count": 2,
   "metadata": {},
   "outputs": [
    {
     "data": {
      "text/plain": [
       "array([[ 7.23267436e-01,  9.76336300e-02,  3.12463820e-01, ...,\n",
       "        -3.40898895e+01, -1.90405726e-01,  7.56735802e-02],\n",
       "       [ 5.37877202e-01,  8.07771459e-02,  2.84213215e-01, ...,\n",
       "        -3.02505894e+01,  1.13161340e-01,  2.41499424e-01],\n",
       "       [ 3.09401631e-01,  3.23186181e-02,  1.79773793e-01, ...,\n",
       "        -1.79960537e+01, -1.09656930e-01, -6.36193752e-02],\n",
       "       ...,\n",
       "       [ 5.96247137e-01,  8.57254341e-02,  2.92789072e-01, ...,\n",
       "        -3.15021992e+01, -8.84332210e-02, -3.94949675e-01],\n",
       "       [ 3.03517491e-01,  7.38315582e-02,  2.71719635e-01, ...,\n",
       "        -3.46965561e+01,  1.13321029e-01,  9.41651344e-01],\n",
       "       [ 5.73514521e-01,  3.69564332e-02,  1.92240566e-01, ...,\n",
       "        -1.16448154e+01,  2.25810148e-02, -2.05043793e-01]])"
      ]
     },
     "execution_count": 2,
     "metadata": {},
     "output_type": "execute_result"
    }
   ],
   "source": [
    "XX = np.load('./X.npy', allow_pickle=True)\n",
    "yy = np.load('./y.npy', allow_pickle=True)\n",
    "np.nan_to_num(XX,0)"
   ]
  },
  {
   "cell_type": "code",
   "execution_count": 3,
   "metadata": {},
   "outputs": [
    {
     "data": {
      "text/plain": [
       "array([[-1.55903719, -2.01222421, -2.38413709, ...,  0.29421861,\n",
       "         0.12163432, -0.73168667],\n",
       "       [ 1.08737628,  1.41526043,  1.30110712, ...,  0.49146951,\n",
       "        -1.81361047,  0.02469048],\n",
       "       [ 2.14160805, -1.48352199, -1.57048399, ...,  1.8500316 ,\n",
       "        -1.06057413, -0.29769342],\n",
       "       ...,\n",
       "       [-1.04846337, -0.41169181, -0.31244645, ...,  0.05279093,\n",
       "         0.44088516, -0.1048948 ],\n",
       "       [ 0.56811826,  0.25521031,  0.33034616, ...,  0.06592805,\n",
       "        -0.04724919,  0.10452783],\n",
       "       [ 2.59077673, -0.52701167, -0.43218685, ..., -0.61071213,\n",
       "        -2.27120528,  0.05762955]])"
      ]
     },
     "execution_count": 3,
     "metadata": {},
     "output_type": "execute_result"
    }
   ],
   "source": [
    "X_train, X_test, y_train, y_test = train_test_split(XX, yy, test_size=0.2, random_state=42, stratify=yy)\n",
    "\n",
    "scaler = StandardScaler(copy=False)\n",
    "scaler.fit_transform(X_train)\n",
    "scaler.transform(X_test)"
   ]
  },
  {
   "cell_type": "code",
   "execution_count": 4,
   "metadata": {},
   "outputs": [
    {
     "data": {
      "text/plain": [
       "0.5597248280175109"
      ]
     },
     "execution_count": 4,
     "metadata": {},
     "output_type": "execute_result"
    }
   ],
   "source": [
    "clf = SVC(kernel='rbf')\n",
    "clf.fit(X_train, y_train)\n",
    "score = clf.score(X_test, y_test)\n",
    "score"
   ]
  }
 ],
 "metadata": {
  "kernelspec": {
   "display_name": "Python 3",
   "language": "python",
   "name": "python3"
  },
  "language_info": {
   "codemirror_mode": {
    "name": "ipython",
    "version": 3
   },
   "file_extension": ".py",
   "mimetype": "text/x-python",
   "name": "python",
   "nbconvert_exporter": "python",
   "pygments_lexer": "ipython3",
   "version": "3.9.4"
  }
 },
 "nbformat": 4,
 "nbformat_minor": 2
}
