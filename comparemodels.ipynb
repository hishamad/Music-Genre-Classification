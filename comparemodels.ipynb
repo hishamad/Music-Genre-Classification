{
 "cells": [
  {
   "cell_type": "code",
   "execution_count": 11,
   "metadata": {},
   "outputs": [],
   "source": [
    "from joblib import load\n",
    "import numpy as np\n",
    "rf = load('models/rf_model.joblib')\n",
    "kn = load('models/KN_model.joblib')\n",
    "svm = load('models/svm_model.joblib')\n"
   ]
  },
  {
   "cell_type": "code",
   "execution_count": 12,
   "metadata": {},
   "outputs": [],
   "source": [
    "from sklearn.model_selection import train_test_split\n",
    "\n",
    "XX = np.load('X.npy', allow_pickle=True)\n",
    "yy = np.load('y.npy', allow_pickle=True)\n",
    "\n",
    "X_train, X_test, y_train, y_test = train_test_split(XX, yy, test_size=0.2, random_state=42, stratify=yy)"
   ]
  },
  {
   "cell_type": "code",
   "execution_count": 14,
   "metadata": {},
   "outputs": [],
   "source": [
    "# Predict the genre for each test sample\n",
    "rf_predictions = rf.predict(X_test)\n",
    "svm_predictions = svm.predict(X_test)\n",
    "kn_predictions = kn.predict(X_test)\n"
   ]
  },
  {
   "cell_type": "code",
   "execution_count": 59,
   "metadata": {},
   "outputs": [],
   "source": [
    "from collections import Counter\n",
    "import numpy as np\n",
    "\n",
    "all_predictions = np.vstack([rf_predictions, svm_predictions, kn_predictions]).T\n",
    "\n",
    "final_predictions = []\n",
    "weights = [0.4, 0.4, 0.2]\n",
    "weighted_predictions = []\n",
    "for row in all_predictions:\n",
    "    weighted_vote_counts = Counter()\n",
    "    for model_prediction, weight in zip(row, weights):\n",
    "        weighted_vote_counts[model_prediction] += weight\n",
    "\n",
    "    # Choose the genre with the highest weighted vote count\n",
    "    majority_vote = weighted_vote_counts.most_common(2)[0][0]\n",
    "    #print(majority_vote)\n",
    "    weighted_predictions.append(majority_vote)\n",
    "\n"
   ]
  },
  {
   "cell_type": "code",
   "execution_count": 60,
   "metadata": {},
   "outputs": [
    {
     "name": "stdout",
     "output_type": "stream",
     "text": [
      "Ensemble Accuracy: 51.03%\n"
     ]
    }
   ],
   "source": [
    "from sklearn.metrics import accuracy_score\n",
    "\n",
    "# Evaluate the ensemble's performance\n",
    "accuracy = accuracy_score(y_test, weighted_predictions)\n",
    "print(f'Ensemble Accuracy: {accuracy * 100:.2f}%')\n"
   ]
  },
  {
   "cell_type": "code",
   "execution_count": null,
   "metadata": {},
   "outputs": [],
   "source": []
  },
  {
   "cell_type": "code",
   "execution_count": 61,
   "metadata": {},
   "outputs": [
    {
     "name": "stdout",
     "output_type": "stream",
     "text": [
      "['Hip-Hop', 'Hip-Hop', 'Experimental']\n"
     ]
    }
   ],
   "source": [
    "from datapreprosessing import * \n",
    "def classify_genre(audio_path):\n",
    "    geners =[]\n",
    "    features = extract_features(audio_path) \n",
    "    features = features.reshape(1, -1)\n",
    "    geners.append(rf.predict(features)[0])\n",
    "    geners.append(kn.predict(features)[0])\n",
    "    geners.append(svm.predict(features)[0])\n",
    "    return geners\n",
    "\n",
    "d = classify_genre('fma_small/000/000002.mp3')\n",
    "print(d)"
   ]
  }
 ],
 "metadata": {
  "kernelspec": {
   "display_name": "Python 3",
   "language": "python",
   "name": "python3"
  },
  "language_info": {
   "codemirror_mode": {
    "name": "ipython",
    "version": 3
   },
   "file_extension": ".py",
   "mimetype": "text/x-python",
   "name": "python",
   "nbconvert_exporter": "python",
   "pygments_lexer": "ipython3",
   "version": "3.12.5"
  }
 },
 "nbformat": 4,
 "nbformat_minor": 2
}
