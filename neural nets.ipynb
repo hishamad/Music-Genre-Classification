{
  "cells": [
    {
      "cell_type": "markdown",
      "metadata": {
        "id": "tEXvlx-Qp67_"
      },
      "source": [
        "Load all the modules\n"
      ]
    },
    {
      "cell_type": "code",
      "execution_count": 4,
      "metadata": {
        "id": "6EodzhHbp68A"
      },
      "outputs": [],
      "source": [
        "import os\n",
        "\n",
        "import torch\n",
        "import torchaudio\n",
        "import torch.nn as nn\n",
        "from torch.utils import data\n",
        "\n",
        "import ast\n",
        "import librosa\n",
        "import pandas as pd\n",
        "import numpy as np\n",
        "\n",
        "import tqdm\n",
        "import seaborn as sns\n",
        "import matplotlib.pyplot as plt\n",
        "from sklearn.preprocessing import LabelEncoder\n",
        "from sklearn.metrics import accuracy_score, confusion_matrix, ConfusionMatrixDisplay"
      ]
    },
    {
      "cell_type": "markdown",
      "metadata": {
        "id": "Xg89D2Xqp68B"
      },
      "source": [
        "Function to load the FMA Small files from where we can the file ids."
      ]
    },
    {
      "cell_type": "code",
      "execution_count": null,
      "metadata": {
        "id": "qpvZwOKQp68B"
      },
      "outputs": [],
      "source": [
        "def load_fma_csv(filepath):\n",
        "    \"\"\"\n",
        "    Loads the CSV data\n",
        "    https://github.com/mdeff/fma/blob/master/utils.py a part of the 'load' function\n",
        "    \"\"\"\n",
        "    tracks = pd.read_csv(filepath, index_col=0, header=[0, 1])\n",
        "\n",
        "    COLUMNS = [\n",
        "        (\"track\", \"tags\"),\n",
        "        (\"album\", \"tags\"),\n",
        "        (\"artist\", \"tags\"),\n",
        "        (\"track\", \"genres\"),\n",
        "        (\"track\", \"genres_all\"),\n",
        "    ]\n",
        "    for column in COLUMNS:\n",
        "        tracks[column] = tracks[column].map(ast.literal_eval)\n",
        "\n",
        "    COLUMNS = [\n",
        "        (\"track\", \"date_created\"),\n",
        "        (\"track\", \"date_recorded\"),\n",
        "        (\"album\", \"date_created\"),\n",
        "        (\"album\", \"date_released\"),\n",
        "        (\"artist\", \"date_created\"),\n",
        "        (\"artist\", \"active_year_begin\"),\n",
        "        (\"artist\", \"active_year_end\"),\n",
        "    ]\n",
        "    for column in COLUMNS:\n",
        "        tracks[column] = pd.to_datetime(tracks[column])\n",
        "\n",
        "    SUBSETS = (\"small\", \"medium\", \"large\")\n",
        "    try:\n",
        "        tracks[\"set\", \"subset\"] = tracks[\"set\", \"subset\"].astype(\n",
        "            \"category\", categories=SUBSETS, ordered=True\n",
        "        )\n",
        "    except (ValueError, TypeError):\n",
        "        # the categories and ordered arguments were removed in pandas 0.25\n",
        "        tracks[\"set\", \"subset\"] = tracks[\"set\", \"subset\"].astype(\n",
        "            pd.CategoricalDtype(categories=SUBSETS, ordered=True)\n",
        "        )\n",
        "\n",
        "    COLUMNS = [\n",
        "        (\"track\", \"genre_top\"),\n",
        "        (\"track\", \"license\"),\n",
        "        (\"album\", \"type\"),\n",
        "        (\"album\", \"information\"),\n",
        "        (\"artist\", \"bio\"),\n",
        "    ]\n",
        "    for column in COLUMNS:\n",
        "        tracks[column] = tracks[column].astype(\"category\")\n",
        "\n",
        "    return tracks"
      ]
    },
    {
      "cell_type": "markdown",
      "metadata": {
        "id": "vQksYecSp68B"
      },
      "source": [
        "Load the stuff"
      ]
    },
    {
      "cell_type": "code",
      "execution_count": null,
      "metadata": {
        "id": "FqotTXFQp68C"
      },
      "outputs": [],
      "source": [
        "tracks = load_fma_csv(\"fma_metadata/tracks.csv\")"
      ]
    },
    {
      "cell_type": "markdown",
      "metadata": {
        "id": "HKr84gHup68C"
      },
      "source": [
        "Select only the small dataset data"
      ]
    },
    {
      "cell_type": "code",
      "execution_count": null,
      "metadata": {
        "id": "KIOipnQWp68C",
        "outputId": "71dd538b-8293-4cee-9a95-c09404584dc2"
      },
      "outputs": [
        {
          "name": "stdout",
          "output_type": "stream",
          "text": [
            "6400 training examples, 800 validation examples, 800 testing examples\n"
          ]
        }
      ],
      "source": [
        "small = tracks[\"set\", \"subset\"] <= \"small\"\n",
        "\n",
        "train = tracks[\"set\", \"split\"] == \"training\"\n",
        "val = tracks[\"set\", \"split\"] == \"validation\"\n",
        "test = tracks[\"set\", \"split\"] == \"test\"\n",
        "\n",
        "y_train = tracks.loc[small & train, (\"track\", \"genre_top\")]\n",
        "y_val = tracks.loc[small & val, (\"track\", \"genre_top\")]\n",
        "y_test = tracks.loc[small & test, (\"track\", \"genre_top\")]\n",
        "\n",
        "print(\n",
        "    \"{} training examples, {} validation examples, {} testing examples\".format(\n",
        "        y_train.size, y_val.size, y_test.size\n",
        "    )\n",
        ")"
      ]
    },
    {
      "cell_type": "markdown",
      "metadata": {
        "id": "sQXEFjhOp68E"
      },
      "source": [
        "One-hot encode all the genre labels"
      ]
    },
    {
      "cell_type": "code",
      "execution_count": null,
      "metadata": {
        "id": "mFjcvrl5p68E",
        "outputId": "eaccc2a6-509c-49ac-f446-53b8d36fd570"
      },
      "outputs": [
        {
          "name": "stdout",
          "output_type": "stream",
          "text": [
            "8\n",
            "8\n",
            "8\n"
          ]
        }
      ],
      "source": [
        "enc = LabelEncoder()\n",
        "y_train = enc.fit_transform(y_train)\n",
        "y_val = enc.transform(y_val)\n",
        "y_test = enc.fit_transform(y_test)\n",
        "\n",
        "print(np.unique(y_train).size)\n",
        "print(np.unique(y_val).size)\n",
        "print(np.unique(y_test).size)"
      ]
    },
    {
      "cell_type": "markdown",
      "metadata": {
        "id": "U6JWzH3dp68F"
      },
      "source": [
        "Lets load all the waveforms!"
      ]
    },
    {
      "cell_type": "code",
      "execution_count": null,
      "metadata": {
        "id": "i53WySgOp68F",
        "outputId": "b3e7f5ca-4938-414c-a339-8566d7b9f77d"
      },
      "outputs": [
        {
          "name": "stdout",
          "output_type": "stream",
          "text": [
            "6400 800 800\n"
          ]
        }
      ],
      "source": [
        "# Get all the files\n",
        "\n",
        "train &= small\n",
        "tmp = train.values\n",
        "tmpi = train.index.values\n",
        "train_files = [tmpi[x] for x in range(len(tmp)) if tmp[x]]\n",
        "\n",
        "val &= small\n",
        "tmp = val.values\n",
        "tmpi = val.index.values\n",
        "val_files = [tmpi[x] for x in range(len(tmp)) if tmp[x]]\n",
        "\n",
        "test &= small\n",
        "tmp = test.values\n",
        "tmpi = test.index.values\n",
        "test_files = [tmpi[x] for x in range(len(tmp)) if tmp[x]]\n",
        "\n",
        "print(len(train_files), len(val_files), len(test_files))"
      ]
    },
    {
      "cell_type": "code",
      "execution_count": null,
      "metadata": {
        "id": "ghuIFNYZp68F",
        "outputId": "4bb2b64b-8cca-43c8-d71b-ada0050b2a45"
      },
      "outputs": [
        {
          "name": "stderr",
          "output_type": "stream",
          "text": [
            "100% 6400/6400 [05:51<00:00, 18.22it/s]\n",
            "100% 800/800 [00:47<00:00, 16.79it/s]\n",
            "100% 800/800 [00:48<00:00, 16.53it/s]\n"
          ]
        }
      ],
      "source": [
        "import warnings\n",
        "\n",
        "device = torch.device('cuda:0' if torch.cuda.is_available() else 'cpu')\n",
        "\n",
        "fs = 22050\n",
        "melspec = torchaudio.transforms.MelSpectrogram(sample_rate=fs,\n",
        "                                               n_fft=1024,\n",
        "                                               f_min=0.0,\n",
        "                                               f_max=fs / 2,\n",
        "                                               n_mels=128\n",
        "                                               ).to(device)\n",
        "\n",
        "amp_to_db = torchaudio.transforms.AmplitudeToDB()\n",
        "\n",
        "def load_specs(file_list):\n",
        "    \"\"\"\"\"\"\n",
        "    specs = []\n",
        "    chromas = []\n",
        "    bad_indices = []\n",
        "\n",
        "    for i in tqdm.tqdm(range(len(file_list)), ncols=0):\n",
        "        ind = file_list[i]\n",
        "        ind = int(ind)\n",
        "        folder = str(ind // 1000).zfill(3)\n",
        "\n",
        "        try:\n",
        "            # Some files WILL raise an ugly warning, used to get a clean output\n",
        "            with warnings.catch_warnings():\n",
        "                warnings.simplefilter('ignore')\n",
        "\n",
        "                # Automatically resamples to 22050 and converts to mono :)\n",
        "                wav, _ = librosa.load('fma_small/' + folder + '/' + str(ind).zfill(6) + '.mp3')\n",
        "\n",
        "        except:\n",
        "            # If we cannot open the file add to list for removal and move on\n",
        "            bad_indices.append(i)\n",
        "            continue\n",
        "\n",
        "        try:\n",
        "            # We want the files to be uniform, cut the last ~2k samples to force length, if a song doesn't have that many samples remove it from the data\n",
        "            if len(wav) < 658000:\n",
        "                raise\n",
        "\n",
        "            # Lets move the tensor to cpu to not eat all the available vram\n",
        "            # Also lets save the compute and save spectogram to save ram and later computing takes around ~9 GB of ram to keep all in memory\n",
        "            # If you do not have this much available, load the waves when creating a batch and compute the specs in the forward of the net\n",
        "            wav = wav[:658000]\n",
        "\n",
        "            wav = torch.tensor(wav).to(device)\n",
        "            specs.append(amp_to_db(melspec(wav)).to('cpu'))\n",
        "\n",
        "        except:\n",
        "            bad_indices.append(i)\n",
        "\n",
        "    return specs, bad_indices\n",
        "\n",
        "# Load all the specs and save to tensors\n",
        "train_specs, bad_train_indices = load_specs(train_files)\n",
        "train_specs = torch.stack(tuple(train_specs))\n",
        "\n",
        "test_specs, bad_test_indices = load_specs(test_files)\n",
        "test_specs = torch.stack(tuple(test_specs))\n",
        "\n",
        "val_specs, bad_val_indices = load_specs(val_files)\n",
        "val_specs = torch.stack(tuple(val_specs))"
      ]
    },
    {
      "cell_type": "markdown",
      "metadata": {
        "id": "mkLVGk8Op68F"
      },
      "source": [
        "Lets check the shape of the created spectogram tensors"
      ]
    },
    {
      "cell_type": "code",
      "execution_count": null,
      "metadata": {
        "id": "P4_IEKM4p68G",
        "outputId": "a0310c4f-0f6e-4419-b976-e3411600dbdf"
      },
      "outputs": [
        {
          "name": "stdout",
          "output_type": "stream",
          "text": [
            "torch.Size([6394, 128, 1286])\n",
            "torch.Size([800, 128, 1286])\n",
            "torch.Size([800, 128, 1286])\n"
          ]
        }
      ],
      "source": [
        "print(train_specs.shape)\n",
        "print(test_specs.shape)\n",
        "print(val_specs.shape)"
      ]
    },
    {
      "cell_type": "markdown",
      "metadata": {
        "id": "7uVzwbPGp68G"
      },
      "source": [
        "Looks good, there is supposed to be 6 tracks in FMA small that are shorter than 30 seconds. Lets remove them from the labels aswell."
      ]
    },
    {
      "cell_type": "code",
      "execution_count": null,
      "metadata": {
        "id": "B8T2RvAQp68G",
        "outputId": "38a728f8-7832-4912-b1c3-5feadbe2ea89"
      },
      "outputs": [
        {
          "name": "stdout",
          "output_type": "stream",
          "text": [
            "6394\n",
            "800\n",
            "800\n"
          ]
        }
      ],
      "source": [
        "y_train = [y_train[x] for x in range(len(y_train)) if x not in bad_train_indices]\n",
        "y_test = [y_test[x] for x in range(len(y_test)) if x not in bad_test_indices]\n",
        "y_val = [y_val[x] for x in range(len(y_val)) if x not in bad_val_indices]\n",
        "\n",
        "print(len(y_train))\n",
        "print(len(y_test))\n",
        "print(len(y_val))"
      ]
    },
    {
      "cell_type": "markdown",
      "metadata": {
        "id": "G6SXmAMBp68G"
      },
      "source": [
        "Lets convert the labels to tensors for pytorch"
      ]
    },
    {
      "cell_type": "code",
      "execution_count": null,
      "metadata": {
        "id": "bwlPPybOp68H"
      },
      "outputs": [],
      "source": [
        "y_train = torch.tensor(y_train, dtype = torch.long)\n",
        "y_val = torch.tensor(y_val, dtype = torch.long)\n",
        "y_test = torch.tensor(y_test, dtype = torch.long)"
      ]
    },
    {
      "cell_type": "markdown",
      "metadata": {
        "id": "MNDpyfZQp68H"
      },
      "source": [
        "Lets save the tensors so we dont need to recompute everytime we restart!"
      ]
    },
    {
      "cell_type": "code",
      "execution_count": null,
      "metadata": {
        "id": "sXKF8Dk3p68H"
      },
      "outputs": [],
      "source": [
        "torch.save(train_specs, 'CNN/train_specs.pt')\n",
        "torch.save(val_specs, 'CNN/val_specs.pt')\n",
        "torch.save(test_specs, 'CNN/test_specs.pt')\n",
        "\n",
        "torch.save(y_train, 'CNN/y_train.pt')\n",
        "torch.save(y_val, 'CNN/y_val.pt')\n",
        "torch.save(y_test, 'CNN/y_test.pt')"
      ]
    },
    {
      "cell_type": "markdown",
      "metadata": {
        "id": "H472tYHep68H"
      },
      "source": [
        "Load the pre-computed data"
      ]
    },
    {
      "cell_type": "code",
      "execution_count": null,
      "metadata": {
        "id": "4G5zsssVp68H"
      },
      "outputs": [],
      "source": [
        "device = torch.device('cuda:0' if torch.cuda.is_available() else 'cpu')\n",
        "\n",
        "specs = torch.cat((torch.load('CNN/train_specs.pt'),\n",
        "                   torch.load('CNN/val_specs.pt'),\n",
        "                   torch.load('CNN/test_specs.pt')\n",
        "                   ))[:, :, :-6] # Remove last 6 elements to get the spectogram divisible by 8\n",
        "\n",
        "y = torch.cat((torch.load('CNN/y_train.pt'),\n",
        "               torch.load('CNN/y_val.pt'),\n",
        "               torch.load('CNN/y_test.pt')\n",
        "               ))\n",
        "\n",
        "print(specs.shape)\n",
        "print(y.shape)"
      ]
    },
    {
      "cell_type": "markdown",
      "metadata": {
        "id": "DCKeR4fKp68H"
      },
      "source": [
        "Now lets build the Dataloader"
      ]
    },
    {
      "cell_type": "code",
      "execution_count": 5,
      "metadata": {
        "colab": {
          "base_uri": "https://localhost:8080/"
        },
        "id": "Xjw7f2jKp68H",
        "outputId": "c219acc0-599a-4840-d7be-75fa4862c56d"
      },
      "outputs": [
        {
          "name": "stdout",
          "output_type": "stream",
          "text": [
            "175 50 25\n",
            "training data shape: torch.Size([32, 128, 1280])\n",
            "validation/test data shape: torch.Size([32, 128, 1280])\n",
            "tensor([7, 1, 5, 2, 6, 0, 3, 5, 3, 2, 2, 2, 2, 7, 5, 1, 0, 5, 7, 4, 7, 4, 5, 7,\n",
            "        1, 3, 4, 6, 1, 4, 4, 6])\n"
          ]
        }
      ],
      "source": [
        "class FMADataset(data.Dataset):\n",
        "    def __init__(self, specs, labels):\n",
        "        self.specs = specs\n",
        "        self.labels = labels\n",
        "\n",
        "    def __len__(self):\n",
        "        return len(self.specs)\n",
        "\n",
        "    def __getitem__(self, idx):\n",
        "        return self.specs[idx], self.labels[idx]\n",
        "\n",
        "def get_DataLoader(dataset,\n",
        "                   split = 'train',\n",
        "                   n_workers = 0,\n",
        "                   batch_size = 32\n",
        "                   ):\n",
        "    shuffle = split == 'train'\n",
        "    dataloader = data.DataLoader(dataset = dataset,\n",
        "                                 batch_size = batch_size,\n",
        "                                 shuffle = shuffle,\n",
        "                                 drop_last = False,\n",
        "                                 num_workers = n_workers\n",
        "                                 )\n",
        "    return dataloader\n",
        "\n",
        "train_dset = FMADataset(specs, y)\n",
        "\n",
        "train_dset, val_dset, test_dset = torch.utils.data.random_split(train_dset, [0.7, 0.2, 0.1])\n",
        "\n",
        "train_loader = get_DataLoader(train_dset)\n",
        "iter_train_loader = iter(train_loader)\n",
        "train_spec, train_label = next(iter_train_loader)\n",
        "\n",
        "test_loader = get_DataLoader(test_dset, split='test')\n",
        "valid_loader = get_DataLoader(val_dset, split='val')\n",
        "iter_test_loader = iter(test_loader)\n",
        "test_spec, test_label = next(iter_test_loader)\n",
        "\n",
        "print(len(train_loader), len(valid_loader), len(test_loader))\n",
        "print('training data shape: %s' % str(train_spec.shape))\n",
        "print('validation/test data shape: %s' % str(test_spec.shape))\n",
        "print(train_label)\n",
        "\n",
        "del train_label, test_label"
      ]
    },
    {
      "cell_type": "markdown",
      "metadata": {
        "id": "Rw4FZnhzp68I"
      },
      "source": [
        "Lets make 2-D Conv baseline"
      ]
    },
    {
      "cell_type": "code",
      "execution_count": 28,
      "metadata": {
        "id": "Hb3UBlGqp68I"
      },
      "outputs": [],
      "source": [
        "class Conv2d_layer(nn.Module):\n",
        "    def __init__(self, out_c, kernel_size, pooling, dropout=0.1):\n",
        "        super(Conv2d_layer, self).__init__()\n",
        "        self.layer = nn.Sequential(\n",
        "            nn.LazyConv2d(out_c, kernel_size, padding = kernel_size // 2), #padding = 'valid'\n",
        "            nn.BatchNorm2d(out_c),\n",
        "            nn.ReLU(),\n",
        "            nn.MaxPool2d(pooling, stride = pooling),\n",
        "            nn.Dropout(dropout)\n",
        "        )\n",
        "\n",
        "    def forward(self, data):\n",
        "        return self.layer(data)\n",
        "\n",
        "class CNN(nn.Module):\n",
        "    def __init__(self, n_chan, kernel_size, n_genres):\n",
        "        super(CNN, self).__init__()\n",
        "\n",
        "        self.net = nn.Sequential(\n",
        "            nn.BatchNorm2d(1),\n",
        "            Conv2d_layer(n_chan, kernel_size, pooling=(2, 3), dropout=0.2),\n",
        "            Conv2d_layer(n_chan, kernel_size, pooling=(3, 4), dropout=0.2),\n",
        "            Conv2d_layer(2 * n_chan, kernel_size, pooling=(2, 5), dropout=0.2),\n",
        "            Conv2d_layer(2 * n_chan, kernel_size, pooling=(3, 3), dropout=0.2),\n",
        "            Conv2d_layer(4 * n_chan, kernel_size, pooling=(3, 4), dropout=0.2),\n",
        "            nn.Flatten(),\n",
        "            nn.LazyLinear(4 * n_chan),\n",
        "            nn.BatchNorm1d(4 * n_chan),\n",
        "            nn.ReLU(),\n",
        "            nn.Dropout(0.4),\n",
        "            nn.LazyLinear(n_genres)\n",
        "        )\n",
        "\n",
        "\n",
        "    def forward(self, spec):\n",
        "        spec = spec.unsqueeze(1)\n",
        "        return self.net(spec)"
      ]
    },
    {
      "cell_type": "code",
      "execution_count": 29,
      "metadata": {
        "colab": {
          "base_uri": "https://localhost:8080/"
        },
        "id": "BTyhaLzhp68I",
        "outputId": "ecb09a7f-dfce-4158-d8d4-cc2c84658c93"
      },
      "outputs": [
        {
          "name": "stderr",
          "output_type": "stream",
          "text": [
            "100%|██████████| 175/175 [00:15<00:00, 11.54it/s]\n"
          ]
        },
        {
          "name": "stdout",
          "output_type": "stream",
          "text": [
            "Epoch: [1/80], Train loss: 1.8914\n"
          ]
        },
        {
          "name": "stderr",
          "output_type": "stream",
          "text": [
            "100%|██████████| 50/50 [00:01<00:00, 29.67it/s]\n"
          ]
        },
        {
          "name": "stdout",
          "output_type": "stream",
          "text": [
            "Epoch: [1/80], Valid loss: 1.7834, Valid accuracy: 0.3215, Current LR: 0.00100000\n",
            "New best model found!\n"
          ]
        },
        {
          "name": "stderr",
          "output_type": "stream",
          "text": [
            "100%|██████████| 175/175 [00:14<00:00, 11.88it/s]\n"
          ]
        },
        {
          "name": "stdout",
          "output_type": "stream",
          "text": [
            "Epoch: [2/80], Train loss: 1.7201\n"
          ]
        },
        {
          "name": "stderr",
          "output_type": "stream",
          "text": [
            "100%|██████████| 50/50 [00:01<00:00, 29.33it/s]\n"
          ]
        },
        {
          "name": "stdout",
          "output_type": "stream",
          "text": [
            "Epoch: [2/80], Valid loss: 1.6767, Valid accuracy: 0.3777, Current LR: 0.00100000\n",
            "New best model found!\n"
          ]
        },
        {
          "name": "stderr",
          "output_type": "stream",
          "text": [
            "100%|██████████| 175/175 [00:14<00:00, 12.05it/s]\n"
          ]
        },
        {
          "name": "stdout",
          "output_type": "stream",
          "text": [
            "Epoch: [3/80], Train loss: 1.6403\n"
          ]
        },
        {
          "name": "stderr",
          "output_type": "stream",
          "text": [
            "100%|██████████| 50/50 [00:01<00:00, 30.82it/s]\n"
          ]
        },
        {
          "name": "stdout",
          "output_type": "stream",
          "text": [
            "Epoch: [3/80], Valid loss: 1.6202, Valid accuracy: 0.4109, Current LR: 0.00100000\n",
            "New best model found!\n"
          ]
        },
        {
          "name": "stderr",
          "output_type": "stream",
          "text": [
            "100%|██████████| 175/175 [00:14<00:00, 12.08it/s]\n"
          ]
        },
        {
          "name": "stdout",
          "output_type": "stream",
          "text": [
            "Epoch: [4/80], Train loss: 1.5755\n"
          ]
        },
        {
          "name": "stderr",
          "output_type": "stream",
          "text": [
            "100%|██████████| 50/50 [00:01<00:00, 31.18it/s]\n"
          ]
        },
        {
          "name": "stdout",
          "output_type": "stream",
          "text": [
            "Epoch: [4/80], Valid loss: 1.5810, Valid accuracy: 0.4340, Current LR: 0.00100000\n",
            "New best model found!\n"
          ]
        },
        {
          "name": "stderr",
          "output_type": "stream",
          "text": [
            "100%|██████████| 175/175 [00:15<00:00, 11.41it/s]\n"
          ]
        },
        {
          "name": "stdout",
          "output_type": "stream",
          "text": [
            "Epoch: [5/80], Train loss: 1.5354\n"
          ]
        },
        {
          "name": "stderr",
          "output_type": "stream",
          "text": [
            "100%|██████████| 50/50 [00:01<00:00, 30.49it/s]\n"
          ]
        },
        {
          "name": "stdout",
          "output_type": "stream",
          "text": [
            "Epoch: [5/80], Valid loss: 1.5766, Valid accuracy: 0.4309, Current LR: 0.00100000\n",
            "New best model found!\n"
          ]
        },
        {
          "name": "stderr",
          "output_type": "stream",
          "text": [
            "100%|██████████| 175/175 [00:14<00:00, 11.98it/s]\n"
          ]
        },
        {
          "name": "stdout",
          "output_type": "stream",
          "text": [
            "Epoch: [6/80], Train loss: 1.5140\n"
          ]
        },
        {
          "name": "stderr",
          "output_type": "stream",
          "text": [
            "100%|██████████| 50/50 [00:01<00:00, 30.92it/s]\n"
          ]
        },
        {
          "name": "stdout",
          "output_type": "stream",
          "text": [
            "Epoch: [6/80], Valid loss: 1.5235, Valid accuracy: 0.4647, Current LR: 0.00100000\n",
            "New best model found!\n"
          ]
        },
        {
          "name": "stderr",
          "output_type": "stream",
          "text": [
            "100%|██████████| 175/175 [00:14<00:00, 11.98it/s]\n"
          ]
        },
        {
          "name": "stdout",
          "output_type": "stream",
          "text": [
            "Epoch: [7/80], Train loss: 1.4648\n"
          ]
        },
        {
          "name": "stderr",
          "output_type": "stream",
          "text": [
            "100%|██████████| 50/50 [00:01<00:00, 30.70it/s]\n"
          ]
        },
        {
          "name": "stdout",
          "output_type": "stream",
          "text": [
            "Epoch: [7/80], Valid loss: 1.5231, Valid accuracy: 0.4640, Current LR: 0.00100000\n",
            "New best model found!\n"
          ]
        },
        {
          "name": "stderr",
          "output_type": "stream",
          "text": [
            "100%|██████████| 175/175 [00:14<00:00, 12.02it/s]\n"
          ]
        },
        {
          "name": "stdout",
          "output_type": "stream",
          "text": [
            "Epoch: [8/80], Train loss: 1.4519\n"
          ]
        },
        {
          "name": "stderr",
          "output_type": "stream",
          "text": [
            "100%|██████████| 50/50 [00:01<00:00, 29.41it/s]\n"
          ]
        },
        {
          "name": "stdout",
          "output_type": "stream",
          "text": [
            "Epoch: [8/80], Valid loss: 1.5004, Valid accuracy: 0.4640, Current LR: 0.00100000\n",
            "New best model found!\n"
          ]
        },
        {
          "name": "stderr",
          "output_type": "stream",
          "text": [
            "100%|██████████| 175/175 [00:14<00:00, 12.06it/s]\n"
          ]
        },
        {
          "name": "stdout",
          "output_type": "stream",
          "text": [
            "Epoch: [9/80], Train loss: 1.4229\n"
          ]
        },
        {
          "name": "stderr",
          "output_type": "stream",
          "text": [
            "100%|██████████| 50/50 [00:01<00:00, 29.38it/s]\n"
          ]
        },
        {
          "name": "stdout",
          "output_type": "stream",
          "text": [
            "Epoch: [9/80], Valid loss: 1.4773, Valid accuracy: 0.4853, Current LR: 0.00100000\n",
            "New best model found!\n"
          ]
        },
        {
          "name": "stderr",
          "output_type": "stream",
          "text": [
            "100%|██████████| 175/175 [00:14<00:00, 12.03it/s]\n"
          ]
        },
        {
          "name": "stdout",
          "output_type": "stream",
          "text": [
            "Epoch: [10/80], Train loss: 1.4039\n"
          ]
        },
        {
          "name": "stderr",
          "output_type": "stream",
          "text": [
            "100%|██████████| 50/50 [00:01<00:00, 31.21it/s]\n"
          ]
        },
        {
          "name": "stdout",
          "output_type": "stream",
          "text": [
            "Epoch: [10/80], Valid loss: 1.4872, Valid accuracy: 0.4803, Current LR: 0.00100000\n"
          ]
        },
        {
          "name": "stderr",
          "output_type": "stream",
          "text": [
            "100%|██████████| 175/175 [00:14<00:00, 12.04it/s]\n"
          ]
        },
        {
          "name": "stdout",
          "output_type": "stream",
          "text": [
            "Epoch: [11/80], Train loss: 1.3988\n"
          ]
        },
        {
          "name": "stderr",
          "output_type": "stream",
          "text": [
            "100%|██████████| 50/50 [00:01<00:00, 30.75it/s]\n"
          ]
        },
        {
          "name": "stdout",
          "output_type": "stream",
          "text": [
            "Epoch: [11/80], Valid loss: 1.4452, Valid accuracy: 0.4953, Current LR: 0.00100000\n",
            "New best model found!\n"
          ]
        },
        {
          "name": "stderr",
          "output_type": "stream",
          "text": [
            "100%|██████████| 175/175 [00:14<00:00, 12.00it/s]\n"
          ]
        },
        {
          "name": "stdout",
          "output_type": "stream",
          "text": [
            "Epoch: [12/80], Train loss: 1.3829\n"
          ]
        },
        {
          "name": "stderr",
          "output_type": "stream",
          "text": [
            "100%|██████████| 50/50 [00:01<00:00, 31.08it/s]\n"
          ]
        },
        {
          "name": "stdout",
          "output_type": "stream",
          "text": [
            "Epoch: [12/80], Valid loss: 1.4721, Valid accuracy: 0.4809, Current LR: 0.00100000\n"
          ]
        },
        {
          "name": "stderr",
          "output_type": "stream",
          "text": [
            "100%|██████████| 175/175 [00:14<00:00, 12.01it/s]\n"
          ]
        },
        {
          "name": "stdout",
          "output_type": "stream",
          "text": [
            "Epoch: [13/80], Train loss: 1.3619\n"
          ]
        },
        {
          "name": "stderr",
          "output_type": "stream",
          "text": [
            "100%|██████████| 50/50 [00:01<00:00, 31.06it/s]\n"
          ]
        },
        {
          "name": "stdout",
          "output_type": "stream",
          "text": [
            "Epoch: [13/80], Valid loss: 1.4336, Valid accuracy: 0.5066, Current LR: 0.00100000\n",
            "New best model found!\n"
          ]
        },
        {
          "name": "stderr",
          "output_type": "stream",
          "text": [
            "100%|██████████| 175/175 [00:14<00:00, 12.01it/s]\n"
          ]
        },
        {
          "name": "stdout",
          "output_type": "stream",
          "text": [
            "Epoch: [14/80], Train loss: 1.3569\n"
          ]
        },
        {
          "name": "stderr",
          "output_type": "stream",
          "text": [
            "100%|██████████| 50/50 [00:01<00:00, 31.23it/s]\n"
          ]
        },
        {
          "name": "stdout",
          "output_type": "stream",
          "text": [
            "Epoch: [14/80], Valid loss: 1.4237, Valid accuracy: 0.5166, Current LR: 0.00100000\n",
            "New best model found!\n"
          ]
        },
        {
          "name": "stderr",
          "output_type": "stream",
          "text": [
            "100%|██████████| 175/175 [00:14<00:00, 12.03it/s]\n"
          ]
        },
        {
          "name": "stdout",
          "output_type": "stream",
          "text": [
            "Epoch: [15/80], Train loss: 1.3387\n"
          ]
        },
        {
          "name": "stderr",
          "output_type": "stream",
          "text": [
            "100%|██████████| 50/50 [00:01<00:00, 29.73it/s]\n"
          ]
        },
        {
          "name": "stdout",
          "output_type": "stream",
          "text": [
            "Epoch: [15/80], Valid loss: 1.4424, Valid accuracy: 0.5034, Current LR: 0.00100000\n"
          ]
        },
        {
          "name": "stderr",
          "output_type": "stream",
          "text": [
            "100%|██████████| 175/175 [00:14<00:00, 12.02it/s]\n"
          ]
        },
        {
          "name": "stdout",
          "output_type": "stream",
          "text": [
            "Epoch: [16/80], Train loss: 1.3382\n"
          ]
        },
        {
          "name": "stderr",
          "output_type": "stream",
          "text": [
            "100%|██████████| 50/50 [00:01<00:00, 29.36it/s]\n"
          ]
        },
        {
          "name": "stdout",
          "output_type": "stream",
          "text": [
            "Epoch: [16/80], Valid loss: 1.4154, Valid accuracy: 0.5235, Current LR: 0.00100000\n",
            "New best model found!\n"
          ]
        },
        {
          "name": "stderr",
          "output_type": "stream",
          "text": [
            "100%|██████████| 175/175 [00:14<00:00, 11.93it/s]\n"
          ]
        },
        {
          "name": "stdout",
          "output_type": "stream",
          "text": [
            "Epoch: [17/80], Train loss: 1.3140\n"
          ]
        },
        {
          "name": "stderr",
          "output_type": "stream",
          "text": [
            "100%|██████████| 50/50 [00:01<00:00, 30.15it/s]\n"
          ]
        },
        {
          "name": "stdout",
          "output_type": "stream",
          "text": [
            "Epoch: [17/80], Valid loss: 1.4025, Valid accuracy: 0.5153, Current LR: 0.00100000\n",
            "New best model found!\n"
          ]
        },
        {
          "name": "stderr",
          "output_type": "stream",
          "text": [
            "100%|██████████| 175/175 [00:14<00:00, 12.02it/s]\n"
          ]
        },
        {
          "name": "stdout",
          "output_type": "stream",
          "text": [
            "Epoch: [18/80], Train loss: 1.3086\n"
          ]
        },
        {
          "name": "stderr",
          "output_type": "stream",
          "text": [
            "100%|██████████| 50/50 [00:01<00:00, 31.34it/s]\n"
          ]
        },
        {
          "name": "stdout",
          "output_type": "stream",
          "text": [
            "Epoch: [18/80], Valid loss: 1.4289, Valid accuracy: 0.5041, Current LR: 0.00100000\n"
          ]
        },
        {
          "name": "stderr",
          "output_type": "stream",
          "text": [
            "100%|██████████| 175/175 [00:14<00:00, 12.03it/s]\n"
          ]
        },
        {
          "name": "stdout",
          "output_type": "stream",
          "text": [
            "Epoch: [19/80], Train loss: 1.3124\n"
          ]
        },
        {
          "name": "stderr",
          "output_type": "stream",
          "text": [
            "100%|██████████| 50/50 [00:01<00:00, 30.98it/s]\n"
          ]
        },
        {
          "name": "stdout",
          "output_type": "stream",
          "text": [
            "Epoch: [19/80], Valid loss: 1.4060, Valid accuracy: 0.5172, Current LR: 0.00100000\n"
          ]
        },
        {
          "name": "stderr",
          "output_type": "stream",
          "text": [
            "100%|██████████| 175/175 [00:14<00:00, 12.02it/s]\n"
          ]
        },
        {
          "name": "stdout",
          "output_type": "stream",
          "text": [
            "Epoch: [20/80], Train loss: 1.3034\n"
          ]
        },
        {
          "name": "stderr",
          "output_type": "stream",
          "text": [
            "100%|██████████| 50/50 [00:01<00:00, 31.14it/s]\n"
          ]
        },
        {
          "name": "stdout",
          "output_type": "stream",
          "text": [
            "Epoch: [20/80], Valid loss: 1.4034, Valid accuracy: 0.5128, Current LR: 0.00100000\n"
          ]
        },
        {
          "name": "stderr",
          "output_type": "stream",
          "text": [
            "100%|██████████| 175/175 [00:14<00:00, 12.01it/s]\n"
          ]
        },
        {
          "name": "stdout",
          "output_type": "stream",
          "text": [
            "Epoch: [21/80], Train loss: 1.2667\n"
          ]
        },
        {
          "name": "stderr",
          "output_type": "stream",
          "text": [
            "100%|██████████| 50/50 [00:01<00:00, 31.04it/s]\n"
          ]
        },
        {
          "name": "stdout",
          "output_type": "stream",
          "text": [
            "Epoch: [21/80], Valid loss: 1.3655, Valid accuracy: 0.5247, Current LR: 0.00100000\n",
            "New best model found!\n"
          ]
        },
        {
          "name": "stderr",
          "output_type": "stream",
          "text": [
            "100%|██████████| 175/175 [00:14<00:00, 12.01it/s]\n"
          ]
        },
        {
          "name": "stdout",
          "output_type": "stream",
          "text": [
            "Epoch: [22/80], Train loss: 1.2852\n"
          ]
        },
        {
          "name": "stderr",
          "output_type": "stream",
          "text": [
            "100%|██████████| 50/50 [00:01<00:00, 31.08it/s]\n"
          ]
        },
        {
          "name": "stdout",
          "output_type": "stream",
          "text": [
            "Epoch: [22/80], Valid loss: 1.3771, Valid accuracy: 0.5366, Current LR: 0.00100000\n"
          ]
        },
        {
          "name": "stderr",
          "output_type": "stream",
          "text": [
            "100%|██████████| 175/175 [00:14<00:00, 11.99it/s]\n"
          ]
        },
        {
          "name": "stdout",
          "output_type": "stream",
          "text": [
            "Epoch: [23/80], Train loss: 1.2633\n"
          ]
        },
        {
          "name": "stderr",
          "output_type": "stream",
          "text": [
            "100%|██████████| 50/50 [00:01<00:00, 30.42it/s]\n"
          ]
        },
        {
          "name": "stdout",
          "output_type": "stream",
          "text": [
            "Epoch: [23/80], Valid loss: 1.3865, Valid accuracy: 0.5316, Current LR: 0.00100000\n"
          ]
        },
        {
          "name": "stderr",
          "output_type": "stream",
          "text": [
            "100%|██████████| 175/175 [00:14<00:00, 11.99it/s]\n"
          ]
        },
        {
          "name": "stdout",
          "output_type": "stream",
          "text": [
            "Epoch: [24/80], Train loss: 1.2726\n"
          ]
        },
        {
          "name": "stderr",
          "output_type": "stream",
          "text": [
            "100%|██████████| 50/50 [00:01<00:00, 29.40it/s]\n"
          ]
        },
        {
          "name": "stdout",
          "output_type": "stream",
          "text": [
            "Epoch: [24/80], Valid loss: 1.3831, Valid accuracy: 0.5353, Current LR: 0.00100000\n"
          ]
        },
        {
          "name": "stderr",
          "output_type": "stream",
          "text": [
            "100%|██████████| 175/175 [00:14<00:00, 12.01it/s]\n"
          ]
        },
        {
          "name": "stdout",
          "output_type": "stream",
          "text": [
            "Epoch: [25/80], Train loss: 1.2725\n"
          ]
        },
        {
          "name": "stderr",
          "output_type": "stream",
          "text": [
            "100%|██████████| 50/50 [00:01<00:00, 28.94it/s]\n"
          ]
        },
        {
          "name": "stdout",
          "output_type": "stream",
          "text": [
            "Epoch: [25/80], Valid loss: 1.3908, Valid accuracy: 0.5291, Current LR: 0.00100000\n"
          ]
        },
        {
          "name": "stderr",
          "output_type": "stream",
          "text": [
            "100%|██████████| 175/175 [00:14<00:00, 12.05it/s]\n"
          ]
        },
        {
          "name": "stdout",
          "output_type": "stream",
          "text": [
            "Epoch: [26/80], Train loss: 1.2563\n"
          ]
        },
        {
          "name": "stderr",
          "output_type": "stream",
          "text": [
            "100%|██████████| 50/50 [00:01<00:00, 30.76it/s]\n"
          ]
        },
        {
          "name": "stdout",
          "output_type": "stream",
          "text": [
            "Epoch: [26/80], Valid loss: 1.3849, Valid accuracy: 0.5191, Current LR: 0.00100000\n"
          ]
        },
        {
          "name": "stderr",
          "output_type": "stream",
          "text": [
            "100%|██████████| 175/175 [00:14<00:00, 12.00it/s]\n"
          ]
        },
        {
          "name": "stdout",
          "output_type": "stream",
          "text": [
            "Epoch: [27/80], Train loss: 1.2575\n"
          ]
        },
        {
          "name": "stderr",
          "output_type": "stream",
          "text": [
            "100%|██████████| 50/50 [00:01<00:00, 29.50it/s]\n"
          ]
        },
        {
          "name": "stdout",
          "output_type": "stream",
          "text": [
            "Epoch: [27/80], Valid loss: 1.3945, Valid accuracy: 0.5184, Current LR: 0.00100000\n"
          ]
        },
        {
          "name": "stderr",
          "output_type": "stream",
          "text": [
            "100%|██████████| 175/175 [00:14<00:00, 12.03it/s]\n"
          ]
        },
        {
          "name": "stdout",
          "output_type": "stream",
          "text": [
            "Epoch: [28/80], Train loss: 1.2340\n"
          ]
        },
        {
          "name": "stderr",
          "output_type": "stream",
          "text": [
            "100%|██████████| 50/50 [00:01<00:00, 31.40it/s]\n"
          ]
        },
        {
          "name": "stdout",
          "output_type": "stream",
          "text": [
            "Epoch: [28/80], Valid loss: 1.3723, Valid accuracy: 0.5341, Current LR: 0.00100000\n"
          ]
        },
        {
          "name": "stderr",
          "output_type": "stream",
          "text": [
            "100%|██████████| 175/175 [00:14<00:00, 12.00it/s]\n"
          ]
        },
        {
          "name": "stdout",
          "output_type": "stream",
          "text": [
            "Epoch: [29/80], Train loss: 1.2352\n"
          ]
        },
        {
          "name": "stderr",
          "output_type": "stream",
          "text": [
            "100%|██████████| 50/50 [00:01<00:00, 29.69it/s]\n"
          ]
        },
        {
          "name": "stdout",
          "output_type": "stream",
          "text": [
            "Epoch: [29/80], Valid loss: 1.3744, Valid accuracy: 0.5322, Current LR: 0.00100000\n"
          ]
        },
        {
          "name": "stderr",
          "output_type": "stream",
          "text": [
            "100%|██████████| 175/175 [00:14<00:00, 12.01it/s]\n"
          ]
        },
        {
          "name": "stdout",
          "output_type": "stream",
          "text": [
            "Epoch: [30/80], Train loss: 1.2331\n"
          ]
        },
        {
          "name": "stderr",
          "output_type": "stream",
          "text": [
            "100%|██████████| 50/50 [00:01<00:00, 30.48it/s]\n"
          ]
        },
        {
          "name": "stdout",
          "output_type": "stream",
          "text": [
            "Epoch: [30/80], Valid loss: 1.3530, Valid accuracy: 0.5391, Current LR: 0.00100000\n",
            "New best model found!\n"
          ]
        },
        {
          "name": "stderr",
          "output_type": "stream",
          "text": [
            "100%|██████████| 175/175 [00:14<00:00, 12.04it/s]\n"
          ]
        },
        {
          "name": "stdout",
          "output_type": "stream",
          "text": [
            "Epoch: [31/80], Train loss: 1.2313\n"
          ]
        },
        {
          "name": "stderr",
          "output_type": "stream",
          "text": [
            "100%|██████████| 50/50 [00:01<00:00, 29.42it/s]\n"
          ]
        },
        {
          "name": "stdout",
          "output_type": "stream",
          "text": [
            "Epoch: [31/80], Valid loss: 1.3668, Valid accuracy: 0.5385, Current LR: 0.00100000\n"
          ]
        },
        {
          "name": "stderr",
          "output_type": "stream",
          "text": [
            "100%|██████████| 175/175 [00:14<00:00, 12.01it/s]\n"
          ]
        },
        {
          "name": "stdout",
          "output_type": "stream",
          "text": [
            "Epoch: [32/80], Train loss: 1.2074\n"
          ]
        },
        {
          "name": "stderr",
          "output_type": "stream",
          "text": [
            "100%|██████████| 50/50 [00:01<00:00, 28.94it/s]\n"
          ]
        },
        {
          "name": "stdout",
          "output_type": "stream",
          "text": [
            "Epoch: [32/80], Valid loss: 1.3843, Valid accuracy: 0.5328, Current LR: 0.00100000\n"
          ]
        },
        {
          "name": "stderr",
          "output_type": "stream",
          "text": [
            "100%|██████████| 175/175 [00:14<00:00, 12.00it/s]\n"
          ]
        },
        {
          "name": "stdout",
          "output_type": "stream",
          "text": [
            "Epoch: [33/80], Train loss: 1.2326\n"
          ]
        },
        {
          "name": "stderr",
          "output_type": "stream",
          "text": [
            "100%|██████████| 50/50 [00:01<00:00, 30.90it/s]\n"
          ]
        },
        {
          "name": "stdout",
          "output_type": "stream",
          "text": [
            "Epoch: [33/80], Valid loss: 1.3678, Valid accuracy: 0.5366, Current LR: 0.00100000\n"
          ]
        },
        {
          "name": "stderr",
          "output_type": "stream",
          "text": [
            "100%|██████████| 175/175 [00:14<00:00, 12.04it/s]\n"
          ]
        },
        {
          "name": "stdout",
          "output_type": "stream",
          "text": [
            "Epoch: [34/80], Train loss: 1.2063\n"
          ]
        },
        {
          "name": "stderr",
          "output_type": "stream",
          "text": [
            "100%|██████████| 50/50 [00:01<00:00, 30.85it/s]\n"
          ]
        },
        {
          "name": "stdout",
          "output_type": "stream",
          "text": [
            "Epoch: [34/80], Valid loss: 1.3812, Valid accuracy: 0.5353, Current LR: 0.00100000\n"
          ]
        },
        {
          "name": "stderr",
          "output_type": "stream",
          "text": [
            "100%|██████████| 175/175 [00:14<00:00, 12.02it/s]\n"
          ]
        },
        {
          "name": "stdout",
          "output_type": "stream",
          "text": [
            "Epoch: [35/80], Train loss: 1.2101\n"
          ]
        },
        {
          "name": "stderr",
          "output_type": "stream",
          "text": [
            "100%|██████████| 50/50 [00:01<00:00, 31.02it/s]\n"
          ]
        },
        {
          "name": "stdout",
          "output_type": "stream",
          "text": [
            "Epoch: [35/80], Valid loss: 1.3617, Valid accuracy: 0.5222, Current LR: 0.00100000\n"
          ]
        },
        {
          "name": "stderr",
          "output_type": "stream",
          "text": [
            "100%|██████████| 175/175 [00:14<00:00, 12.02it/s]\n"
          ]
        },
        {
          "name": "stdout",
          "output_type": "stream",
          "text": [
            "Epoch: [36/80], Train loss: 1.2036\n"
          ]
        },
        {
          "name": "stderr",
          "output_type": "stream",
          "text": [
            "100%|██████████| 50/50 [00:01<00:00, 30.78it/s]\n"
          ]
        },
        {
          "name": "stdout",
          "output_type": "stream",
          "text": [
            "Epoch: [36/80], Valid loss: 1.3860, Valid accuracy: 0.5360, Current LR: 0.00100000\n"
          ]
        },
        {
          "name": "stderr",
          "output_type": "stream",
          "text": [
            "100%|██████████| 175/175 [00:14<00:00, 12.03it/s]\n"
          ]
        },
        {
          "name": "stdout",
          "output_type": "stream",
          "text": [
            "Epoch: [37/80], Train loss: 1.1982\n"
          ]
        },
        {
          "name": "stderr",
          "output_type": "stream",
          "text": [
            "100%|██████████| 50/50 [00:01<00:00, 29.87it/s]\n"
          ]
        },
        {
          "name": "stdout",
          "output_type": "stream",
          "text": [
            "Epoch: [37/80], Valid loss: 1.3640, Valid accuracy: 0.5366, Current LR: 0.00100000\n"
          ]
        },
        {
          "name": "stderr",
          "output_type": "stream",
          "text": [
            "100%|██████████| 175/175 [00:14<00:00, 11.89it/s]\n"
          ]
        },
        {
          "name": "stdout",
          "output_type": "stream",
          "text": [
            "Epoch: [38/80], Train loss: 1.1905\n"
          ]
        },
        {
          "name": "stderr",
          "output_type": "stream",
          "text": [
            "100%|██████████| 50/50 [00:01<00:00, 30.46it/s]\n"
          ]
        },
        {
          "name": "stdout",
          "output_type": "stream",
          "text": [
            "Epoch: [38/80], Valid loss: 1.3768, Valid accuracy: 0.5328, Current LR: 0.00100000\n"
          ]
        },
        {
          "name": "stderr",
          "output_type": "stream",
          "text": [
            "100%|██████████| 175/175 [00:14<00:00, 12.00it/s]\n"
          ]
        },
        {
          "name": "stdout",
          "output_type": "stream",
          "text": [
            "Epoch: [39/80], Train loss: 1.1845\n"
          ]
        },
        {
          "name": "stderr",
          "output_type": "stream",
          "text": [
            "100%|██████████| 50/50 [00:01<00:00, 29.84it/s]\n"
          ]
        },
        {
          "name": "stdout",
          "output_type": "stream",
          "text": [
            "Epoch: [39/80], Valid loss: 1.3672, Valid accuracy: 0.5422, Current LR: 0.00100000\n"
          ]
        },
        {
          "name": "stderr",
          "output_type": "stream",
          "text": [
            "100%|██████████| 175/175 [00:14<00:00, 11.99it/s]\n"
          ]
        },
        {
          "name": "stdout",
          "output_type": "stream",
          "text": [
            "Epoch: [40/80], Train loss: 1.1729\n"
          ]
        },
        {
          "name": "stderr",
          "output_type": "stream",
          "text": [
            "100%|██████████| 50/50 [00:01<00:00, 29.81it/s]\n"
          ]
        },
        {
          "name": "stdout",
          "output_type": "stream",
          "text": [
            "Epoch: [40/80], Valid loss: 1.3496, Valid accuracy: 0.5460, Current LR: 0.00100000\n",
            "New best model found!\n"
          ]
        },
        {
          "name": "stderr",
          "output_type": "stream",
          "text": [
            "100%|██████████| 175/175 [00:14<00:00, 11.99it/s]\n"
          ]
        },
        {
          "name": "stdout",
          "output_type": "stream",
          "text": [
            "Epoch: [41/80], Train loss: 1.1718\n"
          ]
        },
        {
          "name": "stderr",
          "output_type": "stream",
          "text": [
            "100%|██████████| 50/50 [00:01<00:00, 29.40it/s]\n"
          ]
        },
        {
          "name": "stdout",
          "output_type": "stream",
          "text": [
            "Epoch: [41/80], Valid loss: 1.3601, Valid accuracy: 0.5391, Current LR: 0.00100000\n"
          ]
        },
        {
          "name": "stderr",
          "output_type": "stream",
          "text": [
            "100%|██████████| 175/175 [00:14<00:00, 11.99it/s]\n"
          ]
        },
        {
          "name": "stdout",
          "output_type": "stream",
          "text": [
            "Epoch: [42/80], Train loss: 1.1626\n"
          ]
        },
        {
          "name": "stderr",
          "output_type": "stream",
          "text": [
            "100%|██████████| 50/50 [00:01<00:00, 31.18it/s]\n"
          ]
        },
        {
          "name": "stdout",
          "output_type": "stream",
          "text": [
            "Epoch: [42/80], Valid loss: 1.3929, Valid accuracy: 0.5247, Current LR: 0.00100000\n"
          ]
        },
        {
          "name": "stderr",
          "output_type": "stream",
          "text": [
            "100%|██████████| 175/175 [00:14<00:00, 12.01it/s]\n"
          ]
        },
        {
          "name": "stdout",
          "output_type": "stream",
          "text": [
            "Epoch: [43/80], Train loss: 1.1711\n"
          ]
        },
        {
          "name": "stderr",
          "output_type": "stream",
          "text": [
            "100%|██████████| 50/50 [00:01<00:00, 30.74it/s]\n"
          ]
        },
        {
          "name": "stdout",
          "output_type": "stream",
          "text": [
            "Epoch: [43/80], Valid loss: 1.3842, Valid accuracy: 0.5410, Current LR: 0.00100000\n"
          ]
        },
        {
          "name": "stderr",
          "output_type": "stream",
          "text": [
            "100%|██████████| 175/175 [00:14<00:00, 12.00it/s]\n"
          ]
        },
        {
          "name": "stdout",
          "output_type": "stream",
          "text": [
            "Epoch: [44/80], Train loss: 1.1646\n"
          ]
        },
        {
          "name": "stderr",
          "output_type": "stream",
          "text": [
            "100%|██████████| 50/50 [00:01<00:00, 31.17it/s]\n"
          ]
        },
        {
          "name": "stdout",
          "output_type": "stream",
          "text": [
            "Epoch: [44/80], Valid loss: 1.3516, Valid accuracy: 0.5478, Current LR: 0.00100000\n"
          ]
        },
        {
          "name": "stderr",
          "output_type": "stream",
          "text": [
            "100%|██████████| 175/175 [00:14<00:00, 12.00it/s]\n"
          ]
        },
        {
          "name": "stdout",
          "output_type": "stream",
          "text": [
            "Epoch: [45/80], Train loss: 1.1443\n"
          ]
        },
        {
          "name": "stderr",
          "output_type": "stream",
          "text": [
            "100%|██████████| 50/50 [00:01<00:00, 31.14it/s]\n"
          ]
        },
        {
          "name": "stdout",
          "output_type": "stream",
          "text": [
            "Epoch: [45/80], Valid loss: 1.3696, Valid accuracy: 0.5472, Current LR: 0.00100000\n"
          ]
        },
        {
          "name": "stderr",
          "output_type": "stream",
          "text": [
            "100%|██████████| 175/175 [00:14<00:00, 11.99it/s]\n"
          ]
        },
        {
          "name": "stdout",
          "output_type": "stream",
          "text": [
            "Epoch: [46/80], Train loss: 1.1488\n"
          ]
        },
        {
          "name": "stderr",
          "output_type": "stream",
          "text": [
            "100%|██████████| 50/50 [00:01<00:00, 31.26it/s]\n"
          ]
        },
        {
          "name": "stdout",
          "output_type": "stream",
          "text": [
            "Epoch: [46/80], Valid loss: 1.3949, Valid accuracy: 0.5278, Current LR: 0.00100000\n"
          ]
        },
        {
          "name": "stderr",
          "output_type": "stream",
          "text": [
            "100%|██████████| 175/175 [00:14<00:00, 12.00it/s]\n"
          ]
        },
        {
          "name": "stdout",
          "output_type": "stream",
          "text": [
            "Epoch: [47/80], Train loss: 1.1481\n"
          ]
        },
        {
          "name": "stderr",
          "output_type": "stream",
          "text": [
            "100%|██████████| 50/50 [00:01<00:00, 30.09it/s]\n"
          ]
        },
        {
          "name": "stdout",
          "output_type": "stream",
          "text": [
            "Epoch: [47/80], Valid loss: 1.3687, Valid accuracy: 0.5466, Current LR: 0.00100000\n"
          ]
        },
        {
          "name": "stderr",
          "output_type": "stream",
          "text": [
            "100%|██████████| 175/175 [00:14<00:00, 12.03it/s]\n"
          ]
        },
        {
          "name": "stdout",
          "output_type": "stream",
          "text": [
            "Epoch: [48/80], Train loss: 1.1409\n"
          ]
        },
        {
          "name": "stderr",
          "output_type": "stream",
          "text": [
            "100%|██████████| 50/50 [00:01<00:00, 29.28it/s]\n"
          ]
        },
        {
          "name": "stdout",
          "output_type": "stream",
          "text": [
            "Epoch: [48/80], Valid loss: 1.3639, Valid accuracy: 0.5353, Current LR: 0.00100000\n"
          ]
        },
        {
          "name": "stderr",
          "output_type": "stream",
          "text": [
            "100%|██████████| 175/175 [00:14<00:00, 12.02it/s]\n"
          ]
        },
        {
          "name": "stdout",
          "output_type": "stream",
          "text": [
            "Epoch: [49/80], Train loss: 1.1479\n"
          ]
        },
        {
          "name": "stderr",
          "output_type": "stream",
          "text": [
            "100%|██████████| 50/50 [00:01<00:00, 29.27it/s]\n"
          ]
        },
        {
          "name": "stdout",
          "output_type": "stream",
          "text": [
            "Epoch: [49/80], Valid loss: 1.3860, Valid accuracy: 0.5372, Current LR: 0.00100000\n"
          ]
        },
        {
          "name": "stderr",
          "output_type": "stream",
          "text": [
            "100%|██████████| 175/175 [00:14<00:00, 12.00it/s]\n"
          ]
        },
        {
          "name": "stdout",
          "output_type": "stream",
          "text": [
            "Epoch: [50/80], Train loss: 1.1401\n"
          ]
        },
        {
          "name": "stderr",
          "output_type": "stream",
          "text": [
            "100%|██████████| 50/50 [00:01<00:00, 31.19it/s]\n"
          ]
        },
        {
          "name": "stdout",
          "output_type": "stream",
          "text": [
            "Epoch: [50/80], Valid loss: 1.3481, Valid accuracy: 0.5441, Current LR: 0.00100000\n",
            "New best model found!\n"
          ]
        },
        {
          "name": "stderr",
          "output_type": "stream",
          "text": [
            "100%|██████████| 175/175 [00:14<00:00, 12.00it/s]\n"
          ]
        },
        {
          "name": "stdout",
          "output_type": "stream",
          "text": [
            "Epoch: [51/80], Train loss: 1.1271\n"
          ]
        },
        {
          "name": "stderr",
          "output_type": "stream",
          "text": [
            "100%|██████████| 50/50 [00:01<00:00, 31.24it/s]\n"
          ]
        },
        {
          "name": "stdout",
          "output_type": "stream",
          "text": [
            "Epoch: [51/80], Valid loss: 1.3580, Valid accuracy: 0.5510, Current LR: 0.00100000\n"
          ]
        },
        {
          "name": "stderr",
          "output_type": "stream",
          "text": [
            "100%|██████████| 175/175 [00:14<00:00, 12.01it/s]\n"
          ]
        },
        {
          "name": "stdout",
          "output_type": "stream",
          "text": [
            "Epoch: [52/80], Train loss: 1.1326\n"
          ]
        },
        {
          "name": "stderr",
          "output_type": "stream",
          "text": [
            "100%|██████████| 50/50 [00:01<00:00, 29.81it/s]\n"
          ]
        },
        {
          "name": "stdout",
          "output_type": "stream",
          "text": [
            "Epoch: [52/80], Valid loss: 1.3743, Valid accuracy: 0.5378, Current LR: 0.00100000\n"
          ]
        },
        {
          "name": "stderr",
          "output_type": "stream",
          "text": [
            "100%|██████████| 175/175 [00:14<00:00, 12.02it/s]\n"
          ]
        },
        {
          "name": "stdout",
          "output_type": "stream",
          "text": [
            "Epoch: [53/80], Train loss: 1.1184\n"
          ]
        },
        {
          "name": "stderr",
          "output_type": "stream",
          "text": [
            "100%|██████████| 50/50 [00:01<00:00, 30.75it/s]\n"
          ]
        },
        {
          "name": "stdout",
          "output_type": "stream",
          "text": [
            "Epoch: [53/80], Valid loss: 1.3962, Valid accuracy: 0.5347, Current LR: 0.00100000\n"
          ]
        },
        {
          "name": "stderr",
          "output_type": "stream",
          "text": [
            "100%|██████████| 175/175 [00:14<00:00, 12.00it/s]\n"
          ]
        },
        {
          "name": "stdout",
          "output_type": "stream",
          "text": [
            "Epoch: [54/80], Train loss: 1.1246\n"
          ]
        },
        {
          "name": "stderr",
          "output_type": "stream",
          "text": [
            "100%|██████████| 50/50 [00:01<00:00, 30.98it/s]\n"
          ]
        },
        {
          "name": "stdout",
          "output_type": "stream",
          "text": [
            "Epoch: [54/80], Valid loss: 1.3297, Valid accuracy: 0.5460, Current LR: 0.00100000\n",
            "New best model found!\n"
          ]
        },
        {
          "name": "stderr",
          "output_type": "stream",
          "text": [
            "100%|██████████| 175/175 [00:14<00:00, 12.02it/s]\n"
          ]
        },
        {
          "name": "stdout",
          "output_type": "stream",
          "text": [
            "Epoch: [55/80], Train loss: 1.1138\n"
          ]
        },
        {
          "name": "stderr",
          "output_type": "stream",
          "text": [
            "100%|██████████| 50/50 [00:01<00:00, 30.65it/s]\n"
          ]
        },
        {
          "name": "stdout",
          "output_type": "stream",
          "text": [
            "Epoch: [55/80], Valid loss: 1.3690, Valid accuracy: 0.5347, Current LR: 0.00100000\n"
          ]
        },
        {
          "name": "stderr",
          "output_type": "stream",
          "text": [
            "100%|██████████| 175/175 [00:14<00:00, 12.00it/s]\n"
          ]
        },
        {
          "name": "stdout",
          "output_type": "stream",
          "text": [
            "Epoch: [56/80], Train loss: 1.1240\n"
          ]
        },
        {
          "name": "stderr",
          "output_type": "stream",
          "text": [
            "100%|██████████| 50/50 [00:01<00:00, 29.59it/s]\n"
          ]
        },
        {
          "name": "stdout",
          "output_type": "stream",
          "text": [
            "Epoch: [56/80], Valid loss: 1.3765, Valid accuracy: 0.5447, Current LR: 0.00100000\n"
          ]
        },
        {
          "name": "stderr",
          "output_type": "stream",
          "text": [
            "100%|██████████| 175/175 [00:14<00:00, 12.02it/s]\n"
          ]
        },
        {
          "name": "stdout",
          "output_type": "stream",
          "text": [
            "Epoch: [57/80], Train loss: 1.1279\n"
          ]
        },
        {
          "name": "stderr",
          "output_type": "stream",
          "text": [
            "100%|██████████| 50/50 [00:01<00:00, 29.26it/s]\n"
          ]
        },
        {
          "name": "stdout",
          "output_type": "stream",
          "text": [
            "Epoch: [57/80], Valid loss: 1.3911, Valid accuracy: 0.5322, Current LR: 0.00100000\n"
          ]
        },
        {
          "name": "stderr",
          "output_type": "stream",
          "text": [
            "100%|██████████| 175/175 [00:14<00:00, 11.90it/s]\n"
          ]
        },
        {
          "name": "stdout",
          "output_type": "stream",
          "text": [
            "Epoch: [58/80], Train loss: 1.1207\n"
          ]
        },
        {
          "name": "stderr",
          "output_type": "stream",
          "text": [
            "100%|██████████| 50/50 [00:01<00:00, 30.66it/s]\n"
          ]
        },
        {
          "name": "stdout",
          "output_type": "stream",
          "text": [
            "Epoch: [58/80], Valid loss: 1.3863, Valid accuracy: 0.5447, Current LR: 0.00100000\n"
          ]
        },
        {
          "name": "stderr",
          "output_type": "stream",
          "text": [
            "100%|██████████| 175/175 [00:14<00:00, 12.01it/s]\n"
          ]
        },
        {
          "name": "stdout",
          "output_type": "stream",
          "text": [
            "Epoch: [59/80], Train loss: 1.1014\n"
          ]
        },
        {
          "name": "stderr",
          "output_type": "stream",
          "text": [
            "100%|██████████| 50/50 [00:01<00:00, 31.12it/s]\n"
          ]
        },
        {
          "name": "stdout",
          "output_type": "stream",
          "text": [
            "Epoch: [59/80], Valid loss: 1.4046, Valid accuracy: 0.5385, Current LR: 0.00100000\n"
          ]
        },
        {
          "name": "stderr",
          "output_type": "stream",
          "text": [
            "100%|██████████| 175/175 [00:14<00:00, 12.01it/s]\n"
          ]
        },
        {
          "name": "stdout",
          "output_type": "stream",
          "text": [
            "Epoch: [60/80], Train loss: 1.0978\n"
          ]
        },
        {
          "name": "stderr",
          "output_type": "stream",
          "text": [
            "100%|██████████| 50/50 [00:01<00:00, 30.78it/s]\n"
          ]
        },
        {
          "name": "stdout",
          "output_type": "stream",
          "text": [
            "Epoch: [60/80], Valid loss: 1.3626, Valid accuracy: 0.5403, Current LR: 0.00100000\n"
          ]
        },
        {
          "name": "stderr",
          "output_type": "stream",
          "text": [
            "100%|██████████| 175/175 [00:14<00:00, 12.01it/s]\n"
          ]
        },
        {
          "name": "stdout",
          "output_type": "stream",
          "text": [
            "Epoch: [61/80], Train loss: 1.1120\n"
          ]
        },
        {
          "name": "stderr",
          "output_type": "stream",
          "text": [
            "100%|██████████| 50/50 [00:01<00:00, 30.84it/s]\n"
          ]
        },
        {
          "name": "stdout",
          "output_type": "stream",
          "text": [
            "Epoch: [61/80], Valid loss: 1.3760, Valid accuracy: 0.5535, Current LR: 0.00100000\n"
          ]
        },
        {
          "name": "stderr",
          "output_type": "stream",
          "text": [
            "100%|██████████| 175/175 [00:14<00:00, 12.00it/s]\n"
          ]
        },
        {
          "name": "stdout",
          "output_type": "stream",
          "text": [
            "Epoch: [62/80], Train loss: 1.0890\n"
          ]
        },
        {
          "name": "stderr",
          "output_type": "stream",
          "text": [
            "100%|██████████| 50/50 [00:01<00:00, 31.07it/s]\n"
          ]
        },
        {
          "name": "stdout",
          "output_type": "stream",
          "text": [
            "Epoch: [62/80], Valid loss: 1.3846, Valid accuracy: 0.5491, Current LR: 0.00100000\n"
          ]
        },
        {
          "name": "stderr",
          "output_type": "stream",
          "text": [
            "100%|██████████| 175/175 [00:14<00:00, 12.01it/s]\n"
          ]
        },
        {
          "name": "stdout",
          "output_type": "stream",
          "text": [
            "Epoch: [63/80], Train loss: 1.0910\n"
          ]
        },
        {
          "name": "stderr",
          "output_type": "stream",
          "text": [
            "100%|██████████| 50/50 [00:01<00:00, 30.76it/s]\n"
          ]
        },
        {
          "name": "stdout",
          "output_type": "stream",
          "text": [
            "Epoch: [63/80], Valid loss: 1.3783, Valid accuracy: 0.5416, Current LR: 0.00100000\n"
          ]
        },
        {
          "name": "stderr",
          "output_type": "stream",
          "text": [
            "100%|██████████| 175/175 [00:14<00:00, 12.00it/s]\n"
          ]
        },
        {
          "name": "stdout",
          "output_type": "stream",
          "text": [
            "Epoch: [64/80], Train loss: 1.1047\n"
          ]
        },
        {
          "name": "stderr",
          "output_type": "stream",
          "text": [
            "100%|██████████| 50/50 [00:01<00:00, 29.38it/s]\n"
          ]
        },
        {
          "name": "stdout",
          "output_type": "stream",
          "text": [
            "Epoch: [64/80], Valid loss: 1.3971, Valid accuracy: 0.5422, Current LR: 0.00100000\n"
          ]
        },
        {
          "name": "stderr",
          "output_type": "stream",
          "text": [
            "100%|██████████| 175/175 [00:14<00:00, 11.97it/s]\n"
          ]
        },
        {
          "name": "stdout",
          "output_type": "stream",
          "text": [
            "Epoch: [65/80], Train loss: 1.0853\n"
          ]
        },
        {
          "name": "stderr",
          "output_type": "stream",
          "text": [
            "100%|██████████| 50/50 [00:01<00:00, 29.71it/s]\n"
          ]
        },
        {
          "name": "stdout",
          "output_type": "stream",
          "text": [
            "Epoch: [65/80], Valid loss: 1.3559, Valid accuracy: 0.5578, Current LR: 0.00010000\n"
          ]
        },
        {
          "name": "stderr",
          "output_type": "stream",
          "text": [
            "100%|██████████| 175/175 [00:14<00:00, 12.00it/s]\n"
          ]
        },
        {
          "name": "stdout",
          "output_type": "stream",
          "text": [
            "Epoch: [66/80], Train loss: 1.0459\n"
          ]
        },
        {
          "name": "stderr",
          "output_type": "stream",
          "text": [
            "100%|██████████| 50/50 [00:01<00:00, 31.29it/s]\n"
          ]
        },
        {
          "name": "stdout",
          "output_type": "stream",
          "text": [
            "Epoch: [66/80], Valid loss: 1.3350, Valid accuracy: 0.5497, Current LR: 0.00010000\n"
          ]
        },
        {
          "name": "stderr",
          "output_type": "stream",
          "text": [
            "100%|██████████| 175/175 [00:14<00:00, 12.05it/s]\n"
          ]
        },
        {
          "name": "stdout",
          "output_type": "stream",
          "text": [
            "Epoch: [67/80], Train loss: 1.0553\n"
          ]
        },
        {
          "name": "stderr",
          "output_type": "stream",
          "text": [
            "100%|██████████| 50/50 [00:01<00:00, 31.04it/s]\n"
          ]
        },
        {
          "name": "stdout",
          "output_type": "stream",
          "text": [
            "Epoch: [67/80], Valid loss: 1.3839, Valid accuracy: 0.5316, Current LR: 0.00010000\n"
          ]
        },
        {
          "name": "stderr",
          "output_type": "stream",
          "text": [
            "100%|██████████| 175/175 [00:14<00:00, 12.00it/s]\n"
          ]
        },
        {
          "name": "stdout",
          "output_type": "stream",
          "text": [
            "Epoch: [68/80], Train loss: 1.0499\n"
          ]
        },
        {
          "name": "stderr",
          "output_type": "stream",
          "text": [
            "100%|██████████| 50/50 [00:01<00:00, 31.10it/s]\n"
          ]
        },
        {
          "name": "stdout",
          "output_type": "stream",
          "text": [
            "Epoch: [68/80], Valid loss: 1.3764, Valid accuracy: 0.5310, Current LR: 0.00010000\n"
          ]
        },
        {
          "name": "stderr",
          "output_type": "stream",
          "text": [
            "100%|██████████| 175/175 [00:14<00:00, 12.02it/s]\n"
          ]
        },
        {
          "name": "stdout",
          "output_type": "stream",
          "text": [
            "Epoch: [69/80], Train loss: 1.0403\n"
          ]
        },
        {
          "name": "stderr",
          "output_type": "stream",
          "text": [
            "100%|██████████| 50/50 [00:01<00:00, 31.08it/s]\n"
          ]
        },
        {
          "name": "stdout",
          "output_type": "stream",
          "text": [
            "Epoch: [69/80], Valid loss: 1.3319, Valid accuracy: 0.5435, Current LR: 0.00010000\n"
          ]
        },
        {
          "name": "stderr",
          "output_type": "stream",
          "text": [
            "100%|██████████| 175/175 [00:14<00:00, 11.99it/s]\n"
          ]
        },
        {
          "name": "stdout",
          "output_type": "stream",
          "text": [
            "Epoch: [70/80], Train loss: 1.0417\n"
          ]
        },
        {
          "name": "stderr",
          "output_type": "stream",
          "text": [
            "100%|██████████| 50/50 [00:01<00:00, 31.18it/s]\n"
          ]
        },
        {
          "name": "stdout",
          "output_type": "stream",
          "text": [
            "Epoch: [70/80], Valid loss: 1.3981, Valid accuracy: 0.5316, Current LR: 0.00010000\n"
          ]
        },
        {
          "name": "stderr",
          "output_type": "stream",
          "text": [
            "100%|██████████| 175/175 [00:14<00:00, 12.03it/s]\n"
          ]
        },
        {
          "name": "stdout",
          "output_type": "stream",
          "text": [
            "Epoch: [71/80], Train loss: 1.0337\n"
          ]
        },
        {
          "name": "stderr",
          "output_type": "stream",
          "text": [
            "100%|██████████| 50/50 [00:01<00:00, 30.03it/s]\n"
          ]
        },
        {
          "name": "stdout",
          "output_type": "stream",
          "text": [
            "Epoch: [71/80], Valid loss: 1.3720, Valid accuracy: 0.5466, Current LR: 0.00010000\n"
          ]
        },
        {
          "name": "stderr",
          "output_type": "stream",
          "text": [
            "100%|██████████| 175/175 [00:14<00:00, 12.02it/s]\n"
          ]
        },
        {
          "name": "stdout",
          "output_type": "stream",
          "text": [
            "Epoch: [72/80], Train loss: 1.0384\n"
          ]
        },
        {
          "name": "stderr",
          "output_type": "stream",
          "text": [
            "100%|██████████| 50/50 [00:01<00:00, 29.28it/s]\n"
          ]
        },
        {
          "name": "stdout",
          "output_type": "stream",
          "text": [
            "Epoch: [72/80], Valid loss: 1.3441, Valid accuracy: 0.5560, Current LR: 0.00010000\n"
          ]
        },
        {
          "name": "stderr",
          "output_type": "stream",
          "text": [
            "100%|██████████| 175/175 [00:14<00:00, 12.04it/s]\n"
          ]
        },
        {
          "name": "stdout",
          "output_type": "stream",
          "text": [
            "Epoch: [73/80], Train loss: 1.0307\n"
          ]
        },
        {
          "name": "stderr",
          "output_type": "stream",
          "text": [
            "100%|██████████| 50/50 [00:01<00:00, 30.38it/s]\n"
          ]
        },
        {
          "name": "stdout",
          "output_type": "stream",
          "text": [
            "Epoch: [73/80], Valid loss: 1.3773, Valid accuracy: 0.5485, Current LR: 0.00010000\n"
          ]
        },
        {
          "name": "stderr",
          "output_type": "stream",
          "text": [
            "100%|██████████| 175/175 [00:14<00:00, 12.00it/s]\n"
          ]
        },
        {
          "name": "stdout",
          "output_type": "stream",
          "text": [
            "Epoch: [74/80], Train loss: 1.0282\n"
          ]
        },
        {
          "name": "stderr",
          "output_type": "stream",
          "text": [
            "100%|██████████| 50/50 [00:01<00:00, 31.11it/s]\n"
          ]
        },
        {
          "name": "stdout",
          "output_type": "stream",
          "text": [
            "Epoch: [74/80], Valid loss: 1.3784, Valid accuracy: 0.5428, Current LR: 0.00010000\n"
          ]
        },
        {
          "name": "stderr",
          "output_type": "stream",
          "text": [
            "100%|██████████| 175/175 [00:14<00:00, 12.00it/s]\n"
          ]
        },
        {
          "name": "stdout",
          "output_type": "stream",
          "text": [
            "Epoch: [75/80], Train loss: 1.0427\n"
          ]
        },
        {
          "name": "stderr",
          "output_type": "stream",
          "text": [
            "100%|██████████| 50/50 [00:01<00:00, 31.23it/s]\n"
          ]
        },
        {
          "name": "stdout",
          "output_type": "stream",
          "text": [
            "Epoch: [75/80], Valid loss: 1.3937, Valid accuracy: 0.5422, Current LR: 0.00010000\n"
          ]
        },
        {
          "name": "stderr",
          "output_type": "stream",
          "text": [
            "100%|██████████| 175/175 [00:14<00:00, 12.01it/s]\n"
          ]
        },
        {
          "name": "stdout",
          "output_type": "stream",
          "text": [
            "Epoch: [76/80], Train loss: 1.0324\n"
          ]
        },
        {
          "name": "stderr",
          "output_type": "stream",
          "text": [
            "100%|██████████| 50/50 [00:01<00:00, 31.18it/s]\n"
          ]
        },
        {
          "name": "stdout",
          "output_type": "stream",
          "text": [
            "Epoch: [76/80], Valid loss: 1.3587, Valid accuracy: 0.5435, Current LR: 0.00001000\n"
          ]
        },
        {
          "name": "stderr",
          "output_type": "stream",
          "text": [
            "100%|██████████| 175/175 [00:14<00:00, 12.05it/s]\n"
          ]
        },
        {
          "name": "stdout",
          "output_type": "stream",
          "text": [
            "Epoch: [77/80], Train loss: 1.0132\n"
          ]
        },
        {
          "name": "stderr",
          "output_type": "stream",
          "text": [
            "100%|██████████| 50/50 [00:01<00:00, 31.09it/s]\n"
          ]
        },
        {
          "name": "stdout",
          "output_type": "stream",
          "text": [
            "Epoch: [77/80], Valid loss: 1.3347, Valid accuracy: 0.5553, Current LR: 0.00001000\n"
          ]
        },
        {
          "name": "stderr",
          "output_type": "stream",
          "text": [
            "100%|██████████| 175/175 [00:14<00:00, 12.02it/s]\n"
          ]
        },
        {
          "name": "stdout",
          "output_type": "stream",
          "text": [
            "Epoch: [78/80], Train loss: 1.0157\n"
          ]
        },
        {
          "name": "stderr",
          "output_type": "stream",
          "text": [
            "100%|██████████| 50/50 [00:01<00:00, 31.12it/s]\n"
          ]
        },
        {
          "name": "stdout",
          "output_type": "stream",
          "text": [
            "Epoch: [78/80], Valid loss: 1.3539, Valid accuracy: 0.5472, Current LR: 0.00001000\n"
          ]
        },
        {
          "name": "stderr",
          "output_type": "stream",
          "text": [
            "100%|██████████| 175/175 [00:14<00:00, 11.92it/s]\n"
          ]
        },
        {
          "name": "stdout",
          "output_type": "stream",
          "text": [
            "Epoch: [79/80], Train loss: 1.0180\n"
          ]
        },
        {
          "name": "stderr",
          "output_type": "stream",
          "text": [
            "100%|██████████| 50/50 [00:01<00:00, 29.83it/s]\n"
          ]
        },
        {
          "name": "stdout",
          "output_type": "stream",
          "text": [
            "Epoch: [79/80], Valid loss: 1.3603, Valid accuracy: 0.5591, Current LR: 0.00001000\n"
          ]
        },
        {
          "name": "stderr",
          "output_type": "stream",
          "text": [
            "100%|██████████| 175/175 [00:14<00:00, 12.03it/s]\n"
          ]
        },
        {
          "name": "stdout",
          "output_type": "stream",
          "text": [
            "Epoch: [80/80], Train loss: 1.0270\n"
          ]
        },
        {
          "name": "stderr",
          "output_type": "stream",
          "text": [
            "100%|██████████| 50/50 [00:01<00:00, 29.15it/s]"
          ]
        },
        {
          "name": "stdout",
          "output_type": "stream",
          "text": [
            "Epoch: [80/80], Valid loss: 1.3589, Valid accuracy: 0.5597, Current LR: 0.00001000\n"
          ]
        },
        {
          "name": "stderr",
          "output_type": "stream",
          "text": [
            "\n"
          ]
        }
      ],
      "source": [
        "cnn = CNN(n_chan = 16, kernel_size = 3, n_genres=8).to(device)\n",
        "\n",
        "# Send a sample to the net init all the lazy layers\n",
        "cnn(train_spec.to(device))\n",
        "\n",
        "n_epochs = 80\n",
        "lr = 0.001\n",
        "\n",
        "loss_fn = nn.CrossEntropyLoss()\n",
        "optim = torch.optim.Adam(cnn.parameters(), lr = lr)\n",
        "scheduler = torch.optim.lr_scheduler.ReduceLROnPlateau(optim)\n",
        "\n",
        "train_losses = []\n",
        "val_losses = []\n",
        "\n",
        "for epoch in range(n_epochs):\n",
        "    losses = []\n",
        "\n",
        "    for specs, labels in tqdm.tqdm(train_loader):\n",
        "        out = cnn(specs.to(device))\n",
        "        loss = loss_fn(out, labels.to(device))\n",
        "\n",
        "        optim.zero_grad()\n",
        "        loss.backward()\n",
        "        optim.step()\n",
        "        losses.append(loss.item())\n",
        "\n",
        "    train_loss = np.mean(losses)\n",
        "    train_losses.append(train_loss)\n",
        "    print('Epoch: [%d/%d], Train loss: %.4f' % (epoch + 1, n_epochs, train_loss))\n",
        "\n",
        "    losses = []\n",
        "    y_true = []\n",
        "    y_pred = []\n",
        "    for specs, labels in tqdm.tqdm(valid_loader):\n",
        "        with torch.no_grad():\n",
        "            logits = cnn(specs.to(device))\n",
        "\n",
        "        loss = loss_fn(logits, labels.to(device))\n",
        "        losses.append(loss.item())\n",
        "        _, pred = torch.max(logits.data, 1)\n",
        "\n",
        "        y_true.extend(labels.tolist())\n",
        "        y_pred.extend(pred.tolist())\n",
        "\n",
        "    accuracy = accuracy_score(y_true, y_pred)\n",
        "    val_loss = np.mean(losses)\n",
        "    val_losses.append(val_loss)\n",
        "    scheduler.step(val_loss)\n",
        "    print('Epoch: [%d/%d], Valid loss: %.4f, Valid accuracy: %.4f, Current LR: %0.8f' % (epoch+1, n_epochs, val_loss, accuracy, scheduler.get_last_lr()[-1]))\n",
        "\n",
        "    if np.argmin(val_losses) == epoch:\n",
        "        print('New best model found!')\n",
        "        torch.save(cnn.state_dict(), 'best_model_lin.ckpt')\n",
        "\n",
        "torch.save(cnn.state_dict(), 'final_model_lin.ckpt')"
      ]
    },
    {
      "cell_type": "markdown",
      "metadata": {
        "id": "IvzzWroOp68J"
      },
      "source": [
        "Printing the data"
      ]
    },
    {
      "cell_type": "code",
      "execution_count": 35,
      "metadata": {
        "colab": {
          "base_uri": "https://localhost:8080/",
          "height": 980
        },
        "id": "0r52jRjGp68J",
        "outputId": "2cfa1358-dfdd-4e55-d6ed-22a311bcd1a3"
      },
      "outputs": [
        {
          "data": {
            "image/png": "[encoded data removed]",
            "text/plain": [
              "<Figure size 640x480 with 1 Axes>"
            ]
          },
          "metadata": {},
          "output_type": "display_data"
        },
        {
          "name": "stdout",
          "output_type": "stream",
          "text": [
            "Accuracy: 0.6133\n"
          ]
        },
        {
          "data": {
            "image/png": "[encoded data removed]",
            "text/plain": [
              "<Figure size 640x480 with 2 Axes>"
            ]
          },
          "metadata": {},
          "output_type": "display_data"
        }
      ],
      "source": [
        "y_true = []\n",
        "y_pred = []\n",
        "\n",
        "for specs, labels in test_loader:\n",
        "    with torch.no_grad():\n",
        "        logits = cnn(specs.to(device))\n",
        "\n",
        "    loss = loss_fn(logits, labels.to(device))\n",
        "    losses.append(loss.item())\n",
        "    _, pred = torch.max(logits.data, 1)\n",
        "\n",
        "    y_true.extend(labels.tolist())\n",
        "    y_pred.extend(pred.tolist())\n",
        "\n",
        "plt.plot(train_losses)\n",
        "plt.plot(val_losses)\n",
        "plt.show()\n",
        "\n",
        "l = ['Electronic', 'Experimental', 'Folk', 'Hip-Hop', 'Instrumental', 'International', 'Pop', 'Rock']\n",
        "accuracy = accuracy_score(y_true, y_pred)\n",
        "cm = confusion_matrix(y_true, y_pred)\n",
        "#sns.heatmap(cm, annot=True, xticklabels=l, yticklabels=l, cmap='YlGnBu', fmt='d')\n",
        "print('Accuracy: %.4f' % accuracy)\n",
        "\n",
        "\n",
        "disp = ConfusionMatrixDisplay(confusion_matrix=cm, display_labels=l)\n",
        "\n",
        "disp.plot(cmap=plt.cm.Blues)\n",
        "plt.xticks(rotation=90, ha='right')\n",
        "plt.title(\"Confusion Matrix\")\n",
        "plt.show()\n",
        "\n",
        "np.save('y_true_model_1.npy', np.array(y_true))\n",
        "np.save('y_pred_model_1.npy', np.array(y_pred))"
      ]
    },
    {
      "cell_type": "markdown",
      "metadata": {
        "id": "kCselN2zp68K"
      },
      "source": [
        "Lets try to make it better by spliting the the spectograms to 8 equal parts and train on these, then at test time the label is the majority vote of these parts. Testing both MusiCNN like architecture and a 1-d Convulational architecture."
      ]
    },
    {
      "cell_type": "code",
      "execution_count": 10,
      "metadata": {
        "id": "jsW7jAcCp68K"
      },
      "outputs": [],
      "source": [
        "def split_tensor_into_eight(tensor):\n",
        "    l, f, t = tensor.shape\n",
        "\n",
        "    if t % 8 != 0:\n",
        "        raise ValueError(\"Time dimension must be divisible by 8.\")\n",
        "\n",
        "    new_tensor = torch.zeros(l * 8, f, t // 8)\n",
        "\n",
        "    for i in range(l):\n",
        "        for j in range(8):\n",
        "            start_index = j * (t // 8)\n",
        "            end_index = (j + 1) * (t // 8)\n",
        "            new_tensor[i * 8 + j] = tensor[i, :, start_index:end_index]\n",
        "\n",
        "    return new_tensor"
      ]
    },
    {
      "cell_type": "code",
      "execution_count": 11,
      "metadata": {
        "id": "CQ_Fxyv8p68M"
      },
      "outputs": [],
      "source": [
        "class Conv2d_layer(nn.Module):\n",
        "    def __init__(self, out_c, kernel_size, pooling, dropout=0.1, padding = 'valid'):\n",
        "        super(Conv2d_layer, self).__init__()\n",
        "        self.layer = nn.Sequential(\n",
        "            nn.LazyConv2d(out_c, kernel_size, padding = padding),\n",
        "            nn.ReLU(),\n",
        "            nn.BatchNorm2d(out_c),\n",
        "            nn.MaxPool2d(pooling, stride = pooling),\n",
        "            nn.Dropout(dropout)\n",
        "        )\n",
        "\n",
        "    def forward(self, data):\n",
        "        return self.layer(data)\n",
        "\n",
        "class CNN(nn.Module):\n",
        "    def __init__(self, n_chan, n_genres):\n",
        "        super(CNN, self).__init__()\n",
        "\n",
        "        self.inbn = nn.BatchNorm2d(1)\n",
        "\n",
        "        self.convnet1 = nn.Sequential(\n",
        "            Conv2d_layer(4 * n_chan, (52, 7), pooling = (1, 160), padding = 'same'),\n",
        "            nn.ReLU(),\n",
        "            nn.Dropout(0.2)\n",
        "        )\n",
        "        self.convnet2 = nn.Sequential(\n",
        "            Conv2d_layer(4 * n_chan, (1, 32), pooling = (1, 129)),\n",
        "            nn.ReLU(),\n",
        "            nn.Dropout(0.2)\n",
        "        )\n",
        "\n",
        "        self.convnet3 = nn.Sequential(\n",
        "            Conv2d_layer(2 * n_chan, (1, 128), pooling = (1, 33)),\n",
        "        )\n",
        "\n",
        "        self.convnet4 = nn.Sequential(\n",
        "            nn.LazyConv1d(4 * n_chan, kernel_size = 7, padding = 'same'),\n",
        "            nn.ReLU(),\n",
        "            nn.BatchNorm1d(4 * n_chan)\n",
        "        )\n",
        "\n",
        "        self.maxpool = nn.MaxPool1d(kernel_size = 112)\n",
        "        self.avgpool = nn.AvgPool1d(kernel_size = 112)\n",
        "\n",
        "        self.linear = nn.Sequential(\n",
        "            nn.Flatten(),\n",
        "            nn.LazyLinear(128),\n",
        "            nn.ReLU(),\n",
        "            nn.Dropout(),\n",
        "            nn.LazyLinear(n_genres)\n",
        "        )\n",
        "\n",
        "\n",
        "    def forward(self, spec, hidden = None):\n",
        "        spec = spec.unsqueeze(1)\n",
        "        spec = self.inbn(spec)\n",
        "\n",
        "        intdm = torch.cat((self.convnet1(spec).squeeze(), self.convnet2(spec).squeeze(), self.convnet3(spec).squeeze()), dim = 1)\n",
        "        intdm = torch.permute(torch.cat((intdm, self.convnet4(intdm)), dim = 1), [0, 2, 1])\n",
        "\n",
        "        intdm = torch.cat((self.avgpool(intdm), self.avgpool(intdm)), dim = 1)\n",
        "        return self.linear(intdm)"
      ]
    },
    {
      "cell_type": "code",
      "execution_count": 12,
      "metadata": {
        "colab": {
          "base_uri": "https://localhost:8080/"
        },
        "id": "9Fq-a191p68M",
        "outputId": "f8899ff5-f312-406c-f5c2-399b2a79fca7"
      },
      "outputs": [
        {
          "name": "stderr",
          "output_type": "stream",
          "text": [
            "/usr/local/lib/python3.10/dist-packages/torch/nn/modules/conv.py:454: UserWarning: Using padding='same' with even kernel lengths and odd dilation may require a zero-padded copy of the input be created (Triggered internally at ../aten/src/ATen/native/Convolution.cpp:1031.)\n",
            "  return F.conv2d(input, weight, bias, self.stride,\n",
            "100%|██████████| 175/175 [01:26<00:00,  2.03it/s]\n"
          ]
        },
        {
          "name": "stdout",
          "output_type": "stream",
          "text": [
            "Epoch: [1/100], Train loss: 1.9425\n"
          ]
        },
        {
          "name": "stderr",
          "output_type": "stream",
          "text": [
            "100%|██████████| 50/50 [00:10<00:00,  4.72it/s]\n"
          ]
        },
        {
          "name": "stdout",
          "output_type": "stream",
          "text": [
            "Epoch: [1/100], Valid loss: 1.7615, Valid accuracy: 0.3302, Valid accuracy full: 0.3007, current LR: 0.001000\n",
            "New best model found!\n"
          ]
        },
        {
          "name": "stderr",
          "output_type": "stream",
          "text": [
            "100%|██████████| 175/175 [01:26<00:00,  2.03it/s]\n"
          ]
        },
        {
          "name": "stdout",
          "output_type": "stream",
          "text": [
            "Epoch: [2/100], Train loss: 1.7632\n"
          ]
        },
        {
          "name": "stderr",
          "output_type": "stream",
          "text": [
            "100%|██████████| 50/50 [00:10<00:00,  4.84it/s]\n"
          ]
        },
        {
          "name": "stdout",
          "output_type": "stream",
          "text": [
            "Epoch: [2/100], Valid loss: 1.6360, Valid accuracy: 0.3977, Valid accuracy full: 0.3562, current LR: 0.001000\n",
            "New best model found!\n"
          ]
        },
        {
          "name": "stderr",
          "output_type": "stream",
          "text": [
            "100%|██████████| 175/175 [01:25<00:00,  2.04it/s]\n"
          ]
        },
        {
          "name": "stdout",
          "output_type": "stream",
          "text": [
            "Epoch: [3/100], Train loss: 1.7102\n"
          ]
        },
        {
          "name": "stderr",
          "output_type": "stream",
          "text": [
            "100%|██████████| 50/50 [00:10<00:00,  4.69it/s]\n"
          ]
        },
        {
          "name": "stdout",
          "output_type": "stream",
          "text": [
            "Epoch: [3/100], Valid loss: 1.6162, Valid accuracy: 0.4246, Valid accuracy full: 0.3779, current LR: 0.001000\n",
            "New best model found!\n"
          ]
        },
        {
          "name": "stderr",
          "output_type": "stream",
          "text": [
            "100%|██████████| 175/175 [01:25<00:00,  2.04it/s]\n"
          ]
        },
        {
          "name": "stdout",
          "output_type": "stream",
          "text": [
            "Epoch: [4/100], Train loss: 1.6724\n"
          ]
        },
        {
          "name": "stderr",
          "output_type": "stream",
          "text": [
            "100%|██████████| 50/50 [00:10<00:00,  4.87it/s]\n"
          ]
        },
        {
          "name": "stdout",
          "output_type": "stream",
          "text": [
            "Epoch: [4/100], Valid loss: 1.5795, Valid accuracy: 0.4153, Valid accuracy full: 0.3818, current LR: 0.001000\n",
            "New best model found!\n"
          ]
        },
        {
          "name": "stderr",
          "output_type": "stream",
          "text": [
            "100%|██████████| 175/175 [01:25<00:00,  2.04it/s]\n"
          ]
        },
        {
          "name": "stdout",
          "output_type": "stream",
          "text": [
            "Epoch: [5/100], Train loss: 1.6582\n"
          ]
        },
        {
          "name": "stderr",
          "output_type": "stream",
          "text": [
            "100%|██████████| 50/50 [00:10<00:00,  4.88it/s]\n"
          ]
        },
        {
          "name": "stdout",
          "output_type": "stream",
          "text": [
            "Epoch: [5/100], Valid loss: 1.5747, Valid accuracy: 0.4396, Valid accuracy full: 0.3894, current LR: 0.001000\n",
            "New best model found!\n"
          ]
        },
        {
          "name": "stderr",
          "output_type": "stream",
          "text": [
            "100%|██████████| 175/175 [01:25<00:00,  2.04it/s]\n"
          ]
        },
        {
          "name": "stdout",
          "output_type": "stream",
          "text": [
            "Epoch: [6/100], Train loss: 1.6308\n"
          ]
        },
        {
          "name": "stderr",
          "output_type": "stream",
          "text": [
            "100%|██████████| 50/50 [00:10<00:00,  4.79it/s]\n"
          ]
        },
        {
          "name": "stdout",
          "output_type": "stream",
          "text": [
            "Epoch: [6/100], Valid loss: 1.5172, Valid accuracy: 0.4528, Valid accuracy full: 0.3997, current LR: 0.001000\n",
            "New best model found!\n"
          ]
        },
        {
          "name": "stderr",
          "output_type": "stream",
          "text": [
            "100%|██████████| 175/175 [01:25<00:00,  2.04it/s]\n"
          ]
        },
        {
          "name": "stdout",
          "output_type": "stream",
          "text": [
            "Epoch: [7/100], Train loss: 1.6111\n"
          ]
        },
        {
          "name": "stderr",
          "output_type": "stream",
          "text": [
            "100%|██████████| 50/50 [00:10<00:00,  4.91it/s]\n"
          ]
        },
        {
          "name": "stdout",
          "output_type": "stream",
          "text": [
            "Epoch: [7/100], Valid loss: 1.5331, Valid accuracy: 0.4709, Valid accuracy full: 0.4118, current LR: 0.001000\n"
          ]
        },
        {
          "name": "stderr",
          "output_type": "stream",
          "text": [
            "100%|██████████| 175/175 [01:25<00:00,  2.04it/s]\n"
          ]
        },
        {
          "name": "stdout",
          "output_type": "stream",
          "text": [
            "Epoch: [8/100], Train loss: 1.5957\n"
          ]
        },
        {
          "name": "stderr",
          "output_type": "stream",
          "text": [
            "100%|██████████| 50/50 [00:10<00:00,  4.88it/s]\n"
          ]
        },
        {
          "name": "stdout",
          "output_type": "stream",
          "text": [
            "Epoch: [8/100], Valid loss: 1.5042, Valid accuracy: 0.4665, Valid accuracy full: 0.4122, current LR: 0.001000\n",
            "New best model found!\n"
          ]
        },
        {
          "name": "stderr",
          "output_type": "stream",
          "text": [
            "100%|██████████| 175/175 [01:25<00:00,  2.04it/s]\n"
          ]
        },
        {
          "name": "stdout",
          "output_type": "stream",
          "text": [
            "Epoch: [9/100], Train loss: 1.5723\n"
          ]
        },
        {
          "name": "stderr",
          "output_type": "stream",
          "text": [
            "100%|██████████| 50/50 [00:10<00:00,  4.66it/s]\n"
          ]
        },
        {
          "name": "stdout",
          "output_type": "stream",
          "text": [
            "Epoch: [9/100], Valid loss: 1.4811, Valid accuracy: 0.4872, Valid accuracy full: 0.4229, current LR: 0.001000\n",
            "New best model found!\n"
          ]
        },
        {
          "name": "stderr",
          "output_type": "stream",
          "text": [
            "100%|██████████| 175/175 [01:25<00:00,  2.04it/s]\n"
          ]
        },
        {
          "name": "stdout",
          "output_type": "stream",
          "text": [
            "Epoch: [10/100], Train loss: 1.5592\n"
          ]
        },
        {
          "name": "stderr",
          "output_type": "stream",
          "text": [
            "100%|██████████| 50/50 [00:10<00:00,  4.82it/s]\n"
          ]
        },
        {
          "name": "stdout",
          "output_type": "stream",
          "text": [
            "Epoch: [10/100], Valid loss: 1.4645, Valid accuracy: 0.4734, Valid accuracy full: 0.4253, current LR: 0.001000\n",
            "New best model found!\n"
          ]
        },
        {
          "name": "stderr",
          "output_type": "stream",
          "text": [
            "100%|██████████| 175/175 [01:26<00:00,  2.03it/s]\n"
          ]
        },
        {
          "name": "stdout",
          "output_type": "stream",
          "text": [
            "Epoch: [11/100], Train loss: 1.5449\n"
          ]
        },
        {
          "name": "stderr",
          "output_type": "stream",
          "text": [
            "100%|██████████| 50/50 [00:10<00:00,  4.92it/s]\n"
          ]
        },
        {
          "name": "stdout",
          "output_type": "stream",
          "text": [
            "Epoch: [11/100], Valid loss: 1.4572, Valid accuracy: 0.4922, Valid accuracy full: 0.4362, current LR: 0.001000\n",
            "New best model found!\n"
          ]
        },
        {
          "name": "stderr",
          "output_type": "stream",
          "text": [
            "100%|██████████| 175/175 [01:26<00:00,  2.03it/s]\n"
          ]
        },
        {
          "name": "stdout",
          "output_type": "stream",
          "text": [
            "Epoch: [12/100], Train loss: 1.5273\n"
          ]
        },
        {
          "name": "stderr",
          "output_type": "stream",
          "text": [
            "100%|██████████| 50/50 [00:11<00:00,  4.32it/s]\n"
          ]
        },
        {
          "name": "stdout",
          "output_type": "stream",
          "text": [
            "Epoch: [12/100], Valid loss: 1.4461, Valid accuracy: 0.4972, Valid accuracy full: 0.4319, current LR: 0.001000\n",
            "New best model found!\n"
          ]
        },
        {
          "name": "stderr",
          "output_type": "stream",
          "text": [
            "100%|██████████| 175/175 [01:26<00:00,  2.03it/s]\n"
          ]
        },
        {
          "name": "stdout",
          "output_type": "stream",
          "text": [
            "Epoch: [13/100], Train loss: 1.5190\n"
          ]
        },
        {
          "name": "stderr",
          "output_type": "stream",
          "text": [
            "100%|██████████| 50/50 [00:10<00:00,  4.85it/s]\n"
          ]
        },
        {
          "name": "stdout",
          "output_type": "stream",
          "text": [
            "Epoch: [13/100], Valid loss: 1.4434, Valid accuracy: 0.4972, Valid accuracy full: 0.4368, current LR: 0.001000\n",
            "New best model found!\n"
          ]
        },
        {
          "name": "stderr",
          "output_type": "stream",
          "text": [
            "100%|██████████| 175/175 [01:25<00:00,  2.04it/s]\n"
          ]
        },
        {
          "name": "stdout",
          "output_type": "stream",
          "text": [
            "Epoch: [14/100], Train loss: 1.5062\n"
          ]
        },
        {
          "name": "stderr",
          "output_type": "stream",
          "text": [
            "100%|██████████| 50/50 [00:10<00:00,  4.81it/s]\n"
          ]
        },
        {
          "name": "stdout",
          "output_type": "stream",
          "text": [
            "Epoch: [14/100], Valid loss: 1.4261, Valid accuracy: 0.4891, Valid accuracy full: 0.4367, current LR: 0.001000\n",
            "New best model found!\n"
          ]
        },
        {
          "name": "stderr",
          "output_type": "stream",
          "text": [
            "100%|██████████| 175/175 [01:25<00:00,  2.05it/s]\n"
          ]
        },
        {
          "name": "stdout",
          "output_type": "stream",
          "text": [
            "Epoch: [15/100], Train loss: 1.4958\n"
          ]
        },
        {
          "name": "stderr",
          "output_type": "stream",
          "text": [
            "100%|██████████| 50/50 [00:10<00:00,  4.80it/s]\n"
          ]
        },
        {
          "name": "stdout",
          "output_type": "stream",
          "text": [
            "Epoch: [15/100], Valid loss: 1.4214, Valid accuracy: 0.4978, Valid accuracy full: 0.4378, current LR: 0.001000\n",
            "New best model found!\n"
          ]
        },
        {
          "name": "stderr",
          "output_type": "stream",
          "text": [
            "100%|██████████| 175/175 [01:26<00:00,  2.03it/s]\n"
          ]
        },
        {
          "name": "stdout",
          "output_type": "stream",
          "text": [
            "Epoch: [16/100], Train loss: 1.4825\n"
          ]
        },
        {
          "name": "stderr",
          "output_type": "stream",
          "text": [
            "100%|██████████| 50/50 [00:10<00:00,  4.90it/s]\n"
          ]
        },
        {
          "name": "stdout",
          "output_type": "stream",
          "text": [
            "Epoch: [16/100], Valid loss: 1.3770, Valid accuracy: 0.5116, Valid accuracy full: 0.4567, current LR: 0.001000\n",
            "New best model found!\n"
          ]
        },
        {
          "name": "stderr",
          "output_type": "stream",
          "text": [
            "100%|██████████| 175/175 [01:26<00:00,  2.03it/s]\n"
          ]
        },
        {
          "name": "stdout",
          "output_type": "stream",
          "text": [
            "Epoch: [17/100], Train loss: 1.4659\n"
          ]
        },
        {
          "name": "stderr",
          "output_type": "stream",
          "text": [
            "100%|██████████| 50/50 [00:10<00:00,  4.83it/s]\n"
          ]
        },
        {
          "name": "stdout",
          "output_type": "stream",
          "text": [
            "Epoch: [17/100], Valid loss: 1.3978, Valid accuracy: 0.5053, Valid accuracy full: 0.4505, current LR: 0.001000\n"
          ]
        },
        {
          "name": "stderr",
          "output_type": "stream",
          "text": [
            "100%|██████████| 175/175 [01:26<00:00,  2.03it/s]\n"
          ]
        },
        {
          "name": "stdout",
          "output_type": "stream",
          "text": [
            "Epoch: [18/100], Train loss: 1.4580\n"
          ]
        },
        {
          "name": "stderr",
          "output_type": "stream",
          "text": [
            "100%|██████████| 50/50 [00:10<00:00,  4.84it/s]\n"
          ]
        },
        {
          "name": "stdout",
          "output_type": "stream",
          "text": [
            "Epoch: [18/100], Valid loss: 1.3818, Valid accuracy: 0.5247, Valid accuracy full: 0.4549, current LR: 0.001000\n"
          ]
        },
        {
          "name": "stderr",
          "output_type": "stream",
          "text": [
            "100%|██████████| 175/175 [01:26<00:00,  2.03it/s]\n"
          ]
        },
        {
          "name": "stdout",
          "output_type": "stream",
          "text": [
            "Epoch: [19/100], Train loss: 1.4470\n"
          ]
        },
        {
          "name": "stderr",
          "output_type": "stream",
          "text": [
            "100%|██████████| 50/50 [00:10<00:00,  4.92it/s]\n"
          ]
        },
        {
          "name": "stdout",
          "output_type": "stream",
          "text": [
            "Epoch: [19/100], Valid loss: 1.3950, Valid accuracy: 0.5260, Valid accuracy full: 0.4551, current LR: 0.001000\n"
          ]
        },
        {
          "name": "stderr",
          "output_type": "stream",
          "text": [
            "100%|██████████| 175/175 [01:26<00:00,  2.03it/s]\n"
          ]
        },
        {
          "name": "stdout",
          "output_type": "stream",
          "text": [
            "Epoch: [20/100], Train loss: 1.4391\n"
          ]
        },
        {
          "name": "stderr",
          "output_type": "stream",
          "text": [
            "100%|██████████| 50/50 [00:10<00:00,  4.83it/s]\n"
          ]
        },
        {
          "name": "stdout",
          "output_type": "stream",
          "text": [
            "Epoch: [20/100], Valid loss: 1.3788, Valid accuracy: 0.5184, Valid accuracy full: 0.4536, current LR: 0.001000\n"
          ]
        },
        {
          "name": "stderr",
          "output_type": "stream",
          "text": [
            "100%|██████████| 175/175 [01:26<00:00,  2.03it/s]\n"
          ]
        },
        {
          "name": "stdout",
          "output_type": "stream",
          "text": [
            "Epoch: [21/100], Train loss: 1.4327\n"
          ]
        },
        {
          "name": "stderr",
          "output_type": "stream",
          "text": [
            "100%|██████████| 50/50 [00:10<00:00,  4.75it/s]\n"
          ]
        },
        {
          "name": "stdout",
          "output_type": "stream",
          "text": [
            "Epoch: [21/100], Valid loss: 1.3692, Valid accuracy: 0.5159, Valid accuracy full: 0.4546, current LR: 0.001000\n",
            "New best model found!\n"
          ]
        },
        {
          "name": "stderr",
          "output_type": "stream",
          "text": [
            "100%|██████████| 175/175 [01:25<00:00,  2.04it/s]\n"
          ]
        },
        {
          "name": "stdout",
          "output_type": "stream",
          "text": [
            "Epoch: [22/100], Train loss: 1.4202\n"
          ]
        },
        {
          "name": "stderr",
          "output_type": "stream",
          "text": [
            "100%|██████████| 50/50 [00:10<00:00,  4.82it/s]\n"
          ]
        },
        {
          "name": "stdout",
          "output_type": "stream",
          "text": [
            "Epoch: [22/100], Valid loss: 1.3456, Valid accuracy: 0.5278, Valid accuracy full: 0.4642, current LR: 0.001000\n",
            "New best model found!\n"
          ]
        },
        {
          "name": "stderr",
          "output_type": "stream",
          "text": [
            "100%|██████████| 175/175 [01:25<00:00,  2.04it/s]\n"
          ]
        },
        {
          "name": "stdout",
          "output_type": "stream",
          "text": [
            "Epoch: [23/100], Train loss: 1.4109\n"
          ]
        },
        {
          "name": "stderr",
          "output_type": "stream",
          "text": [
            "100%|██████████| 50/50 [00:10<00:00,  4.88it/s]\n"
          ]
        },
        {
          "name": "stdout",
          "output_type": "stream",
          "text": [
            "Epoch: [23/100], Valid loss: 1.3574, Valid accuracy: 0.5385, Valid accuracy full: 0.4616, current LR: 0.001000\n"
          ]
        },
        {
          "name": "stderr",
          "output_type": "stream",
          "text": [
            "100%|██████████| 175/175 [01:26<00:00,  2.03it/s]\n"
          ]
        },
        {
          "name": "stdout",
          "output_type": "stream",
          "text": [
            "Epoch: [24/100], Train loss: 1.4003\n"
          ]
        },
        {
          "name": "stderr",
          "output_type": "stream",
          "text": [
            "100%|██████████| 50/50 [00:10<00:00,  4.82it/s]\n"
          ]
        },
        {
          "name": "stdout",
          "output_type": "stream",
          "text": [
            "Epoch: [24/100], Valid loss: 1.3534, Valid accuracy: 0.5228, Valid accuracy full: 0.4654, current LR: 0.001000\n"
          ]
        },
        {
          "name": "stderr",
          "output_type": "stream",
          "text": [
            "100%|██████████| 175/175 [01:25<00:00,  2.04it/s]\n"
          ]
        },
        {
          "name": "stdout",
          "output_type": "stream",
          "text": [
            "Epoch: [25/100], Train loss: 1.3956\n"
          ]
        },
        {
          "name": "stderr",
          "output_type": "stream",
          "text": [
            "100%|██████████| 50/50 [00:10<00:00,  4.74it/s]\n"
          ]
        },
        {
          "name": "stdout",
          "output_type": "stream",
          "text": [
            "Epoch: [25/100], Valid loss: 1.3387, Valid accuracy: 0.5235, Valid accuracy full: 0.4586, current LR: 0.001000\n",
            "New best model found!\n"
          ]
        },
        {
          "name": "stderr",
          "output_type": "stream",
          "text": [
            "100%|██████████| 175/175 [01:26<00:00,  2.03it/s]\n"
          ]
        },
        {
          "name": "stdout",
          "output_type": "stream",
          "text": [
            "Epoch: [26/100], Train loss: 1.3894\n"
          ]
        },
        {
          "name": "stderr",
          "output_type": "stream",
          "text": [
            "100%|██████████| 50/50 [00:10<00:00,  4.91it/s]\n"
          ]
        },
        {
          "name": "stdout",
          "output_type": "stream",
          "text": [
            "Epoch: [26/100], Valid loss: 1.3647, Valid accuracy: 0.5191, Valid accuracy full: 0.4524, current LR: 0.001000\n"
          ]
        },
        {
          "name": "stderr",
          "output_type": "stream",
          "text": [
            "100%|██████████| 175/175 [01:25<00:00,  2.04it/s]\n"
          ]
        },
        {
          "name": "stdout",
          "output_type": "stream",
          "text": [
            "Epoch: [27/100], Train loss: 1.3785\n"
          ]
        },
        {
          "name": "stderr",
          "output_type": "stream",
          "text": [
            "100%|██████████| 50/50 [00:10<00:00,  4.80it/s]\n"
          ]
        },
        {
          "name": "stdout",
          "output_type": "stream",
          "text": [
            "Epoch: [27/100], Valid loss: 1.3333, Valid accuracy: 0.5266, Valid accuracy full: 0.4648, current LR: 0.001000\n",
            "New best model found!\n"
          ]
        },
        {
          "name": "stderr",
          "output_type": "stream",
          "text": [
            "100%|██████████| 175/175 [01:26<00:00,  2.03it/s]\n"
          ]
        },
        {
          "name": "stdout",
          "output_type": "stream",
          "text": [
            "Epoch: [28/100], Train loss: 1.3684\n"
          ]
        },
        {
          "name": "stderr",
          "output_type": "stream",
          "text": [
            "100%|██████████| 50/50 [00:10<00:00,  4.83it/s]\n"
          ]
        },
        {
          "name": "stdout",
          "output_type": "stream",
          "text": [
            "Epoch: [28/100], Valid loss: 1.3645, Valid accuracy: 0.5366, Valid accuracy full: 0.4640, current LR: 0.001000\n"
          ]
        },
        {
          "name": "stderr",
          "output_type": "stream",
          "text": [
            "100%|██████████| 175/175 [01:25<00:00,  2.04it/s]\n"
          ]
        },
        {
          "name": "stdout",
          "output_type": "stream",
          "text": [
            "Epoch: [29/100], Train loss: 1.3617\n"
          ]
        },
        {
          "name": "stderr",
          "output_type": "stream",
          "text": [
            "100%|██████████| 50/50 [00:10<00:00,  4.84it/s]\n"
          ]
        },
        {
          "name": "stdout",
          "output_type": "stream",
          "text": [
            "Epoch: [29/100], Valid loss: 1.3263, Valid accuracy: 0.5353, Valid accuracy full: 0.4614, current LR: 0.001000\n",
            "New best model found!\n"
          ]
        },
        {
          "name": "stderr",
          "output_type": "stream",
          "text": [
            "100%|██████████| 175/175 [01:26<00:00,  2.03it/s]\n"
          ]
        },
        {
          "name": "stdout",
          "output_type": "stream",
          "text": [
            "Epoch: [30/100], Train loss: 1.3578\n"
          ]
        },
        {
          "name": "stderr",
          "output_type": "stream",
          "text": [
            "100%|██████████| 50/50 [00:10<00:00,  4.92it/s]\n"
          ]
        },
        {
          "name": "stdout",
          "output_type": "stream",
          "text": [
            "Epoch: [30/100], Valid loss: 1.3294, Valid accuracy: 0.5391, Valid accuracy full: 0.4685, current LR: 0.001000\n"
          ]
        },
        {
          "name": "stderr",
          "output_type": "stream",
          "text": [
            "100%|██████████| 175/175 [01:26<00:00,  2.02it/s]\n"
          ]
        },
        {
          "name": "stdout",
          "output_type": "stream",
          "text": [
            "Epoch: [31/100], Train loss: 1.3603\n"
          ]
        },
        {
          "name": "stderr",
          "output_type": "stream",
          "text": [
            "100%|██████████| 50/50 [00:10<00:00,  4.84it/s]\n"
          ]
        },
        {
          "name": "stdout",
          "output_type": "stream",
          "text": [
            "Epoch: [31/100], Valid loss: 1.3306, Valid accuracy: 0.5341, Valid accuracy full: 0.4632, current LR: 0.001000\n"
          ]
        },
        {
          "name": "stderr",
          "output_type": "stream",
          "text": [
            "100%|██████████| 175/175 [01:26<00:00,  2.03it/s]\n"
          ]
        },
        {
          "name": "stdout",
          "output_type": "stream",
          "text": [
            "Epoch: [32/100], Train loss: 1.3426\n"
          ]
        },
        {
          "name": "stderr",
          "output_type": "stream",
          "text": [
            "100%|██████████| 50/50 [00:10<00:00,  4.83it/s]\n"
          ]
        },
        {
          "name": "stdout",
          "output_type": "stream",
          "text": [
            "Epoch: [32/100], Valid loss: 1.3192, Valid accuracy: 0.5372, Valid accuracy full: 0.4654, current LR: 0.001000\n",
            "New best model found!\n"
          ]
        },
        {
          "name": "stderr",
          "output_type": "stream",
          "text": [
            "100%|██████████| 175/175 [01:25<00:00,  2.04it/s]\n"
          ]
        },
        {
          "name": "stdout",
          "output_type": "stream",
          "text": [
            "Epoch: [33/100], Train loss: 1.3431\n"
          ]
        },
        {
          "name": "stderr",
          "output_type": "stream",
          "text": [
            "100%|██████████| 50/50 [00:10<00:00,  4.81it/s]\n"
          ]
        },
        {
          "name": "stdout",
          "output_type": "stream",
          "text": [
            "Epoch: [33/100], Valid loss: 1.3346, Valid accuracy: 0.5341, Valid accuracy full: 0.4710, current LR: 0.001000\n"
          ]
        },
        {
          "name": "stderr",
          "output_type": "stream",
          "text": [
            "100%|██████████| 175/175 [01:25<00:00,  2.04it/s]\n"
          ]
        },
        {
          "name": "stdout",
          "output_type": "stream",
          "text": [
            "Epoch: [34/100], Train loss: 1.3365\n"
          ]
        },
        {
          "name": "stderr",
          "output_type": "stream",
          "text": [
            "100%|██████████| 50/50 [00:10<00:00,  4.72it/s]\n"
          ]
        },
        {
          "name": "stdout",
          "output_type": "stream",
          "text": [
            "Epoch: [34/100], Valid loss: 1.3015, Valid accuracy: 0.5541, Valid accuracy full: 0.4758, current LR: 0.001000\n",
            "New best model found!\n"
          ]
        },
        {
          "name": "stderr",
          "output_type": "stream",
          "text": [
            "100%|██████████| 175/175 [01:26<00:00,  2.03it/s]\n"
          ]
        },
        {
          "name": "stdout",
          "output_type": "stream",
          "text": [
            "Epoch: [35/100], Train loss: 1.3350\n"
          ]
        },
        {
          "name": "stderr",
          "output_type": "stream",
          "text": [
            "100%|██████████| 50/50 [00:10<00:00,  4.79it/s]\n"
          ]
        },
        {
          "name": "stdout",
          "output_type": "stream",
          "text": [
            "Epoch: [35/100], Valid loss: 1.3115, Valid accuracy: 0.5541, Valid accuracy full: 0.4730, current LR: 0.001000\n"
          ]
        },
        {
          "name": "stderr",
          "output_type": "stream",
          "text": [
            "100%|██████████| 175/175 [01:26<00:00,  2.03it/s]\n"
          ]
        },
        {
          "name": "stdout",
          "output_type": "stream",
          "text": [
            "Epoch: [36/100], Train loss: 1.3153\n"
          ]
        },
        {
          "name": "stderr",
          "output_type": "stream",
          "text": [
            "100%|██████████| 50/50 [00:10<00:00,  4.80it/s]\n"
          ]
        },
        {
          "name": "stdout",
          "output_type": "stream",
          "text": [
            "Epoch: [36/100], Valid loss: 1.2837, Valid accuracy: 0.5560, Valid accuracy full: 0.4807, current LR: 0.001000\n",
            "New best model found!\n"
          ]
        },
        {
          "name": "stderr",
          "output_type": "stream",
          "text": [
            "100%|██████████| 175/175 [01:25<00:00,  2.04it/s]\n"
          ]
        },
        {
          "name": "stdout",
          "output_type": "stream",
          "text": [
            "Epoch: [37/100], Train loss: 1.3170\n"
          ]
        },
        {
          "name": "stderr",
          "output_type": "stream",
          "text": [
            "100%|██████████| 50/50 [00:10<00:00,  4.84it/s]\n"
          ]
        },
        {
          "name": "stdout",
          "output_type": "stream",
          "text": [
            "Epoch: [37/100], Valid loss: 1.2946, Valid accuracy: 0.5478, Valid accuracy full: 0.4737, current LR: 0.001000\n"
          ]
        },
        {
          "name": "stderr",
          "output_type": "stream",
          "text": [
            "100%|██████████| 175/175 [01:25<00:00,  2.04it/s]\n"
          ]
        },
        {
          "name": "stdout",
          "output_type": "stream",
          "text": [
            "Epoch: [38/100], Train loss: 1.3158\n"
          ]
        },
        {
          "name": "stderr",
          "output_type": "stream",
          "text": [
            "100%|██████████| 50/50 [00:10<00:00,  4.75it/s]\n"
          ]
        },
        {
          "name": "stdout",
          "output_type": "stream",
          "text": [
            "Epoch: [38/100], Valid loss: 1.2878, Valid accuracy: 0.5516, Valid accuracy full: 0.4720, current LR: 0.001000\n"
          ]
        },
        {
          "name": "stderr",
          "output_type": "stream",
          "text": [
            "100%|██████████| 175/175 [01:26<00:00,  2.03it/s]\n"
          ]
        },
        {
          "name": "stdout",
          "output_type": "stream",
          "text": [
            "Epoch: [39/100], Train loss: 1.3086\n"
          ]
        },
        {
          "name": "stderr",
          "output_type": "stream",
          "text": [
            "100%|██████████| 50/50 [00:10<00:00,  4.87it/s]\n"
          ]
        },
        {
          "name": "stdout",
          "output_type": "stream",
          "text": [
            "Epoch: [39/100], Valid loss: 1.2777, Valid accuracy: 0.5647, Valid accuracy full: 0.4834, current LR: 0.001000\n",
            "New best model found!\n"
          ]
        },
        {
          "name": "stderr",
          "output_type": "stream",
          "text": [
            "100%|██████████| 175/175 [01:26<00:00,  2.03it/s]\n"
          ]
        },
        {
          "name": "stdout",
          "output_type": "stream",
          "text": [
            "Epoch: [40/100], Train loss: 1.3044\n"
          ]
        },
        {
          "name": "stderr",
          "output_type": "stream",
          "text": [
            "100%|██████████| 50/50 [00:10<00:00,  4.83it/s]\n"
          ]
        },
        {
          "name": "stdout",
          "output_type": "stream",
          "text": [
            "Epoch: [40/100], Valid loss: 1.2779, Valid accuracy: 0.5616, Valid accuracy full: 0.4845, current LR: 0.001000\n"
          ]
        },
        {
          "name": "stderr",
          "output_type": "stream",
          "text": [
            "100%|██████████| 175/175 [01:25<00:00,  2.04it/s]\n"
          ]
        },
        {
          "name": "stdout",
          "output_type": "stream",
          "text": [
            "Epoch: [41/100], Train loss: 1.3021\n"
          ]
        },
        {
          "name": "stderr",
          "output_type": "stream",
          "text": [
            "100%|██████████| 50/50 [00:10<00:00,  4.85it/s]\n"
          ]
        },
        {
          "name": "stdout",
          "output_type": "stream",
          "text": [
            "Epoch: [41/100], Valid loss: 1.2841, Valid accuracy: 0.5641, Valid accuracy full: 0.4773, current LR: 0.001000\n"
          ]
        },
        {
          "name": "stderr",
          "output_type": "stream",
          "text": [
            "100%|██████████| 175/175 [01:26<00:00,  2.03it/s]\n"
          ]
        },
        {
          "name": "stdout",
          "output_type": "stream",
          "text": [
            "Epoch: [42/100], Train loss: 1.3007\n"
          ]
        },
        {
          "name": "stderr",
          "output_type": "stream",
          "text": [
            "100%|██████████| 50/50 [00:10<00:00,  4.85it/s]\n"
          ]
        },
        {
          "name": "stdout",
          "output_type": "stream",
          "text": [
            "Epoch: [42/100], Valid loss: 1.3012, Valid accuracy: 0.5522, Valid accuracy full: 0.4737, current LR: 0.001000\n"
          ]
        },
        {
          "name": "stderr",
          "output_type": "stream",
          "text": [
            "100%|██████████| 175/175 [01:25<00:00,  2.04it/s]\n"
          ]
        },
        {
          "name": "stdout",
          "output_type": "stream",
          "text": [
            "Epoch: [43/100], Train loss: 1.2877\n"
          ]
        },
        {
          "name": "stderr",
          "output_type": "stream",
          "text": [
            "100%|██████████| 50/50 [00:10<00:00,  4.79it/s]\n"
          ]
        },
        {
          "name": "stdout",
          "output_type": "stream",
          "text": [
            "Epoch: [43/100], Valid loss: 1.2917, Valid accuracy: 0.5535, Valid accuracy full: 0.4769, current LR: 0.001000\n"
          ]
        },
        {
          "name": "stderr",
          "output_type": "stream",
          "text": [
            "100%|██████████| 175/175 [01:26<00:00,  2.03it/s]\n"
          ]
        },
        {
          "name": "stdout",
          "output_type": "stream",
          "text": [
            "Epoch: [44/100], Train loss: 1.2807\n"
          ]
        },
        {
          "name": "stderr",
          "output_type": "stream",
          "text": [
            "100%|██████████| 50/50 [00:10<00:00,  4.83it/s]\n"
          ]
        },
        {
          "name": "stdout",
          "output_type": "stream",
          "text": [
            "Epoch: [44/100], Valid loss: 1.2845, Valid accuracy: 0.5510, Valid accuracy full: 0.4773, current LR: 0.001000\n"
          ]
        },
        {
          "name": "stderr",
          "output_type": "stream",
          "text": [
            "100%|██████████| 175/175 [01:26<00:00,  2.03it/s]\n"
          ]
        },
        {
          "name": "stdout",
          "output_type": "stream",
          "text": [
            "Epoch: [45/100], Train loss: 1.2747\n"
          ]
        },
        {
          "name": "stderr",
          "output_type": "stream",
          "text": [
            "100%|██████████| 50/50 [00:10<00:00,  4.83it/s]\n"
          ]
        },
        {
          "name": "stdout",
          "output_type": "stream",
          "text": [
            "Epoch: [45/100], Valid loss: 1.2839, Valid accuracy: 0.5478, Valid accuracy full: 0.4709, current LR: 0.001000\n"
          ]
        },
        {
          "name": "stderr",
          "output_type": "stream",
          "text": [
            "100%|██████████| 175/175 [01:25<00:00,  2.04it/s]\n"
          ]
        },
        {
          "name": "stdout",
          "output_type": "stream",
          "text": [
            "Epoch: [46/100], Train loss: 1.2769\n"
          ]
        },
        {
          "name": "stderr",
          "output_type": "stream",
          "text": [
            "100%|██████████| 50/50 [00:10<00:00,  4.83it/s]\n"
          ]
        },
        {
          "name": "stdout",
          "output_type": "stream",
          "text": [
            "Epoch: [46/100], Valid loss: 1.2852, Valid accuracy: 0.5560, Valid accuracy full: 0.4788, current LR: 0.001000\n"
          ]
        },
        {
          "name": "stderr",
          "output_type": "stream",
          "text": [
            "100%|██████████| 175/175 [01:25<00:00,  2.04it/s]\n"
          ]
        },
        {
          "name": "stdout",
          "output_type": "stream",
          "text": [
            "Epoch: [47/100], Train loss: 1.2720\n"
          ]
        },
        {
          "name": "stderr",
          "output_type": "stream",
          "text": [
            "100%|██████████| 50/50 [00:10<00:00,  4.91it/s]\n"
          ]
        },
        {
          "name": "stdout",
          "output_type": "stream",
          "text": [
            "Epoch: [47/100], Valid loss: 1.2830, Valid accuracy: 0.5491, Valid accuracy full: 0.4801, current LR: 0.001000\n"
          ]
        },
        {
          "name": "stderr",
          "output_type": "stream",
          "text": [
            "100%|██████████| 175/175 [01:26<00:00,  2.03it/s]\n"
          ]
        },
        {
          "name": "stdout",
          "output_type": "stream",
          "text": [
            "Epoch: [48/100], Train loss: 1.2695\n"
          ]
        },
        {
          "name": "stderr",
          "output_type": "stream",
          "text": [
            "100%|██████████| 50/50 [00:10<00:00,  4.74it/s]\n"
          ]
        },
        {
          "name": "stdout",
          "output_type": "stream",
          "text": [
            "Epoch: [48/100], Valid loss: 1.2843, Valid accuracy: 0.5704, Valid accuracy full: 0.4800, current LR: 0.001000\n"
          ]
        },
        {
          "name": "stderr",
          "output_type": "stream",
          "text": [
            "100%|██████████| 175/175 [01:26<00:00,  2.03it/s]\n"
          ]
        },
        {
          "name": "stdout",
          "output_type": "stream",
          "text": [
            "Epoch: [49/100], Train loss: 1.2690\n"
          ]
        },
        {
          "name": "stderr",
          "output_type": "stream",
          "text": [
            "100%|██████████| 50/50 [00:10<00:00,  4.80it/s]\n"
          ]
        },
        {
          "name": "stdout",
          "output_type": "stream",
          "text": [
            "Epoch: [49/100], Valid loss: 1.2720, Valid accuracy: 0.5610, Valid accuracy full: 0.4831, current LR: 0.001000\n",
            "New best model found!\n"
          ]
        },
        {
          "name": "stderr",
          "output_type": "stream",
          "text": [
            "100%|██████████| 175/175 [01:25<00:00,  2.04it/s]\n"
          ]
        },
        {
          "name": "stdout",
          "output_type": "stream",
          "text": [
            "Epoch: [50/100], Train loss: 1.2579\n"
          ]
        },
        {
          "name": "stderr",
          "output_type": "stream",
          "text": [
            "100%|██████████| 50/50 [00:10<00:00,  4.91it/s]\n"
          ]
        },
        {
          "name": "stdout",
          "output_type": "stream",
          "text": [
            "Epoch: [50/100], Valid loss: 1.2791, Valid accuracy: 0.5585, Valid accuracy full: 0.4778, current LR: 0.001000\n"
          ]
        },
        {
          "name": "stderr",
          "output_type": "stream",
          "text": [
            "100%|██████████| 175/175 [01:25<00:00,  2.04it/s]\n"
          ]
        },
        {
          "name": "stdout",
          "output_type": "stream",
          "text": [
            "Epoch: [51/100], Train loss: 1.2577\n"
          ]
        },
        {
          "name": "stderr",
          "output_type": "stream",
          "text": [
            "100%|██████████| 50/50 [00:10<00:00,  4.78it/s]\n"
          ]
        },
        {
          "name": "stdout",
          "output_type": "stream",
          "text": [
            "Epoch: [51/100], Valid loss: 1.2641, Valid accuracy: 0.5616, Valid accuracy full: 0.4848, current LR: 0.001000\n",
            "New best model found!\n"
          ]
        },
        {
          "name": "stderr",
          "output_type": "stream",
          "text": [
            "100%|██████████| 175/175 [01:25<00:00,  2.04it/s]\n"
          ]
        },
        {
          "name": "stdout",
          "output_type": "stream",
          "text": [
            "Epoch: [52/100], Train loss: 1.2523\n"
          ]
        },
        {
          "name": "stderr",
          "output_type": "stream",
          "text": [
            "100%|██████████| 50/50 [00:10<00:00,  4.84it/s]\n"
          ]
        },
        {
          "name": "stdout",
          "output_type": "stream",
          "text": [
            "Epoch: [52/100], Valid loss: 1.2902, Valid accuracy: 0.5497, Valid accuracy full: 0.4769, current LR: 0.001000\n"
          ]
        },
        {
          "name": "stderr",
          "output_type": "stream",
          "text": [
            "100%|██████████| 175/175 [01:25<00:00,  2.04it/s]\n"
          ]
        },
        {
          "name": "stdout",
          "output_type": "stream",
          "text": [
            "Epoch: [53/100], Train loss: 1.2534\n"
          ]
        },
        {
          "name": "stderr",
          "output_type": "stream",
          "text": [
            "100%|██████████| 50/50 [00:10<00:00,  4.82it/s]\n"
          ]
        },
        {
          "name": "stdout",
          "output_type": "stream",
          "text": [
            "Epoch: [53/100], Valid loss: 1.2760, Valid accuracy: 0.5578, Valid accuracy full: 0.4842, current LR: 0.001000\n"
          ]
        },
        {
          "name": "stderr",
          "output_type": "stream",
          "text": [
            "100%|██████████| 175/175 [01:25<00:00,  2.04it/s]\n"
          ]
        },
        {
          "name": "stdout",
          "output_type": "stream",
          "text": [
            "Epoch: [54/100], Train loss: 1.2519\n"
          ]
        },
        {
          "name": "stderr",
          "output_type": "stream",
          "text": [
            "100%|██████████| 50/50 [00:10<00:00,  4.85it/s]\n"
          ]
        },
        {
          "name": "stdout",
          "output_type": "stream",
          "text": [
            "Epoch: [54/100], Valid loss: 1.2745, Valid accuracy: 0.5572, Valid accuracy full: 0.4785, current LR: 0.001000\n"
          ]
        },
        {
          "name": "stderr",
          "output_type": "stream",
          "text": [
            "100%|██████████| 175/175 [01:26<00:00,  2.03it/s]\n"
          ]
        },
        {
          "name": "stdout",
          "output_type": "stream",
          "text": [
            "Epoch: [55/100], Train loss: 1.2436\n"
          ]
        },
        {
          "name": "stderr",
          "output_type": "stream",
          "text": [
            "100%|██████████| 50/50 [00:10<00:00,  4.87it/s]\n"
          ]
        },
        {
          "name": "stdout",
          "output_type": "stream",
          "text": [
            "Epoch: [55/100], Valid loss: 1.2650, Valid accuracy: 0.5541, Valid accuracy full: 0.4757, current LR: 0.001000\n"
          ]
        },
        {
          "name": "stderr",
          "output_type": "stream",
          "text": [
            "100%|██████████| 175/175 [01:25<00:00,  2.04it/s]\n"
          ]
        },
        {
          "name": "stdout",
          "output_type": "stream",
          "text": [
            "Epoch: [56/100], Train loss: 1.2377\n"
          ]
        },
        {
          "name": "stderr",
          "output_type": "stream",
          "text": [
            "100%|██████████| 50/50 [00:10<00:00,  4.83it/s]\n"
          ]
        },
        {
          "name": "stdout",
          "output_type": "stream",
          "text": [
            "Epoch: [56/100], Valid loss: 1.2613, Valid accuracy: 0.5566, Valid accuracy full: 0.4844, current LR: 0.001000\n",
            "New best model found!\n"
          ]
        },
        {
          "name": "stderr",
          "output_type": "stream",
          "text": [
            "100%|██████████| 175/175 [01:25<00:00,  2.04it/s]\n"
          ]
        },
        {
          "name": "stdout",
          "output_type": "stream",
          "text": [
            "Epoch: [57/100], Train loss: 1.2363\n"
          ]
        },
        {
          "name": "stderr",
          "output_type": "stream",
          "text": [
            "100%|██████████| 50/50 [00:10<00:00,  4.83it/s]\n"
          ]
        },
        {
          "name": "stdout",
          "output_type": "stream",
          "text": [
            "Epoch: [57/100], Valid loss: 1.2827, Valid accuracy: 0.5591, Valid accuracy full: 0.4797, current LR: 0.001000\n"
          ]
        },
        {
          "name": "stderr",
          "output_type": "stream",
          "text": [
            "100%|██████████| 175/175 [01:25<00:00,  2.04it/s]\n"
          ]
        },
        {
          "name": "stdout",
          "output_type": "stream",
          "text": [
            "Epoch: [58/100], Train loss: 1.2296\n"
          ]
        },
        {
          "name": "stderr",
          "output_type": "stream",
          "text": [
            "100%|██████████| 50/50 [00:10<00:00,  4.92it/s]\n"
          ]
        },
        {
          "name": "stdout",
          "output_type": "stream",
          "text": [
            "Epoch: [58/100], Valid loss: 1.2743, Valid accuracy: 0.5597, Valid accuracy full: 0.4737, current LR: 0.001000\n"
          ]
        },
        {
          "name": "stderr",
          "output_type": "stream",
          "text": [
            "100%|██████████| 175/175 [01:25<00:00,  2.04it/s]\n"
          ]
        },
        {
          "name": "stdout",
          "output_type": "stream",
          "text": [
            "Epoch: [59/100], Train loss: 1.2329\n"
          ]
        },
        {
          "name": "stderr",
          "output_type": "stream",
          "text": [
            "100%|██████████| 50/50 [00:10<00:00,  4.82it/s]\n"
          ]
        },
        {
          "name": "stdout",
          "output_type": "stream",
          "text": [
            "Epoch: [59/100], Valid loss: 1.2926, Valid accuracy: 0.5447, Valid accuracy full: 0.4695, current LR: 0.001000\n"
          ]
        },
        {
          "name": "stderr",
          "output_type": "stream",
          "text": [
            "100%|██████████| 175/175 [01:26<00:00,  2.03it/s]\n"
          ]
        },
        {
          "name": "stdout",
          "output_type": "stream",
          "text": [
            "Epoch: [60/100], Train loss: 1.2263\n"
          ]
        },
        {
          "name": "stderr",
          "output_type": "stream",
          "text": [
            "100%|██████████| 50/50 [00:10<00:00,  4.85it/s]\n"
          ]
        },
        {
          "name": "stdout",
          "output_type": "stream",
          "text": [
            "Epoch: [60/100], Valid loss: 1.2672, Valid accuracy: 0.5597, Valid accuracy full: 0.4881, current LR: 0.001000\n"
          ]
        },
        {
          "name": "stderr",
          "output_type": "stream",
          "text": [
            "100%|██████████| 175/175 [01:25<00:00,  2.04it/s]\n"
          ]
        },
        {
          "name": "stdout",
          "output_type": "stream",
          "text": [
            "Epoch: [61/100], Train loss: 1.2210\n"
          ]
        },
        {
          "name": "stderr",
          "output_type": "stream",
          "text": [
            "100%|██████████| 50/50 [00:10<00:00,  4.90it/s]\n"
          ]
        },
        {
          "name": "stdout",
          "output_type": "stream",
          "text": [
            "Epoch: [61/100], Valid loss: 1.2784, Valid accuracy: 0.5541, Valid accuracy full: 0.4780, current LR: 0.001000\n"
          ]
        },
        {
          "name": "stderr",
          "output_type": "stream",
          "text": [
            "100%|██████████| 175/175 [01:25<00:00,  2.04it/s]\n"
          ]
        },
        {
          "name": "stdout",
          "output_type": "stream",
          "text": [
            "Epoch: [62/100], Train loss: 1.2146\n"
          ]
        },
        {
          "name": "stderr",
          "output_type": "stream",
          "text": [
            "100%|██████████| 50/50 [00:10<00:00,  4.84it/s]\n"
          ]
        },
        {
          "name": "stdout",
          "output_type": "stream",
          "text": [
            "Epoch: [62/100], Valid loss: 1.2532, Valid accuracy: 0.5610, Valid accuracy full: 0.4779, current LR: 0.001000\n",
            "New best model found!\n"
          ]
        },
        {
          "name": "stderr",
          "output_type": "stream",
          "text": [
            "100%|██████████| 175/175 [01:25<00:00,  2.04it/s]\n"
          ]
        },
        {
          "name": "stdout",
          "output_type": "stream",
          "text": [
            "Epoch: [63/100], Train loss: 1.2176\n"
          ]
        },
        {
          "name": "stderr",
          "output_type": "stream",
          "text": [
            "100%|██████████| 50/50 [00:10<00:00,  4.74it/s]\n"
          ]
        },
        {
          "name": "stdout",
          "output_type": "stream",
          "text": [
            "Epoch: [63/100], Valid loss: 1.2737, Valid accuracy: 0.5660, Valid accuracy full: 0.4744, current LR: 0.001000\n"
          ]
        },
        {
          "name": "stderr",
          "output_type": "stream",
          "text": [
            "100%|██████████| 175/175 [01:26<00:00,  2.03it/s]\n"
          ]
        },
        {
          "name": "stdout",
          "output_type": "stream",
          "text": [
            "Epoch: [64/100], Train loss: 1.2177\n"
          ]
        },
        {
          "name": "stderr",
          "output_type": "stream",
          "text": [
            "100%|██████████| 50/50 [00:10<00:00,  4.86it/s]\n"
          ]
        },
        {
          "name": "stdout",
          "output_type": "stream",
          "text": [
            "Epoch: [64/100], Valid loss: 1.2563, Valid accuracy: 0.5597, Valid accuracy full: 0.4846, current LR: 0.001000\n"
          ]
        },
        {
          "name": "stderr",
          "output_type": "stream",
          "text": [
            "100%|██████████| 175/175 [01:26<00:00,  2.03it/s]\n"
          ]
        },
        {
          "name": "stdout",
          "output_type": "stream",
          "text": [
            "Epoch: [65/100], Train loss: 1.2065\n"
          ]
        },
        {
          "name": "stderr",
          "output_type": "stream",
          "text": [
            "100%|██████████| 50/50 [00:10<00:00,  4.92it/s]\n"
          ]
        },
        {
          "name": "stdout",
          "output_type": "stream",
          "text": [
            "Epoch: [65/100], Valid loss: 1.2642, Valid accuracy: 0.5697, Valid accuracy full: 0.4797, current LR: 0.001000\n"
          ]
        },
        {
          "name": "stderr",
          "output_type": "stream",
          "text": [
            "100%|██████████| 175/175 [01:25<00:00,  2.04it/s]\n"
          ]
        },
        {
          "name": "stdout",
          "output_type": "stream",
          "text": [
            "Epoch: [66/100], Train loss: 1.2149\n"
          ]
        },
        {
          "name": "stderr",
          "output_type": "stream",
          "text": [
            "100%|██████████| 50/50 [00:10<00:00,  4.86it/s]\n"
          ]
        },
        {
          "name": "stdout",
          "output_type": "stream",
          "text": [
            "Epoch: [66/100], Valid loss: 1.2509, Valid accuracy: 0.5578, Valid accuracy full: 0.4845, current LR: 0.001000\n",
            "New best model found!\n"
          ]
        },
        {
          "name": "stderr",
          "output_type": "stream",
          "text": [
            "100%|██████████| 175/175 [01:26<00:00,  2.03it/s]\n"
          ]
        },
        {
          "name": "stdout",
          "output_type": "stream",
          "text": [
            "Epoch: [67/100], Train loss: 1.2002\n"
          ]
        },
        {
          "name": "stderr",
          "output_type": "stream",
          "text": [
            "100%|██████████| 50/50 [00:10<00:00,  4.80it/s]\n"
          ]
        },
        {
          "name": "stdout",
          "output_type": "stream",
          "text": [
            "Epoch: [67/100], Valid loss: 1.2477, Valid accuracy: 0.5772, Valid accuracy full: 0.4874, current LR: 0.001000\n",
            "New best model found!\n"
          ]
        },
        {
          "name": "stderr",
          "output_type": "stream",
          "text": [
            "100%|██████████| 175/175 [01:26<00:00,  2.03it/s]\n"
          ]
        },
        {
          "name": "stdout",
          "output_type": "stream",
          "text": [
            "Epoch: [68/100], Train loss: 1.2049\n"
          ]
        },
        {
          "name": "stderr",
          "output_type": "stream",
          "text": [
            "100%|██████████| 50/50 [00:10<00:00,  4.81it/s]\n"
          ]
        },
        {
          "name": "stdout",
          "output_type": "stream",
          "text": [
            "Epoch: [68/100], Valid loss: 1.2535, Valid accuracy: 0.5660, Valid accuracy full: 0.4783, current LR: 0.001000\n"
          ]
        },
        {
          "name": "stderr",
          "output_type": "stream",
          "text": [
            "100%|██████████| 175/175 [01:26<00:00,  2.02it/s]\n"
          ]
        },
        {
          "name": "stdout",
          "output_type": "stream",
          "text": [
            "Epoch: [69/100], Train loss: 1.2084\n"
          ]
        },
        {
          "name": "stderr",
          "output_type": "stream",
          "text": [
            "100%|██████████| 50/50 [00:10<00:00,  4.88it/s]\n"
          ]
        },
        {
          "name": "stdout",
          "output_type": "stream",
          "text": [
            "Epoch: [69/100], Valid loss: 1.2492, Valid accuracy: 0.5754, Valid accuracy full: 0.4848, current LR: 0.001000\n"
          ]
        },
        {
          "name": "stderr",
          "output_type": "stream",
          "text": [
            "100%|██████████| 175/175 [01:26<00:00,  2.03it/s]\n"
          ]
        },
        {
          "name": "stdout",
          "output_type": "stream",
          "text": [
            "Epoch: [70/100], Train loss: 1.2045\n"
          ]
        },
        {
          "name": "stderr",
          "output_type": "stream",
          "text": [
            "100%|██████████| 50/50 [00:10<00:00,  4.80it/s]\n"
          ]
        },
        {
          "name": "stdout",
          "output_type": "stream",
          "text": [
            "Epoch: [70/100], Valid loss: 1.2690, Valid accuracy: 0.5666, Valid accuracy full: 0.4808, current LR: 0.001000\n"
          ]
        },
        {
          "name": "stderr",
          "output_type": "stream",
          "text": [
            "100%|██████████| 175/175 [01:26<00:00,  2.03it/s]\n"
          ]
        },
        {
          "name": "stdout",
          "output_type": "stream",
          "text": [
            "Epoch: [71/100], Train loss: 1.1917\n"
          ]
        },
        {
          "name": "stderr",
          "output_type": "stream",
          "text": [
            "100%|██████████| 50/50 [00:10<00:00,  4.79it/s]\n"
          ]
        },
        {
          "name": "stdout",
          "output_type": "stream",
          "text": [
            "Epoch: [71/100], Valid loss: 1.2530, Valid accuracy: 0.5710, Valid accuracy full: 0.4899, current LR: 0.001000\n"
          ]
        },
        {
          "name": "stderr",
          "output_type": "stream",
          "text": [
            "100%|██████████| 175/175 [01:26<00:00,  2.03it/s]\n"
          ]
        },
        {
          "name": "stdout",
          "output_type": "stream",
          "text": [
            "Epoch: [72/100], Train loss: 1.1956\n"
          ]
        },
        {
          "name": "stderr",
          "output_type": "stream",
          "text": [
            "100%|██████████| 50/50 [00:10<00:00,  4.76it/s]\n"
          ]
        },
        {
          "name": "stdout",
          "output_type": "stream",
          "text": [
            "Epoch: [72/100], Valid loss: 1.2615, Valid accuracy: 0.5629, Valid accuracy full: 0.4772, current LR: 0.001000\n"
          ]
        },
        {
          "name": "stderr",
          "output_type": "stream",
          "text": [
            "100%|██████████| 175/175 [01:25<00:00,  2.04it/s]\n"
          ]
        },
        {
          "name": "stdout",
          "output_type": "stream",
          "text": [
            "Epoch: [73/100], Train loss: 1.1860\n"
          ]
        },
        {
          "name": "stderr",
          "output_type": "stream",
          "text": [
            "100%|██████████| 50/50 [00:10<00:00,  4.88it/s]\n"
          ]
        },
        {
          "name": "stdout",
          "output_type": "stream",
          "text": [
            "Epoch: [73/100], Valid loss: 1.2430, Valid accuracy: 0.5722, Valid accuracy full: 0.4909, current LR: 0.001000\n",
            "New best model found!\n"
          ]
        },
        {
          "name": "stderr",
          "output_type": "stream",
          "text": [
            "100%|██████████| 175/175 [01:26<00:00,  2.03it/s]\n"
          ]
        },
        {
          "name": "stdout",
          "output_type": "stream",
          "text": [
            "Epoch: [74/100], Train loss: 1.1850\n"
          ]
        },
        {
          "name": "stderr",
          "output_type": "stream",
          "text": [
            "100%|██████████| 50/50 [00:10<00:00,  4.85it/s]\n"
          ]
        },
        {
          "name": "stdout",
          "output_type": "stream",
          "text": [
            "Epoch: [74/100], Valid loss: 1.2557, Valid accuracy: 0.5578, Valid accuracy full: 0.4801, current LR: 0.001000\n"
          ]
        },
        {
          "name": "stderr",
          "output_type": "stream",
          "text": [
            "100%|██████████| 175/175 [01:25<00:00,  2.04it/s]\n"
          ]
        },
        {
          "name": "stdout",
          "output_type": "stream",
          "text": [
            "Epoch: [75/100], Train loss: 1.1857\n"
          ]
        },
        {
          "name": "stderr",
          "output_type": "stream",
          "text": [
            "100%|██████████| 50/50 [00:10<00:00,  4.86it/s]\n"
          ]
        },
        {
          "name": "stdout",
          "output_type": "stream",
          "text": [
            "Epoch: [75/100], Valid loss: 1.2578, Valid accuracy: 0.5641, Valid accuracy full: 0.4808, current LR: 0.001000\n"
          ]
        },
        {
          "name": "stderr",
          "output_type": "stream",
          "text": [
            "100%|██████████| 175/175 [01:25<00:00,  2.04it/s]\n"
          ]
        },
        {
          "name": "stdout",
          "output_type": "stream",
          "text": [
            "Epoch: [76/100], Train loss: 1.1825\n"
          ]
        },
        {
          "name": "stderr",
          "output_type": "stream",
          "text": [
            "100%|██████████| 50/50 [00:10<00:00,  4.91it/s]\n"
          ]
        },
        {
          "name": "stdout",
          "output_type": "stream",
          "text": [
            "Epoch: [76/100], Valid loss: 1.2533, Valid accuracy: 0.5679, Valid accuracy full: 0.4811, current LR: 0.001000\n"
          ]
        },
        {
          "name": "stderr",
          "output_type": "stream",
          "text": [
            "100%|██████████| 175/175 [01:25<00:00,  2.04it/s]\n"
          ]
        },
        {
          "name": "stdout",
          "output_type": "stream",
          "text": [
            "Epoch: [77/100], Train loss: 1.1806\n"
          ]
        },
        {
          "name": "stderr",
          "output_type": "stream",
          "text": [
            "100%|██████████| 50/50 [00:10<00:00,  4.84it/s]\n"
          ]
        },
        {
          "name": "stdout",
          "output_type": "stream",
          "text": [
            "Epoch: [77/100], Valid loss: 1.2465, Valid accuracy: 0.5704, Valid accuracy full: 0.4841, current LR: 0.001000\n"
          ]
        },
        {
          "name": "stderr",
          "output_type": "stream",
          "text": [
            "100%|██████████| 175/175 [01:26<00:00,  2.03it/s]\n"
          ]
        },
        {
          "name": "stdout",
          "output_type": "stream",
          "text": [
            "Epoch: [78/100], Train loss: 1.1751\n"
          ]
        },
        {
          "name": "stderr",
          "output_type": "stream",
          "text": [
            "100%|██████████| 50/50 [00:10<00:00,  4.80it/s]\n"
          ]
        },
        {
          "name": "stdout",
          "output_type": "stream",
          "text": [
            "Epoch: [78/100], Valid loss: 1.2723, Valid accuracy: 0.5660, Valid accuracy full: 0.4838, current LR: 0.001000\n"
          ]
        },
        {
          "name": "stderr",
          "output_type": "stream",
          "text": [
            "100%|██████████| 175/175 [01:26<00:00,  2.03it/s]\n"
          ]
        },
        {
          "name": "stdout",
          "output_type": "stream",
          "text": [
            "Epoch: [79/100], Train loss: 1.1781\n"
          ]
        },
        {
          "name": "stderr",
          "output_type": "stream",
          "text": [
            "100%|██████████| 50/50 [00:10<00:00,  4.86it/s]\n"
          ]
        },
        {
          "name": "stdout",
          "output_type": "stream",
          "text": [
            "Epoch: [79/100], Valid loss: 1.2577, Valid accuracy: 0.5616, Valid accuracy full: 0.4871, current LR: 0.001000\n"
          ]
        },
        {
          "name": "stderr",
          "output_type": "stream",
          "text": [
            "100%|██████████| 175/175 [01:25<00:00,  2.04it/s]\n"
          ]
        },
        {
          "name": "stdout",
          "output_type": "stream",
          "text": [
            "Epoch: [80/100], Train loss: 1.1781\n"
          ]
        },
        {
          "name": "stderr",
          "output_type": "stream",
          "text": [
            "100%|██████████| 50/50 [00:10<00:00,  4.88it/s]\n"
          ]
        },
        {
          "name": "stdout",
          "output_type": "stream",
          "text": [
            "Epoch: [80/100], Valid loss: 1.2576, Valid accuracy: 0.5735, Valid accuracy full: 0.4783, current LR: 0.001000\n"
          ]
        },
        {
          "name": "stderr",
          "output_type": "stream",
          "text": [
            "100%|██████████| 175/175 [01:26<00:00,  2.03it/s]\n"
          ]
        },
        {
          "name": "stdout",
          "output_type": "stream",
          "text": [
            "Epoch: [81/100], Train loss: 1.1674\n"
          ]
        },
        {
          "name": "stderr",
          "output_type": "stream",
          "text": [
            "100%|██████████| 50/50 [00:10<00:00,  4.79it/s]\n"
          ]
        },
        {
          "name": "stdout",
          "output_type": "stream",
          "text": [
            "Epoch: [81/100], Valid loss: 1.2383, Valid accuracy: 0.5822, Valid accuracy full: 0.4848, current LR: 0.001000\n",
            "New best model found!\n"
          ]
        },
        {
          "name": "stderr",
          "output_type": "stream",
          "text": [
            "100%|██████████| 175/175 [01:26<00:00,  2.03it/s]\n"
          ]
        },
        {
          "name": "stdout",
          "output_type": "stream",
          "text": [
            "Epoch: [82/100], Train loss: 1.1665\n"
          ]
        },
        {
          "name": "stderr",
          "output_type": "stream",
          "text": [
            "100%|██████████| 50/50 [00:10<00:00,  4.86it/s]\n"
          ]
        },
        {
          "name": "stdout",
          "output_type": "stream",
          "text": [
            "Epoch: [82/100], Valid loss: 1.2514, Valid accuracy: 0.5679, Valid accuracy full: 0.4906, current LR: 0.001000\n"
          ]
        },
        {
          "name": "stderr",
          "output_type": "stream",
          "text": [
            "100%|██████████| 175/175 [01:26<00:00,  2.03it/s]\n"
          ]
        },
        {
          "name": "stdout",
          "output_type": "stream",
          "text": [
            "Epoch: [83/100], Train loss: 1.1699\n"
          ]
        },
        {
          "name": "stderr",
          "output_type": "stream",
          "text": [
            "100%|██████████| 50/50 [00:10<00:00,  4.90it/s]\n"
          ]
        },
        {
          "name": "stdout",
          "output_type": "stream",
          "text": [
            "Epoch: [83/100], Valid loss: 1.2461, Valid accuracy: 0.5722, Valid accuracy full: 0.4868, current LR: 0.001000\n"
          ]
        },
        {
          "name": "stderr",
          "output_type": "stream",
          "text": [
            "100%|██████████| 175/175 [01:26<00:00,  2.03it/s]\n"
          ]
        },
        {
          "name": "stdout",
          "output_type": "stream",
          "text": [
            "Epoch: [84/100], Train loss: 1.1554\n"
          ]
        },
        {
          "name": "stderr",
          "output_type": "stream",
          "text": [
            "100%|██████████| 50/50 [00:10<00:00,  4.85it/s]\n"
          ]
        },
        {
          "name": "stdout",
          "output_type": "stream",
          "text": [
            "Epoch: [84/100], Valid loss: 1.2551, Valid accuracy: 0.5647, Valid accuracy full: 0.4774, current LR: 0.001000\n"
          ]
        },
        {
          "name": "stderr",
          "output_type": "stream",
          "text": [
            "100%|██████████| 175/175 [01:25<00:00,  2.04it/s]\n"
          ]
        },
        {
          "name": "stdout",
          "output_type": "stream",
          "text": [
            "Epoch: [85/100], Train loss: 1.1603\n"
          ]
        },
        {
          "name": "stderr",
          "output_type": "stream",
          "text": [
            "100%|██████████| 50/50 [00:10<00:00,  4.82it/s]\n"
          ]
        },
        {
          "name": "stdout",
          "output_type": "stream",
          "text": [
            "Epoch: [85/100], Valid loss: 1.2543, Valid accuracy: 0.5779, Valid accuracy full: 0.4841, current LR: 0.001000\n"
          ]
        },
        {
          "name": "stderr",
          "output_type": "stream",
          "text": [
            "100%|██████████| 175/175 [01:25<00:00,  2.04it/s]\n"
          ]
        },
        {
          "name": "stdout",
          "output_type": "stream",
          "text": [
            "Epoch: [86/100], Train loss: 1.1626\n"
          ]
        },
        {
          "name": "stderr",
          "output_type": "stream",
          "text": [
            "100%|██████████| 50/50 [00:10<00:00,  4.87it/s]\n"
          ]
        },
        {
          "name": "stdout",
          "output_type": "stream",
          "text": [
            "Epoch: [86/100], Valid loss: 1.2400, Valid accuracy: 0.5797, Valid accuracy full: 0.4891, current LR: 0.001000\n"
          ]
        },
        {
          "name": "stderr",
          "output_type": "stream",
          "text": [
            "100%|██████████| 175/175 [01:25<00:00,  2.04it/s]\n"
          ]
        },
        {
          "name": "stdout",
          "output_type": "stream",
          "text": [
            "Epoch: [87/100], Train loss: 1.1621\n"
          ]
        },
        {
          "name": "stderr",
          "output_type": "stream",
          "text": [
            "100%|██████████| 50/50 [00:10<00:00,  4.94it/s]\n"
          ]
        },
        {
          "name": "stdout",
          "output_type": "stream",
          "text": [
            "Epoch: [87/100], Valid loss: 1.2668, Valid accuracy: 0.5791, Valid accuracy full: 0.4812, current LR: 0.001000\n"
          ]
        },
        {
          "name": "stderr",
          "output_type": "stream",
          "text": [
            "100%|██████████| 175/175 [01:26<00:00,  2.03it/s]\n"
          ]
        },
        {
          "name": "stdout",
          "output_type": "stream",
          "text": [
            "Epoch: [88/100], Train loss: 1.1598\n"
          ]
        },
        {
          "name": "stderr",
          "output_type": "stream",
          "text": [
            "100%|██████████| 50/50 [00:10<00:00,  4.81it/s]\n"
          ]
        },
        {
          "name": "stdout",
          "output_type": "stream",
          "text": [
            "Epoch: [88/100], Valid loss: 1.2428, Valid accuracy: 0.5704, Valid accuracy full: 0.4818, current LR: 0.001000\n"
          ]
        },
        {
          "name": "stderr",
          "output_type": "stream",
          "text": [
            "100%|██████████| 175/175 [01:26<00:00,  2.03it/s]\n"
          ]
        },
        {
          "name": "stdout",
          "output_type": "stream",
          "text": [
            "Epoch: [89/100], Train loss: 1.1486\n"
          ]
        },
        {
          "name": "stderr",
          "output_type": "stream",
          "text": [
            "100%|██████████| 50/50 [00:10<00:00,  4.86it/s]\n"
          ]
        },
        {
          "name": "stdout",
          "output_type": "stream",
          "text": [
            "Epoch: [89/100], Valid loss: 1.2299, Valid accuracy: 0.5754, Valid accuracy full: 0.4869, current LR: 0.001000\n",
            "New best model found!\n"
          ]
        },
        {
          "name": "stderr",
          "output_type": "stream",
          "text": [
            "100%|██████████| 175/175 [01:26<00:00,  2.03it/s]\n"
          ]
        },
        {
          "name": "stdout",
          "output_type": "stream",
          "text": [
            "Epoch: [90/100], Train loss: 1.1537\n"
          ]
        },
        {
          "name": "stderr",
          "output_type": "stream",
          "text": [
            "100%|██████████| 50/50 [00:10<00:00,  4.85it/s]\n"
          ]
        },
        {
          "name": "stdout",
          "output_type": "stream",
          "text": [
            "Epoch: [90/100], Valid loss: 1.2465, Valid accuracy: 0.5716, Valid accuracy full: 0.4820, current LR: 0.001000\n"
          ]
        },
        {
          "name": "stderr",
          "output_type": "stream",
          "text": [
            "100%|██████████| 175/175 [01:25<00:00,  2.04it/s]\n"
          ]
        },
        {
          "name": "stdout",
          "output_type": "stream",
          "text": [
            "Epoch: [91/100], Train loss: 1.1527\n"
          ]
        },
        {
          "name": "stderr",
          "output_type": "stream",
          "text": [
            "100%|██████████| 50/50 [00:10<00:00,  4.90it/s]\n"
          ]
        },
        {
          "name": "stdout",
          "output_type": "stream",
          "text": [
            "Epoch: [91/100], Valid loss: 1.2242, Valid accuracy: 0.5754, Valid accuracy full: 0.4901, current LR: 0.001000\n",
            "New best model found!\n"
          ]
        },
        {
          "name": "stderr",
          "output_type": "stream",
          "text": [
            "100%|██████████| 175/175 [01:26<00:00,  2.03it/s]\n"
          ]
        },
        {
          "name": "stdout",
          "output_type": "stream",
          "text": [
            "Epoch: [92/100], Train loss: 1.1444\n"
          ]
        },
        {
          "name": "stderr",
          "output_type": "stream",
          "text": [
            "100%|██████████| 50/50 [00:10<00:00,  4.67it/s]\n"
          ]
        },
        {
          "name": "stdout",
          "output_type": "stream",
          "text": [
            "Epoch: [92/100], Valid loss: 1.2394, Valid accuracy: 0.5779, Valid accuracy full: 0.4839, current LR: 0.001000\n"
          ]
        },
        {
          "name": "stderr",
          "output_type": "stream",
          "text": [
            "100%|██████████| 175/175 [01:26<00:00,  2.03it/s]\n"
          ]
        },
        {
          "name": "stdout",
          "output_type": "stream",
          "text": [
            "Epoch: [93/100], Train loss: 1.1494\n"
          ]
        },
        {
          "name": "stderr",
          "output_type": "stream",
          "text": [
            "100%|██████████| 50/50 [00:10<00:00,  4.72it/s]\n"
          ]
        },
        {
          "name": "stdout",
          "output_type": "stream",
          "text": [
            "Epoch: [93/100], Valid loss: 1.2407, Valid accuracy: 0.5722, Valid accuracy full: 0.4832, current LR: 0.001000\n"
          ]
        },
        {
          "name": "stderr",
          "output_type": "stream",
          "text": [
            "100%|██████████| 175/175 [01:26<00:00,  2.03it/s]\n"
          ]
        },
        {
          "name": "stdout",
          "output_type": "stream",
          "text": [
            "Epoch: [94/100], Train loss: 1.1496\n"
          ]
        },
        {
          "name": "stderr",
          "output_type": "stream",
          "text": [
            "100%|██████████| 50/50 [00:10<00:00,  4.87it/s]\n"
          ]
        },
        {
          "name": "stdout",
          "output_type": "stream",
          "text": [
            "Epoch: [94/100], Valid loss: 1.2474, Valid accuracy: 0.5735, Valid accuracy full: 0.4808, current LR: 0.001000\n"
          ]
        },
        {
          "name": "stderr",
          "output_type": "stream",
          "text": [
            "100%|██████████| 175/175 [01:26<00:00,  2.02it/s]\n"
          ]
        },
        {
          "name": "stdout",
          "output_type": "stream",
          "text": [
            "Epoch: [95/100], Train loss: 1.1408\n"
          ]
        },
        {
          "name": "stderr",
          "output_type": "stream",
          "text": [
            "100%|██████████| 50/50 [00:10<00:00,  4.87it/s]\n"
          ]
        },
        {
          "name": "stdout",
          "output_type": "stream",
          "text": [
            "Epoch: [95/100], Valid loss: 1.2353, Valid accuracy: 0.5735, Valid accuracy full: 0.4890, current LR: 0.001000\n"
          ]
        },
        {
          "name": "stderr",
          "output_type": "stream",
          "text": [
            "100%|██████████| 175/175 [01:26<00:00,  2.03it/s]\n"
          ]
        },
        {
          "name": "stdout",
          "output_type": "stream",
          "text": [
            "Epoch: [96/100], Train loss: 1.1419\n"
          ]
        },
        {
          "name": "stderr",
          "output_type": "stream",
          "text": [
            "100%|██████████| 50/50 [00:10<00:00,  4.80it/s]\n"
          ]
        },
        {
          "name": "stdout",
          "output_type": "stream",
          "text": [
            "Epoch: [96/100], Valid loss: 1.2287, Valid accuracy: 0.5754, Valid accuracy full: 0.4876, current LR: 0.001000\n"
          ]
        },
        {
          "name": "stderr",
          "output_type": "stream",
          "text": [
            "100%|██████████| 175/175 [01:25<00:00,  2.04it/s]\n"
          ]
        },
        {
          "name": "stdout",
          "output_type": "stream",
          "text": [
            "Epoch: [97/100], Train loss: 1.1407\n"
          ]
        },
        {
          "name": "stderr",
          "output_type": "stream",
          "text": [
            "100%|██████████| 50/50 [00:10<00:00,  4.68it/s]\n"
          ]
        },
        {
          "name": "stdout",
          "output_type": "stream",
          "text": [
            "Epoch: [97/100], Valid loss: 1.2477, Valid accuracy: 0.5660, Valid accuracy full: 0.4827, current LR: 0.001000\n"
          ]
        },
        {
          "name": "stderr",
          "output_type": "stream",
          "text": [
            "100%|██████████| 175/175 [01:25<00:00,  2.04it/s]\n"
          ]
        },
        {
          "name": "stdout",
          "output_type": "stream",
          "text": [
            "Epoch: [98/100], Train loss: 1.1373\n"
          ]
        },
        {
          "name": "stderr",
          "output_type": "stream",
          "text": [
            "100%|██████████| 50/50 [00:10<00:00,  4.94it/s]\n"
          ]
        },
        {
          "name": "stdout",
          "output_type": "stream",
          "text": [
            "Epoch: [98/100], Valid loss: 1.2395, Valid accuracy: 0.5660, Valid accuracy full: 0.4845, current LR: 0.001000\n"
          ]
        },
        {
          "name": "stderr",
          "output_type": "stream",
          "text": [
            "100%|██████████| 175/175 [01:25<00:00,  2.04it/s]\n"
          ]
        },
        {
          "name": "stdout",
          "output_type": "stream",
          "text": [
            "Epoch: [99/100], Train loss: 1.1380\n"
          ]
        },
        {
          "name": "stderr",
          "output_type": "stream",
          "text": [
            "100%|██████████| 50/50 [00:10<00:00,  4.85it/s]\n"
          ]
        },
        {
          "name": "stdout",
          "output_type": "stream",
          "text": [
            "Epoch: [99/100], Valid loss: 1.2507, Valid accuracy: 0.5735, Valid accuracy full: 0.4834, current LR: 0.001000\n"
          ]
        },
        {
          "name": "stderr",
          "output_type": "stream",
          "text": [
            "100%|██████████| 175/175 [01:25<00:00,  2.04it/s]\n"
          ]
        },
        {
          "name": "stdout",
          "output_type": "stream",
          "text": [
            "Epoch: [100/100], Train loss: 1.1345\n"
          ]
        },
        {
          "name": "stderr",
          "output_type": "stream",
          "text": [
            "100%|██████████| 50/50 [00:10<00:00,  4.84it/s]"
          ]
        },
        {
          "name": "stdout",
          "output_type": "stream",
          "text": [
            "Epoch: [100/100], Valid loss: 1.2419, Valid accuracy: 0.5716, Valid accuracy full: 0.4797, current LR: 0.001000\n"
          ]
        },
        {
          "name": "stderr",
          "output_type": "stream",
          "text": [
            "\n"
          ]
        }
      ],
      "source": [
        "cnn = CNN(n_chan = 8, n_genres = 8).to(device)\n",
        "\n",
        "# Send a sample to the net init all the lazy layers\n",
        "t = cnn(split_tensor_into_eight(train_spec).to(device))\n",
        "del t\n",
        "\n",
        "n_epochs = 100\n",
        "lr = 0.001\n",
        "\n",
        "loss_fn = nn.CrossEntropyLoss()\n",
        "optim = torch.optim.Adam(cnn.parameters(), lr = lr)\n",
        "scheduler = torch.optim.lr_scheduler.ReduceLROnPlateau(optim, patience=20)\n",
        "\n",
        "train_losses = []\n",
        "val_losses = []\n",
        "\n",
        "for epoch in range(n_epochs):\n",
        "    losses = []\n",
        "\n",
        "    for specs, labels in tqdm.tqdm(train_loader):\n",
        "        specs = split_tensor_into_eight(specs.to(device))\n",
        "        logits = cnn(specs.to(device))\n",
        "        loss = loss_fn(logits, torch.repeat_interleave(labels.to(device), 8))\n",
        "\n",
        "        optim.zero_grad()\n",
        "        loss.backward()\n",
        "        optim.step()\n",
        "        losses.append(loss.item())\n",
        "\n",
        "    train_loss = np.mean(losses)\n",
        "    train_losses.append(train_loss)\n",
        "    print('Epoch: [%d/%d], Train loss: %.4f' % (epoch + 1, n_epochs, train_loss))\n",
        "\n",
        "    losses = []\n",
        "    y_true = []\n",
        "    y_pred = []\n",
        "\n",
        "    y_true_full = []\n",
        "    y_pred_full = []\n",
        "\n",
        "    for specs, labels in tqdm.tqdm(valid_loader):\n",
        "        with torch.no_grad():\n",
        "            specs = split_tensor_into_eight(specs.to(device))\n",
        "            logits = cnn(specs.to(device))\n",
        "\n",
        "        _, pred_full = torch.max(logits.data, 1)\n",
        "\n",
        "        y_true_full.extend(torch.repeat_interleave(labels, 8).tolist())\n",
        "        y_pred_full.extend(pred_full.tolist())\n",
        "\n",
        "        logits = logits.unfold(0, 8, 8).permute([0, 2, 1]).mean(dim=1)\n",
        "        loss = loss_fn(logits, labels.to(device))\n",
        "        losses.append(loss.item())\n",
        "        _, pred = torch.max(logits.data, 1)\n",
        "\n",
        "        y_true.extend(labels.tolist())\n",
        "        y_pred.extend(pred.tolist())\n",
        "\n",
        "    accuracy = accuracy_score(y_true, y_pred)\n",
        "    val_loss = np.mean(losses)\n",
        "    val_losses.append(val_loss)\n",
        "    scheduler.step(val_loss)\n",
        "    print('Epoch: [%d/%d], Valid loss: %.4f, Valid accuracy: %.4f, Valid accuracy full: %.4f, current LR: %f' % (epoch+1,\n",
        "                                                                                                                 n_epochs,\n",
        "                                                                                                                 val_loss,\n",
        "                                                                                                                 accuracy,\n",
        "                                                                                                                 accuracy_score(y_true_full, y_pred_full),\n",
        "                                                                                                                 scheduler.get_last_lr()[-1]\n",
        "                                                                                                                 ))\n",
        "\n",
        "    if np.argmin(val_losses) == epoch:\n",
        "        print('New best model found!')\n",
        "        torch.save(cnn.state_dict(), 'best_model_lin_specsplit.ckpt')\n",
        "\n",
        "torch.save(cnn.state_dict(), 'final_model_lin_specsplit.ckpt')\n"
      ]
    },
    {
      "cell_type": "code",
      "execution_count": 13,
      "metadata": {
        "colab": {
          "base_uri": "https://localhost:8080/",
          "height": 998
        },
        "id": "gUEeqcWap68M",
        "outputId": "3fe4d748-a6a1-4d3e-ce5c-430a6c22e0f8"
      },
      "outputs": [
        {
          "name": "stderr",
          "output_type": "stream",
          "text": [
            "100%|██████████| 25/25 [00:05<00:00,  4.82it/s]\n"
          ]
        },
        {
          "data": {
            "image/png": "[encoded data removed]",
            "text/plain": [
              "<Figure size 640x480 with 1 Axes>"
            ]
          },
          "metadata": {},
          "output_type": "display_data"
        },
        {
          "name": "stdout",
          "output_type": "stream",
          "text": [
            "Accuracy: 0.6133\n"
          ]
        },
        {
          "data": {
            "image/png": "[encoded data removed]",
            "text/plain": [
              "<Figure size 640x480 with 2 Axes>"
            ]
          },
          "metadata": {},
          "output_type": "display_data"
        }
      ],
      "source": [
        "#torch.save(cnn.state_dict(), 'final_model_lin_specsplit.ckpt')\n",
        "#cnn.load_state_dict(torch.load('best_model_lin_specsplit.ckpt'))\n",
        "\n",
        "y_true = []\n",
        "y_pred = []\n",
        "\n",
        "for specs, labels in tqdm.tqdm(test_loader):\n",
        "    with torch.no_grad():\n",
        "        specs = split_tensor_into_eight(specs.to(device))\n",
        "        logits = cnn(specs.to(device))\n",
        "\n",
        "    logits = logits.unfold(0, 8, 8).permute([0, 2, 1]).mean(dim=1)\n",
        "    loss = loss_fn(logits, labels.to(device))\n",
        "    losses.append(loss.item())\n",
        "    _, pred = torch.max(logits.data, 1)\n",
        "\n",
        "    y_true.extend(labels.tolist())\n",
        "    y_pred.extend(pred.tolist())\n",
        "\n",
        "plt.plot(train_losses)\n",
        "plt.plot(val_losses)\n",
        "plt.show()\n",
        "\n",
        "l = ['Electronic', 'Experimental', 'Folk', 'Hip-Hop', 'Instrumental', 'International', 'Pop', 'Rock']\n",
        "accuracy = accuracy_score(y_true, y_pred)\n",
        "cm = confusion_matrix(y_true, y_pred)\n",
        "#sns.heatmap(cm, annot=True, xticklabels=l, yticklabels=l, cmap='YlGnBu', fmt='d')\n",
        "print('Accuracy: %.4f' % accuracy)\n",
        "\n",
        "\n",
        "disp = ConfusionMatrixDisplay(confusion_matrix=cm, display_labels=l)\n",
        "\n",
        "disp.plot(cmap=plt.cm.Blues)\n",
        "plt.xticks(rotation=90, ha='right')\n",
        "plt.title(\"Confusion Matrix\")\n",
        "plt.show()\n",
        "\n",
        "np.save('y_true_model_2.npy', np.array(y_true))\n",
        "np.save('y_pred_model_2.npy', np.array(y_pred))"
      ]
    },
    {
      "cell_type": "code",
      "execution_count": null,
      "metadata": {},
      "outputs": [
        {
          "name": "stderr",
          "output_type": "stream",
          "text": [
            "<ipython-input-16-05785150090c>:1: FutureWarning: You are using `torch.load` with `weights_only=False` (the current default value), which uses the default pickle module implicitly. It is possible to construct malicious pickle data which will execute arbitrary code during unpickling (See https://github.com/pytorch/pytorch/blob/main/SECURITY.md#untrusted-models for more details). In a future release, the default value for `weights_only` will be flipped to `True`. This limits the functions that could be executed during unpickling. Arbitrary objects will no longer be allowed to be loaded via this mode unless they are explicitly allowlisted by the user via `torch.serialization.add_safe_globals`. We recommend you start setting `weights_only=True` for any use case where you don't have full control of the loaded file. Please open an issue on GitHub for any issues related to this experimental feature.\n",
            "  cnn.load_state_dict(torch.load('final_model_lin_specsplit.ckpt'))\n",
            "100%|██████████| 175/175 [01:26<00:00,  2.02it/s]\n"
          ]
        },
        {
          "name": "stdout",
          "output_type": "stream",
          "text": [
            "Epoch: [1/20], Train loss: 1.1021\n"
          ]
        },
        {
          "name": "stderr",
          "output_type": "stream",
          "text": [
            "100%|██████████| 50/50 [00:10<00:00,  4.76it/s]\n"
          ]
        },
        {
          "name": "stdout",
          "output_type": "stream",
          "text": [
            "Epoch: [1/20], Valid loss: 1.2310, Valid accuracy: 0.5735, Valid accuracy full: 0.4916, current LR: 0.000100\n",
            "New best model found!\n"
          ]
        },
        {
          "name": "stderr",
          "output_type": "stream",
          "text": [
            "100%|██████████| 175/175 [01:25<00:00,  2.04it/s]\n"
          ]
        },
        {
          "name": "stdout",
          "output_type": "stream",
          "text": [
            "Epoch: [2/20], Train loss: 1.0903\n"
          ]
        },
        {
          "name": "stderr",
          "output_type": "stream",
          "text": [
            "100%|██████████| 50/50 [00:10<00:00,  4.80it/s]\n"
          ]
        },
        {
          "name": "stdout",
          "output_type": "stream",
          "text": [
            "Epoch: [2/20], Valid loss: 1.2188, Valid accuracy: 0.5754, Valid accuracy full: 0.4939, current LR: 0.000100\n",
            "New best model found!\n"
          ]
        },
        {
          "name": "stderr",
          "output_type": "stream",
          "text": [
            "100%|██████████| 175/175 [01:26<00:00,  2.03it/s]\n"
          ]
        },
        {
          "name": "stdout",
          "output_type": "stream",
          "text": [
            "Epoch: [3/20], Train loss: 1.0840\n"
          ]
        },
        {
          "name": "stderr",
          "output_type": "stream",
          "text": [
            "100%|██████████| 50/50 [00:10<00:00,  4.75it/s]\n"
          ]
        },
        {
          "name": "stdout",
          "output_type": "stream",
          "text": [
            "Epoch: [3/20], Valid loss: 1.2236, Valid accuracy: 0.5847, Valid accuracy full: 0.4892, current LR: 0.000100\n"
          ]
        },
        {
          "name": "stderr",
          "output_type": "stream",
          "text": [
            "100%|██████████| 175/175 [01:25<00:00,  2.04it/s]\n"
          ]
        },
        {
          "name": "stdout",
          "output_type": "stream",
          "text": [
            "Epoch: [4/20], Train loss: 1.0762\n"
          ]
        },
        {
          "name": "stderr",
          "output_type": "stream",
          "text": [
            "100%|██████████| 50/50 [00:10<00:00,  4.69it/s]\n"
          ]
        },
        {
          "name": "stdout",
          "output_type": "stream",
          "text": [
            "Epoch: [4/20], Valid loss: 1.2265, Valid accuracy: 0.5735, Valid accuracy full: 0.4889, current LR: 0.000100\n"
          ]
        },
        {
          "name": "stderr",
          "output_type": "stream",
          "text": [
            "100%|██████████| 175/175 [01:26<00:00,  2.02it/s]\n"
          ]
        },
        {
          "name": "stdout",
          "output_type": "stream",
          "text": [
            "Epoch: [5/20], Train loss: 1.0824\n"
          ]
        },
        {
          "name": "stderr",
          "output_type": "stream",
          "text": [
            "100%|██████████| 50/50 [00:10<00:00,  4.78it/s]\n"
          ]
        },
        {
          "name": "stdout",
          "output_type": "stream",
          "text": [
            "Epoch: [5/20], Valid loss: 1.2164, Valid accuracy: 0.5916, Valid accuracy full: 0.4970, current LR: 0.000100\n",
            "New best model found!\n"
          ]
        },
        {
          "name": "stderr",
          "output_type": "stream",
          "text": [
            " 53%|█████▎    | 93/175 [00:45<00:40,  2.04it/s]"
          ]
        }
      ],
      "source": [
        "cnn.load_state_dict(torch.load('final_model_lin_specsplit.ckpt'))\n",
        "\n",
        "n_epochs = 20\n",
        "lr = 0.0001\n",
        "\n",
        "loss_fn = nn.CrossEntropyLoss()\n",
        "optim = torch.optim.Adam(cnn.parameters(), lr = lr)\n",
        "scheduler = torch.optim.lr_scheduler.ReduceLROnPlateau(optim, patience=20)\n",
        "\n",
        "train_losses = []\n",
        "val_losses = []\n",
        "\n",
        "for epoch in range(n_epochs):\n",
        "    losses = []\n",
        "\n",
        "    for specs, labels in tqdm.tqdm(train_loader):\n",
        "        specs = split_tensor_into_eight(specs.to(device))\n",
        "        logits = cnn(specs.to(device))\n",
        "        loss = loss_fn(logits, torch.repeat_interleave(labels.to(device), 8))\n",
        "\n",
        "        optim.zero_grad()\n",
        "        loss.backward()\n",
        "        optim.step()\n",
        "        losses.append(loss.item())\n",
        "\n",
        "    train_loss = np.mean(losses)\n",
        "    train_losses.append(train_loss)\n",
        "    print('Epoch: [%d/%d], Train loss: %.4f' % (epoch + 1, n_epochs, train_loss))\n",
        "\n",
        "    losses = []\n",
        "    y_true = []\n",
        "    y_pred = []\n",
        "\n",
        "    y_true_full = []\n",
        "    y_pred_full = []\n",
        "\n",
        "    for specs, labels in tqdm.tqdm(valid_loader):\n",
        "        with torch.no_grad():\n",
        "            specs = split_tensor_into_eight(specs.to(device))\n",
        "            logits = cnn(specs.to(device))\n",
        "\n",
        "        _, pred_full = torch.max(logits.data, 1)\n",
        "\n",
        "        y_true_full.extend(torch.repeat_interleave(labels, 8).tolist())\n",
        "        y_pred_full.extend(pred_full.tolist())\n",
        "\n",
        "        logits = logits.unfold(0, 8, 8).permute([0, 2, 1]).mean(dim=1)\n",
        "        loss = loss_fn(logits, labels.to(device))\n",
        "        losses.append(loss.item())\n",
        "        _, pred = torch.max(logits.data, 1)\n",
        "\n",
        "        y_true.extend(labels.tolist())\n",
        "        y_pred.extend(pred.tolist())\n",
        "\n",
        "    accuracy = accuracy_score(y_true, y_pred)\n",
        "    val_loss = np.mean(losses)\n",
        "    val_losses.append(val_loss)\n",
        "    scheduler.step(val_loss)\n",
        "    print('Epoch: [%d/%d], Valid loss: %.4f, Valid accuracy: %.4f, Valid accuracy full: %.4f, current LR: %f' % (epoch+1,\n",
        "                                                                                                                 n_epochs,\n",
        "                                                                                                                 val_loss,\n",
        "                                                                                                                 accuracy,\n",
        "                                                                                                                 accuracy_score(y_true_full, y_pred_full),\n",
        "                                                                                                                 scheduler.get_last_lr()[-1]\n",
        "                                                                                                                 ))\n",
        "\n",
        "    if np.argmin(val_losses) == epoch:\n",
        "        print('New best model found!')\n",
        "        torch.save(cnn.state_dict(), 'best_model_lin_specsplit.ckpt')\n",
        "\n",
        "torch.save(cnn.state_dict(), 'final_model_lin_specsplit.ckpt')\n",
        "# Output here is broken?"
      ]
    },
    {
      "cell_type": "code",
      "execution_count": null,
      "metadata": {},
      "outputs": [
        {
          "name": "stderr",
          "output_type": "stream",
          "text": [
            "100%|██████████| 25/25 [00:05<00:00,  4.57it/s]\n"
          ]
        },
        {
          "name": "stdout",
          "output_type": "stream",
          "text": [
            "Accuracy: 0.6446\n"
          ]
        },
        {
          "data": {
            "image/png": "[encoded data removed]",
            "text/plain": [
              "<Figure size 640x480 with 2 Axes>"
            ]
          },
          "metadata": {},
          "output_type": "display_data"
        }
      ],
      "source": [
        "y_true = []\n",
        "y_pred = []\n",
        "\n",
        "for specs, labels in tqdm.tqdm(test_loader):\n",
        "    with torch.no_grad():\n",
        "        specs = split_tensor_into_eight(specs.to(device))\n",
        "        logits = cnn(specs.to(device))\n",
        "\n",
        "    logits = logits.unfold(0, 8, 8).permute([0, 2, 1]).mean(dim=1)\n",
        "    loss = loss_fn(logits, labels.to(device))\n",
        "    losses.append(loss.item())\n",
        "    _, pred = torch.max(logits.data, 1)\n",
        "\n",
        "    y_true.extend(labels.tolist())\n",
        "    y_pred.extend(pred.tolist())\n",
        "\n",
        "\n",
        "l = ['Electronic', 'Experimental', 'Folk', 'Hip-Hop', 'Instrumental', 'International', 'Pop', 'Rock']\n",
        "accuracy = accuracy_score(y_true, y_pred)\n",
        "cm = confusion_matrix(y_true, y_pred)\n",
        "print('Accuracy: %.4f' % accuracy)\n",
        "\n",
        "disp = ConfusionMatrixDisplay(confusion_matrix=cm, display_labels=l)\n",
        "\n",
        "disp.plot(cmap=plt.cm.Blues)\n",
        "plt.xticks(rotation=90, ha='right')\n",
        "plt.title(\"Confusion Matrix\")\n",
        "plt.show()\n",
        "\n",
        "np.save('y_true_model_2.npy', np.array(y_true))\n",
        "np.save('y_pred_model_2.npy', np.array(y_pred))"
      ]
    },
    {
      "cell_type": "code",
      "execution_count": 18,
      "metadata": {
        "id": "2C0wrypThm80"
      },
      "outputs": [],
      "source": [
        "class Conv1d_layer(nn.Module):\n",
        "    def __init__(self, out_c, kernel_size, pooling, dropout=0.1):\n",
        "        super(Conv1d_layer, self).__init__()\n",
        "        self.layer = nn.Sequential(\n",
        "            nn.LazyConv1d(out_c, kernel_size, padding = kernel_size // 2),\n",
        "            nn.BatchNorm1d(out_c),\n",
        "            nn.ReLU(),\n",
        "            nn.MaxPool1d(pooling, stride = pooling),\n",
        "            nn.Dropout(dropout)\n",
        "        )\n",
        "\n",
        "    def forward(self, data):\n",
        "        return self.layer(data)\n",
        "\n",
        "class CNN_1DConv(nn.Module):\n",
        "    def __init__(self, n_chan, kernel_size, n_genres):\n",
        "        super(CNN_1DConv, self).__init__()\n",
        "\n",
        "        self.convnet = nn.Sequential(\n",
        "            nn.BatchNorm1d(n_chan),\n",
        "            Conv1d_layer(n_chan * 3 // 4, kernel_size, pooling=4, dropout=0.25),\n",
        "            Conv1d_layer(n_chan // 2, kernel_size, pooling=4, dropout=0.25),\n",
        "            Conv1d_layer(n_chan // 2, kernel_size, pooling=4, dropout=0.25),\n",
        "        )\n",
        "\n",
        "        self.linear = nn.Sequential(\n",
        "            nn.Flatten(),\n",
        "            nn.LazyLinear(128),\n",
        "            nn.ReLU(),\n",
        "            nn.Dropout(),\n",
        "            nn.LazyLinear(n_genres)\n",
        "        )\n",
        "\n",
        "    def forward(self, spec, hidden = None):\n",
        "        return self.linear(self.convnet(spec))"
      ]
    },
    {
      "cell_type": "code",
      "execution_count": 19,
      "metadata": {
        "colab": {
          "base_uri": "https://localhost:8080/"
        },
        "id": "wyNnVc7Pi2nY",
        "outputId": "89cb371a-2a58-48bd-a9a2-d10d7793e1cf"
      },
      "outputs": [
        {
          "name": "stderr",
          "output_type": "stream",
          "text": [
            "100%|██████████| 175/175 [00:10<00:00, 15.97it/s]\n"
          ]
        },
        {
          "name": "stdout",
          "output_type": "stream",
          "text": [
            "Epoch: [1/100], Train loss: 1.8378\n"
          ]
        },
        {
          "name": "stderr",
          "output_type": "stream",
          "text": [
            "100%|██████████| 50/50 [00:02<00:00, 22.29it/s]\n"
          ]
        },
        {
          "name": "stdout",
          "output_type": "stream",
          "text": [
            "Epoch: [1/100], Valid loss: 1.6798, Valid accuracy: 0.3815, Valid accuracy full: 0.3473, current LR: 0.001000\n",
            "New best model found!\n"
          ]
        },
        {
          "name": "stderr",
          "output_type": "stream",
          "text": [
            "100%|██████████| 175/175 [00:10<00:00, 17.38it/s]\n"
          ]
        },
        {
          "name": "stdout",
          "output_type": "stream",
          "text": [
            "Epoch: [2/100], Train loss: 1.7150\n"
          ]
        },
        {
          "name": "stderr",
          "output_type": "stream",
          "text": [
            "100%|██████████| 50/50 [00:02<00:00, 21.25it/s]\n"
          ]
        },
        {
          "name": "stdout",
          "output_type": "stream",
          "text": [
            "Epoch: [2/100], Valid loss: 1.6070, Valid accuracy: 0.4153, Valid accuracy full: 0.3807, current LR: 0.001000\n",
            "New best model found!\n"
          ]
        },
        {
          "name": "stderr",
          "output_type": "stream",
          "text": [
            "100%|██████████| 175/175 [00:09<00:00, 19.01it/s]\n"
          ]
        },
        {
          "name": "stdout",
          "output_type": "stream",
          "text": [
            "Epoch: [3/100], Train loss: 1.6785\n"
          ]
        },
        {
          "name": "stderr",
          "output_type": "stream",
          "text": [
            "100%|██████████| 50/50 [00:02<00:00, 19.24it/s]\n"
          ]
        },
        {
          "name": "stdout",
          "output_type": "stream",
          "text": [
            "Epoch: [3/100], Valid loss: 1.5446, Valid accuracy: 0.4403, Valid accuracy full: 0.3968, current LR: 0.001000\n",
            "New best model found!\n"
          ]
        },
        {
          "name": "stderr",
          "output_type": "stream",
          "text": [
            "100%|██████████| 175/175 [00:08<00:00, 20.37it/s]\n"
          ]
        },
        {
          "name": "stdout",
          "output_type": "stream",
          "text": [
            "Epoch: [4/100], Train loss: 1.6476\n"
          ]
        },
        {
          "name": "stderr",
          "output_type": "stream",
          "text": [
            "100%|██████████| 50/50 [00:02<00:00, 22.87it/s]\n"
          ]
        },
        {
          "name": "stdout",
          "output_type": "stream",
          "text": [
            "Epoch: [4/100], Valid loss: 1.5660, Valid accuracy: 0.4365, Valid accuracy full: 0.3974, current LR: 0.001000\n"
          ]
        },
        {
          "name": "stderr",
          "output_type": "stream",
          "text": [
            "100%|██████████| 175/175 [00:09<00:00, 18.24it/s]\n"
          ]
        },
        {
          "name": "stdout",
          "output_type": "stream",
          "text": [
            "Epoch: [5/100], Train loss: 1.6209\n"
          ]
        },
        {
          "name": "stderr",
          "output_type": "stream",
          "text": [
            "100%|██████████| 50/50 [00:02<00:00, 24.08it/s]\n"
          ]
        },
        {
          "name": "stdout",
          "output_type": "stream",
          "text": [
            "Epoch: [5/100], Valid loss: 1.5071, Valid accuracy: 0.4597, Valid accuracy full: 0.4165, current LR: 0.001000\n",
            "New best model found!\n"
          ]
        },
        {
          "name": "stderr",
          "output_type": "stream",
          "text": [
            "100%|██████████| 175/175 [00:09<00:00, 18.76it/s]\n"
          ]
        },
        {
          "name": "stdout",
          "output_type": "stream",
          "text": [
            "Epoch: [6/100], Train loss: 1.5777\n"
          ]
        },
        {
          "name": "stderr",
          "output_type": "stream",
          "text": [
            "100%|██████████| 50/50 [00:02<00:00, 24.29it/s]\n"
          ]
        },
        {
          "name": "stdout",
          "output_type": "stream",
          "text": [
            "Epoch: [6/100], Valid loss: 1.4814, Valid accuracy: 0.4778, Valid accuracy full: 0.4296, current LR: 0.001000\n",
            "New best model found!\n"
          ]
        },
        {
          "name": "stderr",
          "output_type": "stream",
          "text": [
            "100%|██████████| 175/175 [00:09<00:00, 18.57it/s]\n"
          ]
        },
        {
          "name": "stdout",
          "output_type": "stream",
          "text": [
            "Epoch: [7/100], Train loss: 1.5502\n"
          ]
        },
        {
          "name": "stderr",
          "output_type": "stream",
          "text": [
            "100%|██████████| 50/50 [00:02<00:00, 24.38it/s]\n"
          ]
        },
        {
          "name": "stdout",
          "output_type": "stream",
          "text": [
            "Epoch: [7/100], Valid loss: 1.4614, Valid accuracy: 0.4891, Valid accuracy full: 0.4450, current LR: 0.001000\n",
            "New best model found!\n"
          ]
        },
        {
          "name": "stderr",
          "output_type": "stream",
          "text": [
            "100%|██████████| 175/175 [00:08<00:00, 19.68it/s]\n"
          ]
        },
        {
          "name": "stdout",
          "output_type": "stream",
          "text": [
            "Epoch: [8/100], Train loss: 1.5227\n"
          ]
        },
        {
          "name": "stderr",
          "output_type": "stream",
          "text": [
            "100%|██████████| 50/50 [00:02<00:00, 18.66it/s]\n"
          ]
        },
        {
          "name": "stdout",
          "output_type": "stream",
          "text": [
            "Epoch: [8/100], Valid loss: 1.4229, Valid accuracy: 0.5097, Valid accuracy full: 0.4498, current LR: 0.001000\n",
            "New best model found!\n"
          ]
        },
        {
          "name": "stderr",
          "output_type": "stream",
          "text": [
            "100%|██████████| 175/175 [00:09<00:00, 19.28it/s]\n"
          ]
        },
        {
          "name": "stdout",
          "output_type": "stream",
          "text": [
            "Epoch: [9/100], Train loss: 1.5048\n"
          ]
        },
        {
          "name": "stderr",
          "output_type": "stream",
          "text": [
            "100%|██████████| 50/50 [00:02<00:00, 20.07it/s]\n"
          ]
        },
        {
          "name": "stdout",
          "output_type": "stream",
          "text": [
            "Epoch: [9/100], Valid loss: 1.4112, Valid accuracy: 0.5078, Valid accuracy full: 0.4511, current LR: 0.001000\n",
            "New best model found!\n"
          ]
        },
        {
          "name": "stderr",
          "output_type": "stream",
          "text": [
            "100%|██████████| 175/175 [00:09<00:00, 19.21it/s]\n"
          ]
        },
        {
          "name": "stdout",
          "output_type": "stream",
          "text": [
            "Epoch: [10/100], Train loss: 1.4887\n"
          ]
        },
        {
          "name": "stderr",
          "output_type": "stream",
          "text": [
            "100%|██████████| 50/50 [00:01<00:00, 25.21it/s]\n"
          ]
        },
        {
          "name": "stdout",
          "output_type": "stream",
          "text": [
            "Epoch: [10/100], Valid loss: 1.3795, Valid accuracy: 0.5172, Valid accuracy full: 0.4617, current LR: 0.001000\n",
            "New best model found!\n"
          ]
        },
        {
          "name": "stderr",
          "output_type": "stream",
          "text": [
            "100%|██████████| 175/175 [00:09<00:00, 17.93it/s]\n"
          ]
        },
        {
          "name": "stdout",
          "output_type": "stream",
          "text": [
            "Epoch: [11/100], Train loss: 1.4676\n"
          ]
        },
        {
          "name": "stderr",
          "output_type": "stream",
          "text": [
            "100%|██████████| 50/50 [00:02<00:00, 24.50it/s]\n"
          ]
        },
        {
          "name": "stdout",
          "output_type": "stream",
          "text": [
            "Epoch: [11/100], Valid loss: 1.4277, Valid accuracy: 0.5009, Valid accuracy full: 0.4473, current LR: 0.001000\n"
          ]
        },
        {
          "name": "stderr",
          "output_type": "stream",
          "text": [
            "100%|██████████| 175/175 [00:09<00:00, 18.52it/s]\n"
          ]
        },
        {
          "name": "stdout",
          "output_type": "stream",
          "text": [
            "Epoch: [12/100], Train loss: 1.4621\n"
          ]
        },
        {
          "name": "stderr",
          "output_type": "stream",
          "text": [
            "100%|██████████| 50/50 [00:02<00:00, 23.91it/s]\n"
          ]
        },
        {
          "name": "stdout",
          "output_type": "stream",
          "text": [
            "Epoch: [12/100], Valid loss: 1.3807, Valid accuracy: 0.5197, Valid accuracy full: 0.4651, current LR: 0.001000\n"
          ]
        },
        {
          "name": "stderr",
          "output_type": "stream",
          "text": [
            "100%|██████████| 175/175 [00:09<00:00, 18.89it/s]\n"
          ]
        },
        {
          "name": "stdout",
          "output_type": "stream",
          "text": [
            "Epoch: [13/100], Train loss: 1.4463\n"
          ]
        },
        {
          "name": "stderr",
          "output_type": "stream",
          "text": [
            "100%|██████████| 50/50 [00:02<00:00, 24.25it/s]\n"
          ]
        },
        {
          "name": "stdout",
          "output_type": "stream",
          "text": [
            "Epoch: [13/100], Valid loss: 1.3399, Valid accuracy: 0.5347, Valid accuracy full: 0.4761, current LR: 0.001000\n",
            "New best model found!\n"
          ]
        },
        {
          "name": "stderr",
          "output_type": "stream",
          "text": [
            "100%|██████████| 175/175 [00:08<00:00, 20.15it/s]\n"
          ]
        },
        {
          "name": "stdout",
          "output_type": "stream",
          "text": [
            "Epoch: [14/100], Train loss: 1.4335\n"
          ]
        },
        {
          "name": "stderr",
          "output_type": "stream",
          "text": [
            "100%|██████████| 50/50 [00:02<00:00, 18.38it/s]\n"
          ]
        },
        {
          "name": "stdout",
          "output_type": "stream",
          "text": [
            "Epoch: [14/100], Valid loss: 1.3579, Valid accuracy: 0.5247, Valid accuracy full: 0.4740, current LR: 0.001000\n"
          ]
        },
        {
          "name": "stderr",
          "output_type": "stream",
          "text": [
            "100%|██████████| 175/175 [00:09<00:00, 18.56it/s]\n"
          ]
        },
        {
          "name": "stdout",
          "output_type": "stream",
          "text": [
            "Epoch: [15/100], Train loss: 1.4258\n"
          ]
        },
        {
          "name": "stderr",
          "output_type": "stream",
          "text": [
            "100%|██████████| 50/50 [00:02<00:00, 22.83it/s]\n"
          ]
        },
        {
          "name": "stdout",
          "output_type": "stream",
          "text": [
            "Epoch: [15/100], Valid loss: 1.3506, Valid accuracy: 0.5328, Valid accuracy full: 0.4796, current LR: 0.001000\n"
          ]
        },
        {
          "name": "stderr",
          "output_type": "stream",
          "text": [
            "100%|██████████| 175/175 [00:09<00:00, 17.90it/s]\n"
          ]
        },
        {
          "name": "stdout",
          "output_type": "stream",
          "text": [
            "Epoch: [16/100], Train loss: 1.4134\n"
          ]
        },
        {
          "name": "stderr",
          "output_type": "stream",
          "text": [
            "100%|██████████| 50/50 [00:02<00:00, 22.73it/s]\n"
          ]
        },
        {
          "name": "stdout",
          "output_type": "stream",
          "text": [
            "Epoch: [16/100], Valid loss: 1.3485, Valid accuracy: 0.5303, Valid accuracy full: 0.4797, current LR: 0.001000\n"
          ]
        },
        {
          "name": "stderr",
          "output_type": "stream",
          "text": [
            "100%|██████████| 175/175 [00:09<00:00, 18.36it/s]\n"
          ]
        },
        {
          "name": "stdout",
          "output_type": "stream",
          "text": [
            "Epoch: [17/100], Train loss: 1.3968\n"
          ]
        },
        {
          "name": "stderr",
          "output_type": "stream",
          "text": [
            "100%|██████████| 50/50 [00:02<00:00, 24.20it/s]\n"
          ]
        },
        {
          "name": "stdout",
          "output_type": "stream",
          "text": [
            "Epoch: [17/100], Valid loss: 1.3057, Valid accuracy: 0.5428, Valid accuracy full: 0.4812, current LR: 0.001000\n",
            "New best model found!\n"
          ]
        },
        {
          "name": "stderr",
          "output_type": "stream",
          "text": [
            "100%|██████████| 175/175 [00:09<00:00, 18.50it/s]\n"
          ]
        },
        {
          "name": "stdout",
          "output_type": "stream",
          "text": [
            "Epoch: [18/100], Train loss: 1.3806\n"
          ]
        },
        {
          "name": "stderr",
          "output_type": "stream",
          "text": [
            "100%|██████████| 50/50 [00:01<00:00, 25.16it/s]\n"
          ]
        },
        {
          "name": "stdout",
          "output_type": "stream",
          "text": [
            "Epoch: [18/100], Valid loss: 1.3606, Valid accuracy: 0.5228, Valid accuracy full: 0.4710, current LR: 0.001000\n"
          ]
        },
        {
          "name": "stderr",
          "output_type": "stream",
          "text": [
            "100%|██████████| 175/175 [00:09<00:00, 18.36it/s]\n"
          ]
        },
        {
          "name": "stdout",
          "output_type": "stream",
          "text": [
            "Epoch: [19/100], Train loss: 1.3763\n"
          ]
        },
        {
          "name": "stderr",
          "output_type": "stream",
          "text": [
            "100%|██████████| 50/50 [00:02<00:00, 18.22it/s]\n"
          ]
        },
        {
          "name": "stdout",
          "output_type": "stream",
          "text": [
            "Epoch: [19/100], Valid loss: 1.3279, Valid accuracy: 0.5353, Valid accuracy full: 0.4766, current LR: 0.001000\n"
          ]
        },
        {
          "name": "stderr",
          "output_type": "stream",
          "text": [
            "100%|██████████| 175/175 [00:08<00:00, 20.36it/s]\n"
          ]
        },
        {
          "name": "stdout",
          "output_type": "stream",
          "text": [
            "Epoch: [20/100], Train loss: 1.3806\n"
          ]
        },
        {
          "name": "stderr",
          "output_type": "stream",
          "text": [
            "100%|██████████| 50/50 [00:02<00:00, 23.09it/s]\n"
          ]
        },
        {
          "name": "stdout",
          "output_type": "stream",
          "text": [
            "Epoch: [20/100], Valid loss: 1.3440, Valid accuracy: 0.5428, Valid accuracy full: 0.4756, current LR: 0.001000\n"
          ]
        },
        {
          "name": "stderr",
          "output_type": "stream",
          "text": [
            "100%|██████████| 175/175 [00:09<00:00, 19.05it/s]\n"
          ]
        },
        {
          "name": "stdout",
          "output_type": "stream",
          "text": [
            "Epoch: [21/100], Train loss: 1.3601\n"
          ]
        },
        {
          "name": "stderr",
          "output_type": "stream",
          "text": [
            "100%|██████████| 50/50 [00:02<00:00, 23.80it/s]\n"
          ]
        },
        {
          "name": "stdout",
          "output_type": "stream",
          "text": [
            "Epoch: [21/100], Valid loss: 1.3376, Valid accuracy: 0.5316, Valid accuracy full: 0.4783, current LR: 0.001000\n"
          ]
        },
        {
          "name": "stderr",
          "output_type": "stream",
          "text": [
            "100%|██████████| 175/175 [00:09<00:00, 18.55it/s]\n"
          ]
        },
        {
          "name": "stdout",
          "output_type": "stream",
          "text": [
            "Epoch: [22/100], Train loss: 1.3513\n"
          ]
        },
        {
          "name": "stderr",
          "output_type": "stream",
          "text": [
            "100%|██████████| 50/50 [00:02<00:00, 23.68it/s]\n"
          ]
        },
        {
          "name": "stdout",
          "output_type": "stream",
          "text": [
            "Epoch: [22/100], Valid loss: 1.3178, Valid accuracy: 0.5397, Valid accuracy full: 0.4834, current LR: 0.001000\n"
          ]
        },
        {
          "name": "stderr",
          "output_type": "stream",
          "text": [
            "100%|██████████| 175/175 [00:09<00:00, 18.64it/s]\n"
          ]
        },
        {
          "name": "stdout",
          "output_type": "stream",
          "text": [
            "Epoch: [23/100], Train loss: 1.3365\n"
          ]
        },
        {
          "name": "stderr",
          "output_type": "stream",
          "text": [
            "100%|██████████| 50/50 [00:01<00:00, 25.14it/s]\n"
          ]
        },
        {
          "name": "stdout",
          "output_type": "stream",
          "text": [
            "Epoch: [23/100], Valid loss: 1.2937, Valid accuracy: 0.5478, Valid accuracy full: 0.4909, current LR: 0.001000\n",
            "New best model found!\n"
          ]
        },
        {
          "name": "stderr",
          "output_type": "stream",
          "text": [
            "100%|██████████| 175/175 [00:08<00:00, 19.68it/s]\n"
          ]
        },
        {
          "name": "stdout",
          "output_type": "stream",
          "text": [
            "Epoch: [24/100], Train loss: 1.3224\n"
          ]
        },
        {
          "name": "stderr",
          "output_type": "stream",
          "text": [
            "100%|██████████| 50/50 [00:02<00:00, 19.84it/s]\n"
          ]
        },
        {
          "name": "stdout",
          "output_type": "stream",
          "text": [
            "Epoch: [24/100], Valid loss: 1.2729, Valid accuracy: 0.5604, Valid accuracy full: 0.4959, current LR: 0.001000\n",
            "New best model found!\n"
          ]
        },
        {
          "name": "stderr",
          "output_type": "stream",
          "text": [
            "100%|██████████| 175/175 [00:08<00:00, 19.68it/s]\n"
          ]
        },
        {
          "name": "stdout",
          "output_type": "stream",
          "text": [
            "Epoch: [25/100], Train loss: 1.3243\n"
          ]
        },
        {
          "name": "stderr",
          "output_type": "stream",
          "text": [
            "100%|██████████| 50/50 [00:02<00:00, 21.23it/s]\n"
          ]
        },
        {
          "name": "stdout",
          "output_type": "stream",
          "text": [
            "Epoch: [25/100], Valid loss: 1.2664, Valid accuracy: 0.5547, Valid accuracy full: 0.4996, current LR: 0.001000\n",
            "New best model found!\n"
          ]
        },
        {
          "name": "stderr",
          "output_type": "stream",
          "text": [
            "100%|██████████| 175/175 [00:09<00:00, 18.99it/s]\n"
          ]
        },
        {
          "name": "stdout",
          "output_type": "stream",
          "text": [
            "Epoch: [26/100], Train loss: 1.3164\n"
          ]
        },
        {
          "name": "stderr",
          "output_type": "stream",
          "text": [
            "100%|██████████| 50/50 [00:02<00:00, 23.63it/s]\n"
          ]
        },
        {
          "name": "stdout",
          "output_type": "stream",
          "text": [
            "Epoch: [26/100], Valid loss: 1.2692, Valid accuracy: 0.5622, Valid accuracy full: 0.4952, current LR: 0.001000\n"
          ]
        },
        {
          "name": "stderr",
          "output_type": "stream",
          "text": [
            "100%|██████████| 175/175 [00:09<00:00, 18.60it/s]\n"
          ]
        },
        {
          "name": "stdout",
          "output_type": "stream",
          "text": [
            "Epoch: [27/100], Train loss: 1.3099\n"
          ]
        },
        {
          "name": "stderr",
          "output_type": "stream",
          "text": [
            "100%|██████████| 50/50 [00:02<00:00, 24.17it/s]\n"
          ]
        },
        {
          "name": "stdout",
          "output_type": "stream",
          "text": [
            "Epoch: [27/100], Valid loss: 1.2623, Valid accuracy: 0.5616, Valid accuracy full: 0.5033, current LR: 0.001000\n",
            "New best model found!\n"
          ]
        },
        {
          "name": "stderr",
          "output_type": "stream",
          "text": [
            "100%|██████████| 175/175 [00:09<00:00, 17.56it/s]\n"
          ]
        },
        {
          "name": "stdout",
          "output_type": "stream",
          "text": [
            "Epoch: [28/100], Train loss: 1.3036\n"
          ]
        },
        {
          "name": "stderr",
          "output_type": "stream",
          "text": [
            "100%|██████████| 50/50 [00:02<00:00, 24.00it/s]\n"
          ]
        },
        {
          "name": "stdout",
          "output_type": "stream",
          "text": [
            "Epoch: [28/100], Valid loss: 1.2862, Valid accuracy: 0.5478, Valid accuracy full: 0.4893, current LR: 0.001000\n"
          ]
        },
        {
          "name": "stderr",
          "output_type": "stream",
          "text": [
            "100%|██████████| 175/175 [00:09<00:00, 19.24it/s]\n"
          ]
        },
        {
          "name": "stdout",
          "output_type": "stream",
          "text": [
            "Epoch: [29/100], Train loss: 1.3111\n"
          ]
        },
        {
          "name": "stderr",
          "output_type": "stream",
          "text": [
            "100%|██████████| 50/50 [00:02<00:00, 18.09it/s]\n"
          ]
        },
        {
          "name": "stdout",
          "output_type": "stream",
          "text": [
            "Epoch: [29/100], Valid loss: 1.2780, Valid accuracy: 0.5472, Valid accuracy full: 0.4937, current LR: 0.001000\n"
          ]
        },
        {
          "name": "stderr",
          "output_type": "stream",
          "text": [
            "100%|██████████| 175/175 [00:09<00:00, 18.80it/s]\n"
          ]
        },
        {
          "name": "stdout",
          "output_type": "stream",
          "text": [
            "Epoch: [30/100], Train loss: 1.2943\n"
          ]
        },
        {
          "name": "stderr",
          "output_type": "stream",
          "text": [
            "100%|██████████| 50/50 [00:02<00:00, 20.58it/s]\n"
          ]
        },
        {
          "name": "stdout",
          "output_type": "stream",
          "text": [
            "Epoch: [30/100], Valid loss: 1.2738, Valid accuracy: 0.5510, Valid accuracy full: 0.4854, current LR: 0.001000\n"
          ]
        },
        {
          "name": "stderr",
          "output_type": "stream",
          "text": [
            "100%|██████████| 175/175 [00:09<00:00, 18.95it/s]\n"
          ]
        },
        {
          "name": "stdout",
          "output_type": "stream",
          "text": [
            "Epoch: [31/100], Train loss: 1.2866\n"
          ]
        },
        {
          "name": "stderr",
          "output_type": "stream",
          "text": [
            "100%|██████████| 50/50 [00:02<00:00, 24.00it/s]\n"
          ]
        },
        {
          "name": "stdout",
          "output_type": "stream",
          "text": [
            "Epoch: [31/100], Valid loss: 1.2368, Valid accuracy: 0.5528, Valid accuracy full: 0.5063, current LR: 0.001000\n",
            "New best model found!\n"
          ]
        },
        {
          "name": "stderr",
          "output_type": "stream",
          "text": [
            "100%|██████████| 175/175 [00:09<00:00, 17.70it/s]\n"
          ]
        },
        {
          "name": "stdout",
          "output_type": "stream",
          "text": [
            "Epoch: [32/100], Train loss: 1.2798\n"
          ]
        },
        {
          "name": "stderr",
          "output_type": "stream",
          "text": [
            "100%|██████████| 50/50 [00:02<00:00, 23.64it/s]\n"
          ]
        },
        {
          "name": "stdout",
          "output_type": "stream",
          "text": [
            "Epoch: [32/100], Valid loss: 1.2844, Valid accuracy: 0.5522, Valid accuracy full: 0.4876, current LR: 0.001000\n"
          ]
        },
        {
          "name": "stderr",
          "output_type": "stream",
          "text": [
            "100%|██████████| 175/175 [00:09<00:00, 17.92it/s]\n"
          ]
        },
        {
          "name": "stdout",
          "output_type": "stream",
          "text": [
            "Epoch: [33/100], Train loss: 1.2847\n"
          ]
        },
        {
          "name": "stderr",
          "output_type": "stream",
          "text": [
            "100%|██████████| 50/50 [00:02<00:00, 21.44it/s]\n"
          ]
        },
        {
          "name": "stdout",
          "output_type": "stream",
          "text": [
            "Epoch: [33/100], Valid loss: 1.2445, Valid accuracy: 0.5672, Valid accuracy full: 0.5031, current LR: 0.001000\n"
          ]
        },
        {
          "name": "stderr",
          "output_type": "stream",
          "text": [
            "100%|██████████| 175/175 [00:10<00:00, 17.01it/s]\n"
          ]
        },
        {
          "name": "stdout",
          "output_type": "stream",
          "text": [
            "Epoch: [34/100], Train loss: 1.2680\n"
          ]
        },
        {
          "name": "stderr",
          "output_type": "stream",
          "text": [
            "100%|██████████| 50/50 [00:02<00:00, 23.33it/s]\n"
          ]
        },
        {
          "name": "stdout",
          "output_type": "stream",
          "text": [
            "Epoch: [34/100], Valid loss: 1.2634, Valid accuracy: 0.5528, Valid accuracy full: 0.4981, current LR: 0.001000\n"
          ]
        },
        {
          "name": "stderr",
          "output_type": "stream",
          "text": [
            "100%|██████████| 175/175 [00:08<00:00, 19.79it/s]\n"
          ]
        },
        {
          "name": "stdout",
          "output_type": "stream",
          "text": [
            "Epoch: [35/100], Train loss: 1.2632\n"
          ]
        },
        {
          "name": "stderr",
          "output_type": "stream",
          "text": [
            "100%|██████████| 50/50 [00:02<00:00, 18.71it/s]\n"
          ]
        },
        {
          "name": "stdout",
          "output_type": "stream",
          "text": [
            "Epoch: [35/100], Valid loss: 1.2672, Valid accuracy: 0.5441, Valid accuracy full: 0.4919, current LR: 0.001000\n"
          ]
        },
        {
          "name": "stderr",
          "output_type": "stream",
          "text": [
            "100%|██████████| 175/175 [00:08<00:00, 20.04it/s]\n"
          ]
        },
        {
          "name": "stdout",
          "output_type": "stream",
          "text": [
            "Epoch: [36/100], Train loss: 1.2534\n"
          ]
        },
        {
          "name": "stderr",
          "output_type": "stream",
          "text": [
            "100%|██████████| 50/50 [00:02<00:00, 23.45it/s]\n"
          ]
        },
        {
          "name": "stdout",
          "output_type": "stream",
          "text": [
            "Epoch: [36/100], Valid loss: 1.2390, Valid accuracy: 0.5691, Valid accuracy full: 0.5078, current LR: 0.001000\n"
          ]
        },
        {
          "name": "stderr",
          "output_type": "stream",
          "text": [
            "100%|██████████| 175/175 [00:09<00:00, 18.94it/s]\n"
          ]
        },
        {
          "name": "stdout",
          "output_type": "stream",
          "text": [
            "Epoch: [37/100], Train loss: 1.2540\n"
          ]
        },
        {
          "name": "stderr",
          "output_type": "stream",
          "text": [
            "100%|██████████| 50/50 [00:02<00:00, 23.70it/s]\n"
          ]
        },
        {
          "name": "stdout",
          "output_type": "stream",
          "text": [
            "Epoch: [37/100], Valid loss: 1.2590, Valid accuracy: 0.5654, Valid accuracy full: 0.4959, current LR: 0.001000\n"
          ]
        },
        {
          "name": "stderr",
          "output_type": "stream",
          "text": [
            "100%|██████████| 175/175 [00:09<00:00, 18.44it/s]\n"
          ]
        },
        {
          "name": "stdout",
          "output_type": "stream",
          "text": [
            "Epoch: [38/100], Train loss: 1.2532\n"
          ]
        },
        {
          "name": "stderr",
          "output_type": "stream",
          "text": [
            "100%|██████████| 50/50 [00:02<00:00, 24.33it/s]\n"
          ]
        },
        {
          "name": "stdout",
          "output_type": "stream",
          "text": [
            "Epoch: [38/100], Valid loss: 1.2494, Valid accuracy: 0.5578, Valid accuracy full: 0.5041, current LR: 0.001000\n"
          ]
        },
        {
          "name": "stderr",
          "output_type": "stream",
          "text": [
            "100%|██████████| 175/175 [00:09<00:00, 18.64it/s]\n"
          ]
        },
        {
          "name": "stdout",
          "output_type": "stream",
          "text": [
            "Epoch: [39/100], Train loss: 1.2330\n"
          ]
        },
        {
          "name": "stderr",
          "output_type": "stream",
          "text": [
            "100%|██████████| 50/50 [00:02<00:00, 23.47it/s]\n"
          ]
        },
        {
          "name": "stdout",
          "output_type": "stream",
          "text": [
            "Epoch: [39/100], Valid loss: 1.2445, Valid accuracy: 0.5654, Valid accuracy full: 0.5020, current LR: 0.001000\n"
          ]
        },
        {
          "name": "stderr",
          "output_type": "stream",
          "text": [
            "100%|██████████| 175/175 [00:09<00:00, 18.73it/s]\n"
          ]
        },
        {
          "name": "stdout",
          "output_type": "stream",
          "text": [
            "Epoch: [40/100], Train loss: 1.2306\n"
          ]
        },
        {
          "name": "stderr",
          "output_type": "stream",
          "text": [
            "100%|██████████| 50/50 [00:02<00:00, 17.81it/s]\n"
          ]
        },
        {
          "name": "stdout",
          "output_type": "stream",
          "text": [
            "Epoch: [40/100], Valid loss: 1.2475, Valid accuracy: 0.5666, Valid accuracy full: 0.4974, current LR: 0.001000\n"
          ]
        },
        {
          "name": "stderr",
          "output_type": "stream",
          "text": [
            "100%|██████████| 175/175 [00:09<00:00, 18.96it/s]\n"
          ]
        },
        {
          "name": "stdout",
          "output_type": "stream",
          "text": [
            "Epoch: [41/100], Train loss: 1.2310\n"
          ]
        },
        {
          "name": "stderr",
          "output_type": "stream",
          "text": [
            "100%|██████████| 50/50 [00:02<00:00, 20.36it/s]\n"
          ]
        },
        {
          "name": "stdout",
          "output_type": "stream",
          "text": [
            "Epoch: [41/100], Valid loss: 1.2430, Valid accuracy: 0.5578, Valid accuracy full: 0.5016, current LR: 0.001000\n"
          ]
        },
        {
          "name": "stderr",
          "output_type": "stream",
          "text": [
            "100%|██████████| 175/175 [00:09<00:00, 19.10it/s]\n"
          ]
        },
        {
          "name": "stdout",
          "output_type": "stream",
          "text": [
            "Epoch: [42/100], Train loss: 1.2210\n"
          ]
        },
        {
          "name": "stderr",
          "output_type": "stream",
          "text": [
            "100%|██████████| 50/50 [00:02<00:00, 22.89it/s]\n"
          ]
        },
        {
          "name": "stdout",
          "output_type": "stream",
          "text": [
            "Epoch: [42/100], Valid loss: 1.2672, Valid accuracy: 0.5647, Valid accuracy full: 0.4978, current LR: 0.001000\n"
          ]
        },
        {
          "name": "stderr",
          "output_type": "stream",
          "text": [
            "100%|██████████| 175/175 [00:09<00:00, 17.86it/s]\n"
          ]
        },
        {
          "name": "stdout",
          "output_type": "stream",
          "text": [
            "Epoch: [43/100], Train loss: 1.2182\n"
          ]
        },
        {
          "name": "stderr",
          "output_type": "stream",
          "text": [
            "100%|██████████| 50/50 [00:02<00:00, 23.02it/s]\n"
          ]
        },
        {
          "name": "stdout",
          "output_type": "stream",
          "text": [
            "Epoch: [43/100], Valid loss: 1.2593, Valid accuracy: 0.5635, Valid accuracy full: 0.4938, current LR: 0.001000\n"
          ]
        },
        {
          "name": "stderr",
          "output_type": "stream",
          "text": [
            "100%|██████████| 175/175 [00:09<00:00, 18.23it/s]\n"
          ]
        },
        {
          "name": "stdout",
          "output_type": "stream",
          "text": [
            "Epoch: [44/100], Train loss: 1.2168\n"
          ]
        },
        {
          "name": "stderr",
          "output_type": "stream",
          "text": [
            "100%|██████████| 50/50 [00:02<00:00, 24.72it/s]\n"
          ]
        },
        {
          "name": "stdout",
          "output_type": "stream",
          "text": [
            "Epoch: [44/100], Valid loss: 1.2479, Valid accuracy: 0.5691, Valid accuracy full: 0.4991, current LR: 0.001000\n"
          ]
        },
        {
          "name": "stderr",
          "output_type": "stream",
          "text": [
            "100%|██████████| 175/175 [00:09<00:00, 18.90it/s]\n"
          ]
        },
        {
          "name": "stdout",
          "output_type": "stream",
          "text": [
            "Epoch: [45/100], Train loss: 1.2034\n"
          ]
        },
        {
          "name": "stderr",
          "output_type": "stream",
          "text": [
            "100%|██████████| 50/50 [00:02<00:00, 22.76it/s]\n"
          ]
        },
        {
          "name": "stdout",
          "output_type": "stream",
          "text": [
            "Epoch: [45/100], Valid loss: 1.2226, Valid accuracy: 0.5691, Valid accuracy full: 0.5106, current LR: 0.001000\n",
            "New best model found!\n"
          ]
        },
        {
          "name": "stderr",
          "output_type": "stream",
          "text": [
            "100%|██████████| 175/175 [00:08<00:00, 19.49it/s]\n"
          ]
        },
        {
          "name": "stdout",
          "output_type": "stream",
          "text": [
            "Epoch: [46/100], Train loss: 1.2111\n"
          ]
        },
        {
          "name": "stderr",
          "output_type": "stream",
          "text": [
            "100%|██████████| 50/50 [00:02<00:00, 18.92it/s]\n"
          ]
        },
        {
          "name": "stdout",
          "output_type": "stream",
          "text": [
            "Epoch: [46/100], Valid loss: 1.2266, Valid accuracy: 0.5766, Valid accuracy full: 0.5000, current LR: 0.001000\n"
          ]
        },
        {
          "name": "stderr",
          "output_type": "stream",
          "text": [
            "100%|██████████| 175/175 [00:08<00:00, 19.89it/s]\n"
          ]
        },
        {
          "name": "stdout",
          "output_type": "stream",
          "text": [
            "Epoch: [47/100], Train loss: 1.2037\n"
          ]
        },
        {
          "name": "stderr",
          "output_type": "stream",
          "text": [
            "100%|██████████| 50/50 [00:02<00:00, 24.45it/s]\n"
          ]
        },
        {
          "name": "stdout",
          "output_type": "stream",
          "text": [
            "Epoch: [47/100], Valid loss: 1.2324, Valid accuracy: 0.5660, Valid accuracy full: 0.5030, current LR: 0.001000\n"
          ]
        },
        {
          "name": "stderr",
          "output_type": "stream",
          "text": [
            "100%|██████████| 175/175 [00:09<00:00, 18.76it/s]\n"
          ]
        },
        {
          "name": "stdout",
          "output_type": "stream",
          "text": [
            "Epoch: [48/100], Train loss: 1.1998\n"
          ]
        },
        {
          "name": "stderr",
          "output_type": "stream",
          "text": [
            "100%|██████████| 50/50 [00:02<00:00, 24.10it/s]\n"
          ]
        },
        {
          "name": "stdout",
          "output_type": "stream",
          "text": [
            "Epoch: [48/100], Valid loss: 1.2543, Valid accuracy: 0.5610, Valid accuracy full: 0.4911, current LR: 0.001000\n"
          ]
        },
        {
          "name": "stderr",
          "output_type": "stream",
          "text": [
            "100%|██████████| 175/175 [00:09<00:00, 18.74it/s]\n"
          ]
        },
        {
          "name": "stdout",
          "output_type": "stream",
          "text": [
            "Epoch: [49/100], Train loss: 1.2005\n"
          ]
        },
        {
          "name": "stderr",
          "output_type": "stream",
          "text": [
            "100%|██████████| 50/50 [00:02<00:00, 23.97it/s]\n"
          ]
        },
        {
          "name": "stdout",
          "output_type": "stream",
          "text": [
            "Epoch: [49/100], Valid loss: 1.2870, Valid accuracy: 0.5416, Valid accuracy full: 0.4756, current LR: 0.001000\n"
          ]
        },
        {
          "name": "stderr",
          "output_type": "stream",
          "text": [
            "100%|██████████| 175/175 [00:09<00:00, 17.80it/s]\n"
          ]
        },
        {
          "name": "stdout",
          "output_type": "stream",
          "text": [
            "Epoch: [50/100], Train loss: 1.1866\n"
          ]
        },
        {
          "name": "stderr",
          "output_type": "stream",
          "text": [
            "100%|██████████| 50/50 [00:02<00:00, 22.56it/s]\n"
          ]
        },
        {
          "name": "stdout",
          "output_type": "stream",
          "text": [
            "Epoch: [50/100], Valid loss: 1.2220, Valid accuracy: 0.5760, Valid accuracy full: 0.5030, current LR: 0.001000\n",
            "New best model found!\n"
          ]
        },
        {
          "name": "stderr",
          "output_type": "stream",
          "text": [
            "100%|██████████| 175/175 [00:09<00:00, 19.31it/s]\n"
          ]
        },
        {
          "name": "stdout",
          "output_type": "stream",
          "text": [
            "Epoch: [51/100], Train loss: 1.1849\n"
          ]
        },
        {
          "name": "stderr",
          "output_type": "stream",
          "text": [
            "100%|██████████| 50/50 [00:02<00:00, 18.78it/s]\n"
          ]
        },
        {
          "name": "stdout",
          "output_type": "stream",
          "text": [
            "Epoch: [51/100], Valid loss: 1.2239, Valid accuracy: 0.5797, Valid accuracy full: 0.5106, current LR: 0.001000\n"
          ]
        },
        {
          "name": "stderr",
          "output_type": "stream",
          "text": [
            "100%|██████████| 175/175 [00:09<00:00, 18.53it/s]\n"
          ]
        },
        {
          "name": "stdout",
          "output_type": "stream",
          "text": [
            "Epoch: [52/100], Train loss: 1.1834\n"
          ]
        },
        {
          "name": "stderr",
          "output_type": "stream",
          "text": [
            "100%|██████████| 50/50 [00:02<00:00, 22.38it/s]\n"
          ]
        },
        {
          "name": "stdout",
          "output_type": "stream",
          "text": [
            "Epoch: [52/100], Valid loss: 1.2187, Valid accuracy: 0.5672, Valid accuracy full: 0.5012, current LR: 0.001000\n",
            "New best model found!\n"
          ]
        },
        {
          "name": "stderr",
          "output_type": "stream",
          "text": [
            "100%|██████████| 175/175 [00:09<00:00, 17.75it/s]\n"
          ]
        },
        {
          "name": "stdout",
          "output_type": "stream",
          "text": [
            "Epoch: [53/100], Train loss: 1.1767\n"
          ]
        },
        {
          "name": "stderr",
          "output_type": "stream",
          "text": [
            "100%|██████████| 50/50 [00:02<00:00, 22.65it/s]\n"
          ]
        },
        {
          "name": "stdout",
          "output_type": "stream",
          "text": [
            "Epoch: [53/100], Valid loss: 1.2282, Valid accuracy: 0.5722, Valid accuracy full: 0.5074, current LR: 0.001000\n"
          ]
        },
        {
          "name": "stderr",
          "output_type": "stream",
          "text": [
            "100%|██████████| 175/175 [00:10<00:00, 17.16it/s]\n"
          ]
        },
        {
          "name": "stdout",
          "output_type": "stream",
          "text": [
            "Epoch: [54/100], Train loss: 1.1732\n"
          ]
        },
        {
          "name": "stderr",
          "output_type": "stream",
          "text": [
            "100%|██████████| 50/50 [00:02<00:00, 22.65it/s]\n"
          ]
        },
        {
          "name": "stdout",
          "output_type": "stream",
          "text": [
            "Epoch: [54/100], Valid loss: 1.2173, Valid accuracy: 0.5666, Valid accuracy full: 0.5002, current LR: 0.001000\n",
            "New best model found!\n"
          ]
        },
        {
          "name": "stderr",
          "output_type": "stream",
          "text": [
            "100%|██████████| 175/175 [00:09<00:00, 18.15it/s]\n"
          ]
        },
        {
          "name": "stdout",
          "output_type": "stream",
          "text": [
            "Epoch: [55/100], Train loss: 1.1760\n"
          ]
        },
        {
          "name": "stderr",
          "output_type": "stream",
          "text": [
            "100%|██████████| 50/50 [00:02<00:00, 23.56it/s]\n"
          ]
        },
        {
          "name": "stdout",
          "output_type": "stream",
          "text": [
            "Epoch: [55/100], Valid loss: 1.2224, Valid accuracy: 0.5691, Valid accuracy full: 0.5043, current LR: 0.001000\n"
          ]
        },
        {
          "name": "stderr",
          "output_type": "stream",
          "text": [
            "100%|██████████| 175/175 [00:09<00:00, 19.29it/s]\n"
          ]
        },
        {
          "name": "stdout",
          "output_type": "stream",
          "text": [
            "Epoch: [56/100], Train loss: 1.1746\n"
          ]
        },
        {
          "name": "stderr",
          "output_type": "stream",
          "text": [
            "100%|██████████| 50/50 [00:02<00:00, 19.48it/s]\n"
          ]
        },
        {
          "name": "stdout",
          "output_type": "stream",
          "text": [
            "Epoch: [56/100], Valid loss: 1.2032, Valid accuracy: 0.5841, Valid accuracy full: 0.5178, current LR: 0.001000\n",
            "New best model found!\n"
          ]
        },
        {
          "name": "stderr",
          "output_type": "stream",
          "text": [
            "100%|██████████| 175/175 [00:09<00:00, 18.82it/s]\n"
          ]
        },
        {
          "name": "stdout",
          "output_type": "stream",
          "text": [
            "Epoch: [57/100], Train loss: 1.1630\n"
          ]
        },
        {
          "name": "stderr",
          "output_type": "stream",
          "text": [
            "100%|██████████| 50/50 [00:02<00:00, 18.37it/s]\n"
          ]
        },
        {
          "name": "stdout",
          "output_type": "stream",
          "text": [
            "Epoch: [57/100], Valid loss: 1.2342, Valid accuracy: 0.5679, Valid accuracy full: 0.5002, current LR: 0.001000\n"
          ]
        },
        {
          "name": "stderr",
          "output_type": "stream",
          "text": [
            "100%|██████████| 175/175 [00:09<00:00, 19.30it/s]\n"
          ]
        },
        {
          "name": "stdout",
          "output_type": "stream",
          "text": [
            "Epoch: [58/100], Train loss: 1.1558\n"
          ]
        },
        {
          "name": "stderr",
          "output_type": "stream",
          "text": [
            "100%|██████████| 50/50 [00:02<00:00, 22.62it/s]\n"
          ]
        },
        {
          "name": "stdout",
          "output_type": "stream",
          "text": [
            "Epoch: [58/100], Valid loss: 1.2013, Valid accuracy: 0.5747, Valid accuracy full: 0.5087, current LR: 0.001000\n",
            "New best model found!\n"
          ]
        },
        {
          "name": "stderr",
          "output_type": "stream",
          "text": [
            "100%|██████████| 175/175 [00:09<00:00, 18.47it/s]\n"
          ]
        },
        {
          "name": "stdout",
          "output_type": "stream",
          "text": [
            "Epoch: [59/100], Train loss: 1.1498\n"
          ]
        },
        {
          "name": "stderr",
          "output_type": "stream",
          "text": [
            "100%|██████████| 50/50 [00:01<00:00, 25.06it/s]\n"
          ]
        },
        {
          "name": "stdout",
          "output_type": "stream",
          "text": [
            "Epoch: [59/100], Valid loss: 1.2032, Valid accuracy: 0.5785, Valid accuracy full: 0.5076, current LR: 0.001000\n"
          ]
        },
        {
          "name": "stderr",
          "output_type": "stream",
          "text": [
            "100%|██████████| 175/175 [00:10<00:00, 17.44it/s]\n"
          ]
        },
        {
          "name": "stdout",
          "output_type": "stream",
          "text": [
            "Epoch: [60/100], Train loss: 1.1559\n"
          ]
        },
        {
          "name": "stderr",
          "output_type": "stream",
          "text": [
            "100%|██████████| 50/50 [00:02<00:00, 22.79it/s]\n"
          ]
        },
        {
          "name": "stdout",
          "output_type": "stream",
          "text": [
            "Epoch: [60/100], Valid loss: 1.2301, Valid accuracy: 0.5754, Valid accuracy full: 0.5044, current LR: 0.001000\n"
          ]
        },
        {
          "name": "stderr",
          "output_type": "stream",
          "text": [
            "100%|██████████| 175/175 [00:09<00:00, 18.63it/s]\n"
          ]
        },
        {
          "name": "stdout",
          "output_type": "stream",
          "text": [
            "Epoch: [61/100], Train loss: 1.1538\n"
          ]
        },
        {
          "name": "stderr",
          "output_type": "stream",
          "text": [
            "100%|██████████| 50/50 [00:02<00:00, 24.41it/s]\n"
          ]
        },
        {
          "name": "stdout",
          "output_type": "stream",
          "text": [
            "Epoch: [61/100], Valid loss: 1.2182, Valid accuracy: 0.5735, Valid accuracy full: 0.5084, current LR: 0.001000\n"
          ]
        },
        {
          "name": "stderr",
          "output_type": "stream",
          "text": [
            "100%|██████████| 175/175 [00:09<00:00, 19.15it/s]\n"
          ]
        },
        {
          "name": "stdout",
          "output_type": "stream",
          "text": [
            "Epoch: [62/100], Train loss: 1.1448\n"
          ]
        },
        {
          "name": "stderr",
          "output_type": "stream",
          "text": [
            "100%|██████████| 50/50 [00:02<00:00, 17.29it/s]\n"
          ]
        },
        {
          "name": "stdout",
          "output_type": "stream",
          "text": [
            "Epoch: [62/100], Valid loss: 1.2131, Valid accuracy: 0.5766, Valid accuracy full: 0.5068, current LR: 0.001000\n"
          ]
        },
        {
          "name": "stderr",
          "output_type": "stream",
          "text": [
            "100%|██████████| 175/175 [00:09<00:00, 19.15it/s]\n"
          ]
        },
        {
          "name": "stdout",
          "output_type": "stream",
          "text": [
            "Epoch: [63/100], Train loss: 1.1379\n"
          ]
        },
        {
          "name": "stderr",
          "output_type": "stream",
          "text": [
            "100%|██████████| 50/50 [00:02<00:00, 19.46it/s]\n"
          ]
        },
        {
          "name": "stdout",
          "output_type": "stream",
          "text": [
            "Epoch: [63/100], Valid loss: 1.2013, Valid accuracy: 0.5829, Valid accuracy full: 0.5188, current LR: 0.001000\n"
          ]
        },
        {
          "name": "stderr",
          "output_type": "stream",
          "text": [
            "100%|██████████| 175/175 [00:09<00:00, 18.71it/s]\n"
          ]
        },
        {
          "name": "stdout",
          "output_type": "stream",
          "text": [
            "Epoch: [64/100], Train loss: 1.1366\n"
          ]
        },
        {
          "name": "stderr",
          "output_type": "stream",
          "text": [
            "100%|██████████| 50/50 [00:02<00:00, 22.29it/s]\n"
          ]
        },
        {
          "name": "stdout",
          "output_type": "stream",
          "text": [
            "Epoch: [64/100], Valid loss: 1.2160, Valid accuracy: 0.5791, Valid accuracy full: 0.5081, current LR: 0.001000\n"
          ]
        },
        {
          "name": "stderr",
          "output_type": "stream",
          "text": [
            "100%|██████████| 175/175 [00:10<00:00, 17.42it/s]\n"
          ]
        },
        {
          "name": "stdout",
          "output_type": "stream",
          "text": [
            "Epoch: [65/100], Train loss: 1.1305\n"
          ]
        },
        {
          "name": "stderr",
          "output_type": "stream",
          "text": [
            "100%|██████████| 50/50 [00:02<00:00, 23.76it/s]\n"
          ]
        },
        {
          "name": "stdout",
          "output_type": "stream",
          "text": [
            "Epoch: [65/100], Valid loss: 1.2205, Valid accuracy: 0.5760, Valid accuracy full: 0.5045, current LR: 0.001000\n"
          ]
        },
        {
          "name": "stderr",
          "output_type": "stream",
          "text": [
            "100%|██████████| 175/175 [00:09<00:00, 18.42it/s]\n"
          ]
        },
        {
          "name": "stdout",
          "output_type": "stream",
          "text": [
            "Epoch: [66/100], Train loss: 1.1332\n"
          ]
        },
        {
          "name": "stderr",
          "output_type": "stream",
          "text": [
            "100%|██████████| 50/50 [00:02<00:00, 24.83it/s]\n"
          ]
        },
        {
          "name": "stdout",
          "output_type": "stream",
          "text": [
            "Epoch: [66/100], Valid loss: 1.2001, Valid accuracy: 0.5866, Valid accuracy full: 0.5142, current LR: 0.001000\n",
            "New best model found!\n"
          ]
        },
        {
          "name": "stderr",
          "output_type": "stream",
          "text": [
            "100%|██████████| 175/175 [00:10<00:00, 17.25it/s]\n"
          ]
        },
        {
          "name": "stdout",
          "output_type": "stream",
          "text": [
            "Epoch: [67/100], Train loss: 1.1343\n"
          ]
        },
        {
          "name": "stderr",
          "output_type": "stream",
          "text": [
            "100%|██████████| 50/50 [00:02<00:00, 23.37it/s]\n"
          ]
        },
        {
          "name": "stdout",
          "output_type": "stream",
          "text": [
            "Epoch: [67/100], Valid loss: 1.1955, Valid accuracy: 0.5779, Valid accuracy full: 0.5147, current LR: 0.001000\n",
            "New best model found!\n"
          ]
        },
        {
          "name": "stderr",
          "output_type": "stream",
          "text": [
            "100%|██████████| 175/175 [00:09<00:00, 18.17it/s]\n"
          ]
        },
        {
          "name": "stdout",
          "output_type": "stream",
          "text": [
            "Epoch: [68/100], Train loss: 1.1269\n"
          ]
        },
        {
          "name": "stderr",
          "output_type": "stream",
          "text": [
            "100%|██████████| 50/50 [00:02<00:00, 18.42it/s]\n"
          ]
        },
        {
          "name": "stdout",
          "output_type": "stream",
          "text": [
            "Epoch: [68/100], Valid loss: 1.2061, Valid accuracy: 0.5847, Valid accuracy full: 0.5120, current LR: 0.001000\n"
          ]
        },
        {
          "name": "stderr",
          "output_type": "stream",
          "text": [
            "100%|██████████| 175/175 [00:08<00:00, 20.68it/s]\n"
          ]
        },
        {
          "name": "stdout",
          "output_type": "stream",
          "text": [
            "Epoch: [69/100], Train loss: 1.1256\n"
          ]
        },
        {
          "name": "stderr",
          "output_type": "stream",
          "text": [
            "100%|██████████| 50/50 [00:02<00:00, 19.97it/s]\n"
          ]
        },
        {
          "name": "stdout",
          "output_type": "stream",
          "text": [
            "Epoch: [69/100], Valid loss: 1.2064, Valid accuracy: 0.5660, Valid accuracy full: 0.5056, current LR: 0.001000\n"
          ]
        },
        {
          "name": "stderr",
          "output_type": "stream",
          "text": [
            "100%|██████████| 175/175 [00:09<00:00, 19.12it/s]\n"
          ]
        },
        {
          "name": "stdout",
          "output_type": "stream",
          "text": [
            "Epoch: [70/100], Train loss: 1.1188\n"
          ]
        },
        {
          "name": "stderr",
          "output_type": "stream",
          "text": [
            "100%|██████████| 50/50 [00:02<00:00, 24.79it/s]\n"
          ]
        },
        {
          "name": "stdout",
          "output_type": "stream",
          "text": [
            "Epoch: [70/100], Valid loss: 1.2024, Valid accuracy: 0.5779, Valid accuracy full: 0.5055, current LR: 0.001000\n"
          ]
        },
        {
          "name": "stderr",
          "output_type": "stream",
          "text": [
            "100%|██████████| 175/175 [00:09<00:00, 17.72it/s]\n"
          ]
        },
        {
          "name": "stdout",
          "output_type": "stream",
          "text": [
            "Epoch: [71/100], Train loss: 1.1224\n"
          ]
        },
        {
          "name": "stderr",
          "output_type": "stream",
          "text": [
            "100%|██████████| 50/50 [00:02<00:00, 22.87it/s]\n"
          ]
        },
        {
          "name": "stdout",
          "output_type": "stream",
          "text": [
            "Epoch: [71/100], Valid loss: 1.1990, Valid accuracy: 0.5797, Valid accuracy full: 0.5113, current LR: 0.001000\n"
          ]
        },
        {
          "name": "stderr",
          "output_type": "stream",
          "text": [
            "100%|██████████| 175/175 [00:09<00:00, 17.77it/s]\n"
          ]
        },
        {
          "name": "stdout",
          "output_type": "stream",
          "text": [
            "Epoch: [72/100], Train loss: 1.1095\n"
          ]
        },
        {
          "name": "stderr",
          "output_type": "stream",
          "text": [
            "100%|██████████| 50/50 [00:02<00:00, 24.02it/s]\n"
          ]
        },
        {
          "name": "stdout",
          "output_type": "stream",
          "text": [
            "Epoch: [72/100], Valid loss: 1.2017, Valid accuracy: 0.5847, Valid accuracy full: 0.5081, current LR: 0.001000\n"
          ]
        },
        {
          "name": "stderr",
          "output_type": "stream",
          "text": [
            "100%|██████████| 175/175 [00:09<00:00, 19.12it/s]\n"
          ]
        },
        {
          "name": "stdout",
          "output_type": "stream",
          "text": [
            "Epoch: [73/100], Train loss: 1.1139\n"
          ]
        },
        {
          "name": "stderr",
          "output_type": "stream",
          "text": [
            "100%|██████████| 50/50 [00:02<00:00, 20.05it/s]\n"
          ]
        },
        {
          "name": "stdout",
          "output_type": "stream",
          "text": [
            "Epoch: [73/100], Valid loss: 1.2171, Valid accuracy: 0.5735, Valid accuracy full: 0.4986, current LR: 0.001000\n"
          ]
        },
        {
          "name": "stderr",
          "output_type": "stream",
          "text": [
            "100%|██████████| 175/175 [00:08<00:00, 20.09it/s]\n"
          ]
        },
        {
          "name": "stdout",
          "output_type": "stream",
          "text": [
            "Epoch: [74/100], Train loss: 1.1115\n"
          ]
        },
        {
          "name": "stderr",
          "output_type": "stream",
          "text": [
            "100%|██████████| 50/50 [00:02<00:00, 23.15it/s]\n"
          ]
        },
        {
          "name": "stdout",
          "output_type": "stream",
          "text": [
            "Epoch: [74/100], Valid loss: 1.2144, Valid accuracy: 0.5729, Valid accuracy full: 0.5049, current LR: 0.001000\n"
          ]
        },
        {
          "name": "stderr",
          "output_type": "stream",
          "text": [
            "100%|██████████| 175/175 [00:09<00:00, 18.63it/s]\n"
          ]
        },
        {
          "name": "stdout",
          "output_type": "stream",
          "text": [
            "Epoch: [75/100], Train loss: 1.0996\n"
          ]
        },
        {
          "name": "stderr",
          "output_type": "stream",
          "text": [
            "100%|██████████| 50/50 [00:02<00:00, 24.94it/s]\n"
          ]
        },
        {
          "name": "stdout",
          "output_type": "stream",
          "text": [
            "Epoch: [75/100], Valid loss: 1.2202, Valid accuracy: 0.5716, Valid accuracy full: 0.4996, current LR: 0.001000\n"
          ]
        },
        {
          "name": "stderr",
          "output_type": "stream",
          "text": [
            "100%|██████████| 175/175 [00:10<00:00, 17.45it/s]\n"
          ]
        },
        {
          "name": "stdout",
          "output_type": "stream",
          "text": [
            "Epoch: [76/100], Train loss: 1.1074\n"
          ]
        },
        {
          "name": "stderr",
          "output_type": "stream",
          "text": [
            "100%|██████████| 50/50 [00:02<00:00, 21.87it/s]\n"
          ]
        },
        {
          "name": "stdout",
          "output_type": "stream",
          "text": [
            "Epoch: [76/100], Valid loss: 1.2095, Valid accuracy: 0.5779, Valid accuracy full: 0.5046, current LR: 0.001000\n"
          ]
        },
        {
          "name": "stderr",
          "output_type": "stream",
          "text": [
            "100%|██████████| 175/175 [00:09<00:00, 18.48it/s]\n"
          ]
        },
        {
          "name": "stdout",
          "output_type": "stream",
          "text": [
            "Epoch: [77/100], Train loss: 1.1069\n"
          ]
        },
        {
          "name": "stderr",
          "output_type": "stream",
          "text": [
            "100%|██████████| 50/50 [00:02<00:00, 24.61it/s]\n"
          ]
        },
        {
          "name": "stdout",
          "output_type": "stream",
          "text": [
            "Epoch: [77/100], Valid loss: 1.2198, Valid accuracy: 0.5716, Valid accuracy full: 0.5022, current LR: 0.001000\n"
          ]
        },
        {
          "name": "stderr",
          "output_type": "stream",
          "text": [
            "100%|██████████| 175/175 [00:10<00:00, 17.49it/s]\n"
          ]
        },
        {
          "name": "stdout",
          "output_type": "stream",
          "text": [
            "Epoch: [78/100], Train loss: 1.1094\n"
          ]
        },
        {
          "name": "stderr",
          "output_type": "stream",
          "text": [
            "100%|██████████| 50/50 [00:02<00:00, 21.65it/s]\n"
          ]
        },
        {
          "name": "stdout",
          "output_type": "stream",
          "text": [
            "Epoch: [78/100], Valid loss: 1.2004, Valid accuracy: 0.5829, Valid accuracy full: 0.5076, current LR: 0.001000\n"
          ]
        },
        {
          "name": "stderr",
          "output_type": "stream",
          "text": [
            "100%|██████████| 175/175 [00:08<00:00, 20.30it/s]\n"
          ]
        },
        {
          "name": "stdout",
          "output_type": "stream",
          "text": [
            "Epoch: [79/100], Train loss: 1.0933\n"
          ]
        },
        {
          "name": "stderr",
          "output_type": "stream",
          "text": [
            "100%|██████████| 50/50 [00:02<00:00, 18.24it/s]\n"
          ]
        },
        {
          "name": "stdout",
          "output_type": "stream",
          "text": [
            "Epoch: [79/100], Valid loss: 1.2097, Valid accuracy: 0.5754, Valid accuracy full: 0.5121, current LR: 0.001000\n"
          ]
        },
        {
          "name": "stderr",
          "output_type": "stream",
          "text": [
            "100%|██████████| 175/175 [00:09<00:00, 18.15it/s]\n"
          ]
        },
        {
          "name": "stdout",
          "output_type": "stream",
          "text": [
            "Epoch: [80/100], Train loss: 1.1027\n"
          ]
        },
        {
          "name": "stderr",
          "output_type": "stream",
          "text": [
            "100%|██████████| 50/50 [00:02<00:00, 21.00it/s]\n"
          ]
        },
        {
          "name": "stdout",
          "output_type": "stream",
          "text": [
            "Epoch: [80/100], Valid loss: 1.2104, Valid accuracy: 0.5679, Valid accuracy full: 0.5059, current LR: 0.001000\n"
          ]
        },
        {
          "name": "stderr",
          "output_type": "stream",
          "text": [
            "100%|██████████| 175/175 [00:09<00:00, 18.91it/s]\n"
          ]
        },
        {
          "name": "stdout",
          "output_type": "stream",
          "text": [
            "Epoch: [81/100], Train loss: 1.0825\n"
          ]
        },
        {
          "name": "stderr",
          "output_type": "stream",
          "text": [
            "100%|██████████| 50/50 [00:02<00:00, 23.76it/s]\n"
          ]
        },
        {
          "name": "stdout",
          "output_type": "stream",
          "text": [
            "Epoch: [81/100], Valid loss: 1.1891, Valid accuracy: 0.5904, Valid accuracy full: 0.5116, current LR: 0.001000\n",
            "New best model found!\n"
          ]
        },
        {
          "name": "stderr",
          "output_type": "stream",
          "text": [
            "100%|██████████| 175/175 [00:10<00:00, 17.33it/s]\n"
          ]
        },
        {
          "name": "stdout",
          "output_type": "stream",
          "text": [
            "Epoch: [82/100], Train loss: 1.0883\n"
          ]
        },
        {
          "name": "stderr",
          "output_type": "stream",
          "text": [
            "100%|██████████| 50/50 [00:02<00:00, 22.97it/s]\n"
          ]
        },
        {
          "name": "stdout",
          "output_type": "stream",
          "text": [
            "Epoch: [82/100], Valid loss: 1.2107, Valid accuracy: 0.5722, Valid accuracy full: 0.4998, current LR: 0.001000\n"
          ]
        },
        {
          "name": "stderr",
          "output_type": "stream",
          "text": [
            "100%|██████████| 175/175 [00:10<00:00, 17.41it/s]\n"
          ]
        },
        {
          "name": "stdout",
          "output_type": "stream",
          "text": [
            "Epoch: [83/100], Train loss: 1.0899\n"
          ]
        },
        {
          "name": "stderr",
          "output_type": "stream",
          "text": [
            "100%|██████████| 50/50 [00:02<00:00, 24.02it/s]\n"
          ]
        },
        {
          "name": "stdout",
          "output_type": "stream",
          "text": [
            "Epoch: [83/100], Valid loss: 1.1873, Valid accuracy: 0.5916, Valid accuracy full: 0.5146, current LR: 0.001000\n",
            "New best model found!\n"
          ]
        },
        {
          "name": "stderr",
          "output_type": "stream",
          "text": [
            "100%|██████████| 175/175 [00:09<00:00, 19.12it/s]\n"
          ]
        },
        {
          "name": "stdout",
          "output_type": "stream",
          "text": [
            "Epoch: [84/100], Train loss: 1.0895\n"
          ]
        },
        {
          "name": "stderr",
          "output_type": "stream",
          "text": [
            "100%|██████████| 50/50 [00:02<00:00, 19.68it/s]\n"
          ]
        },
        {
          "name": "stdout",
          "output_type": "stream",
          "text": [
            "Epoch: [84/100], Valid loss: 1.2146, Valid accuracy: 0.5804, Valid accuracy full: 0.5094, current LR: 0.001000\n"
          ]
        },
        {
          "name": "stderr",
          "output_type": "stream",
          "text": [
            "100%|██████████| 175/175 [00:08<00:00, 20.33it/s]\n"
          ]
        },
        {
          "name": "stdout",
          "output_type": "stream",
          "text": [
            "Epoch: [85/100], Train loss: 1.0917\n"
          ]
        },
        {
          "name": "stderr",
          "output_type": "stream",
          "text": [
            "100%|██████████| 50/50 [00:02<00:00, 21.18it/s]\n"
          ]
        },
        {
          "name": "stdout",
          "output_type": "stream",
          "text": [
            "Epoch: [85/100], Valid loss: 1.2174, Valid accuracy: 0.5666, Valid accuracy full: 0.4998, current LR: 0.001000\n"
          ]
        },
        {
          "name": "stderr",
          "output_type": "stream",
          "text": [
            "100%|██████████| 175/175 [00:09<00:00, 18.24it/s]\n"
          ]
        },
        {
          "name": "stdout",
          "output_type": "stream",
          "text": [
            "Epoch: [86/100], Train loss: 1.0699\n"
          ]
        },
        {
          "name": "stderr",
          "output_type": "stream",
          "text": [
            "100%|██████████| 50/50 [00:02<00:00, 22.39it/s]\n"
          ]
        },
        {
          "name": "stdout",
          "output_type": "stream",
          "text": [
            "Epoch: [86/100], Valid loss: 1.2088, Valid accuracy: 0.5816, Valid accuracy full: 0.5032, current LR: 0.001000\n"
          ]
        },
        {
          "name": "stderr",
          "output_type": "stream",
          "text": [
            "100%|██████████| 175/175 [00:09<00:00, 17.54it/s]\n"
          ]
        },
        {
          "name": "stdout",
          "output_type": "stream",
          "text": [
            "Epoch: [87/100], Train loss: 1.0730\n"
          ]
        },
        {
          "name": "stderr",
          "output_type": "stream",
          "text": [
            "100%|██████████| 50/50 [00:02<00:00, 22.89it/s]\n"
          ]
        },
        {
          "name": "stdout",
          "output_type": "stream",
          "text": [
            "Epoch: [87/100], Valid loss: 1.1915, Valid accuracy: 0.5797, Valid accuracy full: 0.5130, current LR: 0.001000\n"
          ]
        },
        {
          "name": "stderr",
          "output_type": "stream",
          "text": [
            "100%|██████████| 175/175 [00:10<00:00, 17.35it/s]\n"
          ]
        },
        {
          "name": "stdout",
          "output_type": "stream",
          "text": [
            "Epoch: [88/100], Train loss: 1.0757\n"
          ]
        },
        {
          "name": "stderr",
          "output_type": "stream",
          "text": [
            "100%|██████████| 50/50 [00:02<00:00, 24.15it/s]\n"
          ]
        },
        {
          "name": "stdout",
          "output_type": "stream",
          "text": [
            "Epoch: [88/100], Valid loss: 1.1958, Valid accuracy: 0.5847, Valid accuracy full: 0.5096, current LR: 0.001000\n"
          ]
        },
        {
          "name": "stderr",
          "output_type": "stream",
          "text": [
            "100%|██████████| 175/175 [00:09<00:00, 18.67it/s]\n"
          ]
        },
        {
          "name": "stdout",
          "output_type": "stream",
          "text": [
            "Epoch: [89/100], Train loss: 1.0743\n"
          ]
        },
        {
          "name": "stderr",
          "output_type": "stream",
          "text": [
            "100%|██████████| 50/50 [00:01<00:00, 25.05it/s]\n"
          ]
        },
        {
          "name": "stdout",
          "output_type": "stream",
          "text": [
            "Epoch: [89/100], Valid loss: 1.2038, Valid accuracy: 0.5729, Valid accuracy full: 0.5002, current LR: 0.001000\n"
          ]
        },
        {
          "name": "stderr",
          "output_type": "stream",
          "text": [
            "100%|██████████| 175/175 [00:09<00:00, 18.82it/s]\n"
          ]
        },
        {
          "name": "stdout",
          "output_type": "stream",
          "text": [
            "Epoch: [90/100], Train loss: 1.0747\n"
          ]
        },
        {
          "name": "stderr",
          "output_type": "stream",
          "text": [
            "100%|██████████| 50/50 [00:02<00:00, 18.68it/s]\n"
          ]
        },
        {
          "name": "stdout",
          "output_type": "stream",
          "text": [
            "Epoch: [90/100], Valid loss: 1.2022, Valid accuracy: 0.5854, Valid accuracy full: 0.5141, current LR: 0.001000\n"
          ]
        },
        {
          "name": "stderr",
          "output_type": "stream",
          "text": [
            "100%|██████████| 175/175 [00:08<00:00, 20.29it/s]\n"
          ]
        },
        {
          "name": "stdout",
          "output_type": "stream",
          "text": [
            "Epoch: [91/100], Train loss: 1.0646\n"
          ]
        },
        {
          "name": "stderr",
          "output_type": "stream",
          "text": [
            "100%|██████████| 50/50 [00:02<00:00, 20.68it/s]\n"
          ]
        },
        {
          "name": "stdout",
          "output_type": "stream",
          "text": [
            "Epoch: [91/100], Valid loss: 1.1765, Valid accuracy: 0.5897, Valid accuracy full: 0.5152, current LR: 0.001000\n",
            "New best model found!\n"
          ]
        },
        {
          "name": "stderr",
          "output_type": "stream",
          "text": [
            "100%|██████████| 175/175 [00:09<00:00, 18.90it/s]\n"
          ]
        },
        {
          "name": "stdout",
          "output_type": "stream",
          "text": [
            "Epoch: [92/100], Train loss: 1.0750\n"
          ]
        },
        {
          "name": "stderr",
          "output_type": "stream",
          "text": [
            "100%|██████████| 50/50 [00:01<00:00, 25.13it/s]\n"
          ]
        },
        {
          "name": "stdout",
          "output_type": "stream",
          "text": [
            "Epoch: [92/100], Valid loss: 1.1924, Valid accuracy: 0.5747, Valid accuracy full: 0.5059, current LR: 0.001000\n"
          ]
        },
        {
          "name": "stderr",
          "output_type": "stream",
          "text": [
            "100%|██████████| 175/175 [00:09<00:00, 18.52it/s]\n"
          ]
        },
        {
          "name": "stdout",
          "output_type": "stream",
          "text": [
            "Epoch: [93/100], Train loss: 1.0679\n"
          ]
        },
        {
          "name": "stderr",
          "output_type": "stream",
          "text": [
            "100%|██████████| 50/50 [00:03<00:00, 16.50it/s]\n"
          ]
        },
        {
          "name": "stdout",
          "output_type": "stream",
          "text": [
            "Epoch: [93/100], Valid loss: 1.2055, Valid accuracy: 0.5866, Valid accuracy full: 0.5067, current LR: 0.001000\n"
          ]
        },
        {
          "name": "stderr",
          "output_type": "stream",
          "text": [
            "100%|██████████| 175/175 [00:10<00:00, 16.75it/s]\n"
          ]
        },
        {
          "name": "stdout",
          "output_type": "stream",
          "text": [
            "Epoch: [94/100], Train loss: 1.0576\n"
          ]
        },
        {
          "name": "stderr",
          "output_type": "stream",
          "text": [
            "100%|██████████| 50/50 [00:02<00:00, 23.32it/s]\n"
          ]
        },
        {
          "name": "stdout",
          "output_type": "stream",
          "text": [
            "Epoch: [94/100], Valid loss: 1.1951, Valid accuracy: 0.5829, Valid accuracy full: 0.5053, current LR: 0.001000\n"
          ]
        },
        {
          "name": "stderr",
          "output_type": "stream",
          "text": [
            "100%|██████████| 175/175 [00:09<00:00, 18.49it/s]\n"
          ]
        },
        {
          "name": "stdout",
          "output_type": "stream",
          "text": [
            "Epoch: [95/100], Train loss: 1.0682\n"
          ]
        },
        {
          "name": "stderr",
          "output_type": "stream",
          "text": [
            "100%|██████████| 50/50 [00:02<00:00, 22.01it/s]\n"
          ]
        },
        {
          "name": "stdout",
          "output_type": "stream",
          "text": [
            "Epoch: [95/100], Valid loss: 1.1966, Valid accuracy: 0.5816, Valid accuracy full: 0.5034, current LR: 0.001000\n"
          ]
        },
        {
          "name": "stderr",
          "output_type": "stream",
          "text": [
            "100%|██████████| 175/175 [00:09<00:00, 19.33it/s]\n"
          ]
        },
        {
          "name": "stdout",
          "output_type": "stream",
          "text": [
            "Epoch: [96/100], Train loss: 1.0605\n"
          ]
        },
        {
          "name": "stderr",
          "output_type": "stream",
          "text": [
            "100%|██████████| 50/50 [00:02<00:00, 18.02it/s]\n"
          ]
        },
        {
          "name": "stdout",
          "output_type": "stream",
          "text": [
            "Epoch: [96/100], Valid loss: 1.1877, Valid accuracy: 0.5822, Valid accuracy full: 0.5132, current LR: 0.001000\n"
          ]
        },
        {
          "name": "stderr",
          "output_type": "stream",
          "text": [
            "100%|██████████| 175/175 [00:08<00:00, 19.46it/s]\n"
          ]
        },
        {
          "name": "stdout",
          "output_type": "stream",
          "text": [
            "Epoch: [97/100], Train loss: 1.0528\n"
          ]
        },
        {
          "name": "stderr",
          "output_type": "stream",
          "text": [
            "100%|██████████| 50/50 [00:02<00:00, 21.58it/s]\n"
          ]
        },
        {
          "name": "stdout",
          "output_type": "stream",
          "text": [
            "Epoch: [97/100], Valid loss: 1.1911, Valid accuracy: 0.5997, Valid accuracy full: 0.5135, current LR: 0.001000\n"
          ]
        },
        {
          "name": "stderr",
          "output_type": "stream",
          "text": [
            "100%|██████████| 175/175 [00:09<00:00, 19.05it/s]\n"
          ]
        },
        {
          "name": "stdout",
          "output_type": "stream",
          "text": [
            "Epoch: [98/100], Train loss: 1.0655\n"
          ]
        },
        {
          "name": "stderr",
          "output_type": "stream",
          "text": [
            "100%|██████████| 50/50 [00:02<00:00, 22.95it/s]\n"
          ]
        },
        {
          "name": "stdout",
          "output_type": "stream",
          "text": [
            "Epoch: [98/100], Valid loss: 1.2034, Valid accuracy: 0.5822, Valid accuracy full: 0.5001, current LR: 0.001000\n"
          ]
        },
        {
          "name": "stderr",
          "output_type": "stream",
          "text": [
            "100%|██████████| 175/175 [00:10<00:00, 17.26it/s]\n"
          ]
        },
        {
          "name": "stdout",
          "output_type": "stream",
          "text": [
            "Epoch: [99/100], Train loss: 1.0528\n"
          ]
        },
        {
          "name": "stderr",
          "output_type": "stream",
          "text": [
            "100%|██████████| 50/50 [00:02<00:00, 22.06it/s]\n"
          ]
        },
        {
          "name": "stdout",
          "output_type": "stream",
          "text": [
            "Epoch: [99/100], Valid loss: 1.2055, Valid accuracy: 0.5829, Valid accuracy full: 0.5092, current LR: 0.001000\n"
          ]
        },
        {
          "name": "stderr",
          "output_type": "stream",
          "text": [
            "100%|██████████| 175/175 [00:09<00:00, 17.82it/s]\n"
          ]
        },
        {
          "name": "stdout",
          "output_type": "stream",
          "text": [
            "Epoch: [100/100], Train loss: 1.0557\n"
          ]
        },
        {
          "name": "stderr",
          "output_type": "stream",
          "text": [
            "100%|██████████| 50/50 [00:02<00:00, 22.51it/s]"
          ]
        },
        {
          "name": "stdout",
          "output_type": "stream",
          "text": [
            "Epoch: [100/100], Valid loss: 1.1902, Valid accuracy: 0.5872, Valid accuracy full: 0.5102, current LR: 0.001000\n"
          ]
        },
        {
          "name": "stderr",
          "output_type": "stream",
          "text": [
            "\n"
          ]
        }
      ],
      "source": [
        "cnn_conv = CNN_1DConv(n_chan = 128, kernel_size = 3, n_genres = 8).to(device)\n",
        "\n",
        "# Send a sample to the net init all the lazy layers\n",
        "t = cnn_conv(split_tensor_into_eight(train_spec).to(device))\n",
        "del t\n",
        "\n",
        "n_epochs = 100\n",
        "lr = 0.001\n",
        "\n",
        "loss_fn = nn.CrossEntropyLoss()\n",
        "optim = torch.optim.Adam(cnn_conv.parameters(), lr = lr)\n",
        "scheduler = torch.optim.lr_scheduler.ReduceLROnPlateau(optim, patience=20)\n",
        "\n",
        "train_losses = []\n",
        "val_losses = []\n",
        "\n",
        "for epoch in range(n_epochs):\n",
        "    losses = []\n",
        "\n",
        "    for specs, labels in tqdm.tqdm(train_loader):\n",
        "        specs = split_tensor_into_eight(specs.to(device))\n",
        "        logits = cnn_conv(specs.to(device))\n",
        "        loss = loss_fn(logits, torch.repeat_interleave(labels.to(device), 8))\n",
        "\n",
        "        optim.zero_grad()\n",
        "        loss.backward()\n",
        "        optim.step()\n",
        "        losses.append(loss.item())\n",
        "\n",
        "    train_loss = np.mean(losses)\n",
        "    train_losses.append(train_loss)\n",
        "    print('Epoch: [%d/%d], Train loss: %.4f' % (epoch + 1, n_epochs, train_loss))\n",
        "\n",
        "    losses = []\n",
        "    y_true = []\n",
        "    y_pred = []\n",
        "\n",
        "    y_true_full = []\n",
        "    y_pred_full = []\n",
        "\n",
        "    for specs, labels in tqdm.tqdm(valid_loader):\n",
        "        with torch.no_grad():\n",
        "            specs = split_tensor_into_eight(specs.to(device))\n",
        "            logits = cnn_conv(specs.to(device))\n",
        "\n",
        "        _, pred_full = torch.max(logits.data, 1)\n",
        "\n",
        "        y_true_full.extend(torch.repeat_interleave(labels, 8).tolist())\n",
        "        y_pred_full.extend(pred_full.tolist())\n",
        "\n",
        "        logits = logits.unfold(0, 8, 8).permute([0, 2, 1]).mean(dim=1)\n",
        "        loss = loss_fn(logits, labels.to(device))\n",
        "        losses.append(loss.item())\n",
        "        _, pred = torch.max(logits.data, 1)\n",
        "\n",
        "        y_true.extend(labels.tolist())\n",
        "        y_pred.extend(pred.tolist())\n",
        "\n",
        "    accuracy = accuracy_score(y_true, y_pred)\n",
        "    val_loss = np.mean(losses)\n",
        "    val_losses.append(val_loss)\n",
        "    scheduler.step(val_loss)\n",
        "    print('Epoch: [%d/%d], Valid loss: %.4f, Valid accuracy: %.4f, Valid accuracy full: %.4f, current LR: %f' % (epoch+1,\n",
        "                                                                                                                 n_epochs,\n",
        "                                                                                                                 val_loss,\n",
        "                                                                                                                 accuracy,\n",
        "                                                                                                                 accuracy_score(y_true_full, y_pred_full),\n",
        "                                                                                                                 scheduler.get_last_lr()[-1]\n",
        "                                                                                                                 ))\n",
        "\n",
        "    if np.argmin(val_losses) == epoch:\n",
        "        print('New best model found!')\n",
        "        torch.save(cnn_conv.state_dict(), 'best_model_lin_specsplit1d.ckpt')\n",
        "\n",
        "torch.save(cnn_conv.state_dict(), 'final_model_lin_specsplit1d.ckpt')\n"
      ]
    },
    {
      "cell_type": "code",
      "execution_count": 22,
      "metadata": {
        "colab": {
          "base_uri": "https://localhost:8080/",
          "height": 998
        },
        "id": "uF_hp4NTlXnS",
        "outputId": "346bfc4f-1de8-4aaa-fa6a-dbe69b1de4f7"
      },
      "outputs": [
        {
          "name": "stderr",
          "output_type": "stream",
          "text": [
            "100%|██████████| 25/25 [00:00<00:00, 25.02it/s]\n"
          ]
        },
        {
          "data": {
            "image/png": "[encoded data removed]",
            "text/plain": [
              "<Figure size 640x480 with 1 Axes>"
            ]
          },
          "metadata": {},
          "output_type": "display_data"
        },
        {
          "name": "stdout",
          "output_type": "stream",
          "text": [
            "Accuracy: 0.6245\n"
          ]
        },
        {
          "data": {
            "image/png": "[encoded data removed]",
            "text/plain": [
              "<Figure size 640x480 with 2 Axes>"
            ]
          },
          "metadata": {},
          "output_type": "display_data"
        }
      ],
      "source": [
        "#torch.save(cnn_conv.state_dict(), 'final_model_lin_specsplit1d.ckpt')\n",
        "#cnn_conv.load_state_dict(torch.load('best_model_lin_specsplit1d.ckpt'))\n",
        "\n",
        "y_true = []\n",
        "y_pred = []\n",
        "\n",
        "for specs, labels in tqdm.tqdm(test_loader):\n",
        "    with torch.no_grad():\n",
        "        specs = split_tensor_into_eight(specs.to(device))\n",
        "        logits = cnn_conv(specs.to(device))\n",
        "\n",
        "    logits = logits.unfold(0, 8, 8).permute([0, 2, 1]).mean(dim=1)\n",
        "\n",
        "    _, pred = torch.max(logits.data, 1)\n",
        "\n",
        "    y_true.extend(labels.tolist())\n",
        "    y_pred.extend(pred.tolist())\n",
        "\n",
        "plt.plot(train_losses)\n",
        "plt.plot(val_losses)\n",
        "plt.show()\n",
        "\n",
        "l = ['Electronic', 'Experimental', 'Folk', 'Hip-Hop', 'Instrumental', 'International', 'Pop', 'Rock']\n",
        "accuracy = accuracy_score(y_true, y_pred)\n",
        "cm = confusion_matrix(y_true, y_pred)\n",
        "#sns.heatmap(cm, annot=True, xticklabels=l, yticklabels=l, cmap='YlGnBu', fmt='d')\n",
        "print('Accuracy: %.4f' % accuracy)\n",
        "\n",
        "\n",
        "disp = ConfusionMatrixDisplay(confusion_matrix=cm, display_labels=l)\n",
        "\n",
        "disp.plot(cmap=plt.cm.Blues)\n",
        "plt.xticks(rotation=90, ha='right')\n",
        "plt.title(\"Confusion Matrix\")\n",
        "plt.show()\n",
        "\n",
        "np.save('y_true_model_3.npy', np.array(y_true))\n",
        "np.save('y_pred_model_3.npy', np.array(y_pred))"
      ]
    },
    {
      "cell_type": "code",
      "execution_count": null,
      "metadata": {},
      "outputs": [
        {
          "name": "stderr",
          "output_type": "stream",
          "text": [
            "<ipython-input-25-275076041ea4>:1: FutureWarning: You are using `torch.load` with `weights_only=False` (the current default value), which uses the default pickle module implicitly. It is possible to construct malicious pickle data which will execute arbitrary code during unpickling (See https://github.com/pytorch/pytorch/blob/main/SECURITY.md#untrusted-models for more details). In a future release, the default value for `weights_only` will be flipped to `True`. This limits the functions that could be executed during unpickling. Arbitrary objects will no longer be allowed to be loaded via this mode unless they are explicitly allowlisted by the user via `torch.serialization.add_safe_globals`. We recommend you start setting `weights_only=True` for any use case where you don't have full control of the loaded file. Please open an issue on GitHub for any issues related to this experimental feature.\n",
            "  cnn_conv.load_state_dict(torch.load('final_model_lin_specsplit1d.ckpt'))\n",
            "100%|██████████| 175/175 [00:08<00:00, 20.20it/s]\n"
          ]
        },
        {
          "name": "stdout",
          "output_type": "stream",
          "text": [
            "Epoch: [1/20], Train loss: 1.0003\n"
          ]
        },
        {
          "name": "stderr",
          "output_type": "stream",
          "text": [
            "100%|██████████| 50/50 [00:02<00:00, 22.29it/s]\n"
          ]
        },
        {
          "name": "stdout",
          "output_type": "stream",
          "text": [
            "Epoch: [1/20], Valid loss: 1.1674, Valid accuracy: 0.5972, Valid accuracy full: 0.5169, current LR: 0.000100\n",
            "New best model found!\n"
          ]
        },
        {
          "name": "stderr",
          "output_type": "stream",
          "text": [
            "100%|██████████| 175/175 [00:09<00:00, 18.98it/s]\n"
          ]
        },
        {
          "name": "stdout",
          "output_type": "stream",
          "text": [
            "Epoch: [2/20], Train loss: 0.9859\n"
          ]
        },
        {
          "name": "stderr",
          "output_type": "stream",
          "text": [
            "100%|██████████| 50/50 [00:01<00:00, 25.26it/s]\n"
          ]
        },
        {
          "name": "stdout",
          "output_type": "stream",
          "text": [
            "Epoch: [2/20], Valid loss: 1.1746, Valid accuracy: 0.5960, Valid accuracy full: 0.5191, current LR: 0.000100\n"
          ]
        },
        {
          "name": "stderr",
          "output_type": "stream",
          "text": [
            "100%|██████████| 175/175 [00:09<00:00, 18.68it/s]\n"
          ]
        },
        {
          "name": "stdout",
          "output_type": "stream",
          "text": [
            "Epoch: [3/20], Train loss: 0.9797\n"
          ]
        },
        {
          "name": "stderr",
          "output_type": "stream",
          "text": [
            "100%|██████████| 50/50 [00:02<00:00, 24.79it/s]\n"
          ]
        },
        {
          "name": "stdout",
          "output_type": "stream",
          "text": [
            "Epoch: [3/20], Valid loss: 1.1632, Valid accuracy: 0.5991, Valid accuracy full: 0.5153, current LR: 0.000100\n",
            "New best model found!\n"
          ]
        },
        {
          "name": "stderr",
          "output_type": "stream",
          "text": [
            "100%|██████████| 175/175 [00:09<00:00, 18.82it/s]\n"
          ]
        },
        {
          "name": "stdout",
          "output_type": "stream",
          "text": [
            "Epoch: [4/20], Train loss: 0.9817\n"
          ]
        },
        {
          "name": "stderr",
          "output_type": "stream",
          "text": [
            "100%|██████████| 50/50 [00:02<00:00, 24.03it/s]\n"
          ]
        },
        {
          "name": "stdout",
          "output_type": "stream",
          "text": [
            "Epoch: [4/20], Valid loss: 1.1626, Valid accuracy: 0.6023, Valid accuracy full: 0.5227, current LR: 0.000100\n",
            "New best model found!\n"
          ]
        },
        {
          "name": "stderr",
          "output_type": "stream",
          "text": [
            "100%|██████████| 175/175 [00:08<00:00, 19.52it/s]\n"
          ]
        },
        {
          "name": "stdout",
          "output_type": "stream",
          "text": [
            "Epoch: [5/20], Train loss: 0.9790\n"
          ]
        },
        {
          "name": "stderr",
          "output_type": "stream",
          "text": [
            "100%|██████████| 50/50 [00:02<00:00, 20.25it/s]\n"
          ]
        },
        {
          "name": "stdout",
          "output_type": "stream",
          "text": [
            "Epoch: [5/20], Valid loss: 1.1626, Valid accuracy: 0.6066, Valid accuracy full: 0.5160, current LR: 0.000100\n"
          ]
        },
        {
          "name": "stderr",
          "output_type": "stream",
          "text": [
            "100%|██████████| 175/175 [00:12<00:00, 13.90it/s]\n"
          ]
        },
        {
          "name": "stdout",
          "output_type": "stream",
          "text": [
            "Epoch: [6/20], Train loss: 0.9783\n"
          ]
        },
        {
          "name": "stderr",
          "output_type": "stream",
          "text": [
            "100%|██████████| 50/50 [00:04<00:00, 10.45it/s]\n"
          ]
        },
        {
          "name": "stdout",
          "output_type": "stream",
          "text": [
            "Epoch: [6/20], Valid loss: 1.1758, Valid accuracy: 0.6054, Valid accuracy full: 0.5160, current LR: 0.000100\n"
          ]
        },
        {
          "name": "stderr",
          "output_type": "stream",
          "text": [
            "100%|██████████| 175/175 [00:09<00:00, 18.57it/s]\n"
          ]
        },
        {
          "name": "stdout",
          "output_type": "stream",
          "text": [
            "Epoch: [7/20], Train loss: 0.9723\n"
          ]
        },
        {
          "name": "stderr",
          "output_type": "stream",
          "text": [
            "100%|██████████| 50/50 [00:02<00:00, 19.69it/s]\n"
          ]
        },
        {
          "name": "stdout",
          "output_type": "stream",
          "text": [
            "Epoch: [7/20], Valid loss: 1.1670, Valid accuracy: 0.5991, Valid accuracy full: 0.5190, current LR: 0.000100\n"
          ]
        },
        {
          "name": "stderr",
          "output_type": "stream",
          "text": [
            "100%|██████████| 175/175 [00:08<00:00, 20.60it/s]\n"
          ]
        },
        {
          "name": "stdout",
          "output_type": "stream",
          "text": [
            "Epoch: [8/20], Train loss: 0.9750\n"
          ]
        },
        {
          "name": "stderr",
          "output_type": "stream",
          "text": [
            "100%|██████████| 50/50 [00:02<00:00, 22.42it/s]\n"
          ]
        },
        {
          "name": "stdout",
          "output_type": "stream",
          "text": [
            "Epoch: [8/20], Valid loss: 1.1672, Valid accuracy: 0.5972, Valid accuracy full: 0.5144, current LR: 0.000100\n"
          ]
        },
        {
          "name": "stderr",
          "output_type": "stream",
          "text": [
            "100%|██████████| 175/175 [00:09<00:00, 18.95it/s]\n"
          ]
        },
        {
          "name": "stdout",
          "output_type": "stream",
          "text": [
            "Epoch: [9/20], Train loss: 0.9688\n"
          ]
        },
        {
          "name": "stderr",
          "output_type": "stream",
          "text": [
            "100%|██████████| 50/50 [00:02<00:00, 23.94it/s]\n"
          ]
        },
        {
          "name": "stdout",
          "output_type": "stream",
          "text": [
            "Epoch: [9/20], Valid loss: 1.1644, Valid accuracy: 0.5985, Valid accuracy full: 0.5090, current LR: 0.000100\n"
          ]
        },
        {
          "name": "stderr",
          "output_type": "stream",
          "text": [
            "100%|██████████| 175/175 [00:09<00:00, 18.60it/s]\n"
          ]
        },
        {
          "name": "stdout",
          "output_type": "stream",
          "text": [
            "Epoch: [10/20], Train loss: 0.9739\n"
          ]
        },
        {
          "name": "stderr",
          "output_type": "stream",
          "text": [
            "100%|██████████| 50/50 [00:02<00:00, 23.41it/s]\n"
          ]
        },
        {
          "name": "stdout",
          "output_type": "stream",
          "text": [
            "Epoch: [10/20], Valid loss: 1.1605, Valid accuracy: 0.5922, Valid accuracy full: 0.5157, current LR: 0.000100\n",
            "New best model found!\n"
          ]
        },
        {
          "name": "stderr",
          "output_type": "stream",
          "text": [
            "100%|██████████| 175/175 [00:09<00:00, 18.79it/s]\n"
          ]
        },
        {
          "name": "stdout",
          "output_type": "stream",
          "text": [
            "Epoch: [11/20], Train loss: 0.9802\n"
          ]
        },
        {
          "name": "stderr",
          "output_type": "stream",
          "text": [
            "100%|██████████| 50/50 [00:02<00:00, 24.69it/s]\n"
          ]
        },
        {
          "name": "stdout",
          "output_type": "stream",
          "text": [
            "Epoch: [11/20], Valid loss: 1.1567, Valid accuracy: 0.5960, Valid accuracy full: 0.5159, current LR: 0.000100\n",
            "New best model found!\n"
          ]
        },
        {
          "name": "stderr",
          "output_type": "stream",
          "text": [
            "100%|██████████| 175/175 [00:09<00:00, 19.39it/s]\n"
          ]
        },
        {
          "name": "stdout",
          "output_type": "stream",
          "text": [
            "Epoch: [12/20], Train loss: 0.9640\n"
          ]
        },
        {
          "name": "stderr",
          "output_type": "stream",
          "text": [
            "100%|██████████| 50/50 [00:02<00:00, 19.80it/s]\n"
          ]
        },
        {
          "name": "stdout",
          "output_type": "stream",
          "text": [
            "Epoch: [12/20], Valid loss: 1.1661, Valid accuracy: 0.6035, Valid accuracy full: 0.5170, current LR: 0.000100\n"
          ]
        },
        {
          "name": "stderr",
          "output_type": "stream",
          "text": [
            "100%|██████████| 175/175 [00:08<00:00, 20.19it/s]\n"
          ]
        },
        {
          "name": "stdout",
          "output_type": "stream",
          "text": [
            "Epoch: [13/20], Train loss: 0.9693\n"
          ]
        },
        {
          "name": "stderr",
          "output_type": "stream",
          "text": [
            "100%|██████████| 50/50 [00:03<00:00, 14.08it/s]\n"
          ]
        },
        {
          "name": "stdout",
          "output_type": "stream",
          "text": [
            "Epoch: [13/20], Valid loss: 1.1665, Valid accuracy: 0.5916, Valid accuracy full: 0.5175, current LR: 0.000100\n"
          ]
        },
        {
          "name": "stderr",
          "output_type": "stream",
          "text": [
            "100%|██████████| 175/175 [00:08<00:00, 19.56it/s]\n"
          ]
        },
        {
          "name": "stdout",
          "output_type": "stream",
          "text": [
            "Epoch: [14/20], Train loss: 0.9732\n"
          ]
        },
        {
          "name": "stderr",
          "output_type": "stream",
          "text": [
            "100%|██████████| 50/50 [00:02<00:00, 19.30it/s]\n"
          ]
        },
        {
          "name": "stdout",
          "output_type": "stream",
          "text": [
            "Epoch: [14/20], Valid loss: 1.1606, Valid accuracy: 0.6010, Valid accuracy full: 0.5181, current LR: 0.000100\n"
          ]
        },
        {
          "name": "stderr",
          "output_type": "stream",
          "text": [
            "100%|██████████| 175/175 [00:09<00:00, 18.65it/s]\n"
          ]
        },
        {
          "name": "stdout",
          "output_type": "stream",
          "text": [
            "Epoch: [15/20], Train loss: 0.9686\n"
          ]
        },
        {
          "name": "stderr",
          "output_type": "stream",
          "text": [
            "100%|██████████| 50/50 [00:01<00:00, 25.31it/s]\n"
          ]
        },
        {
          "name": "stdout",
          "output_type": "stream",
          "text": [
            "Epoch: [15/20], Valid loss: 1.1724, Valid accuracy: 0.5947, Valid accuracy full: 0.5198, current LR: 0.000100\n"
          ]
        },
        {
          "name": "stderr",
          "output_type": "stream",
          "text": [
            "100%|██████████| 175/175 [00:09<00:00, 18.68it/s]\n"
          ]
        },
        {
          "name": "stdout",
          "output_type": "stream",
          "text": [
            "Epoch: [16/20], Train loss: 0.9753\n"
          ]
        },
        {
          "name": "stderr",
          "output_type": "stream",
          "text": [
            "100%|██████████| 50/50 [00:02<00:00, 23.91it/s]\n"
          ]
        },
        {
          "name": "stdout",
          "output_type": "stream",
          "text": [
            "Epoch: [16/20], Valid loss: 1.1726, Valid accuracy: 0.5929, Valid accuracy full: 0.5145, current LR: 0.000100\n"
          ]
        },
        {
          "name": "stderr",
          "output_type": "stream",
          "text": [
            "100%|██████████| 175/175 [00:09<00:00, 18.83it/s]\n"
          ]
        },
        {
          "name": "stdout",
          "output_type": "stream",
          "text": [
            "Epoch: [17/20], Train loss: 0.9691\n"
          ]
        },
        {
          "name": "stderr",
          "output_type": "stream",
          "text": [
            "100%|██████████| 50/50 [00:02<00:00, 22.73it/s]\n"
          ]
        },
        {
          "name": "stdout",
          "output_type": "stream",
          "text": [
            "Epoch: [17/20], Valid loss: 1.1754, Valid accuracy: 0.6035, Valid accuracy full: 0.5120, current LR: 0.000100\n"
          ]
        },
        {
          "name": "stderr",
          "output_type": "stream",
          "text": [
            "100%|██████████| 175/175 [00:08<00:00, 20.49it/s]\n"
          ]
        },
        {
          "name": "stdout",
          "output_type": "stream",
          "text": [
            "Epoch: [18/20], Train loss: 0.9645\n"
          ]
        },
        {
          "name": "stderr",
          "output_type": "stream",
          "text": [
            "100%|██████████| 50/50 [00:02<00:00, 18.44it/s]\n"
          ]
        },
        {
          "name": "stdout",
          "output_type": "stream",
          "text": [
            "Epoch: [18/20], Valid loss: 1.1604, Valid accuracy: 0.6016, Valid accuracy full: 0.5200, current LR: 0.000100\n"
          ]
        },
        {
          "name": "stderr",
          "output_type": "stream",
          "text": [
            "100%|██████████| 175/175 [00:08<00:00, 19.64it/s]\n"
          ]
        },
        {
          "name": "stdout",
          "output_type": "stream",
          "text": [
            "Epoch: [19/20], Train loss: 0.9708\n"
          ]
        },
        {
          "name": "stderr",
          "output_type": "stream",
          "text": [
            "100%|██████████| 50/50 [00:02<00:00, 23.61it/s]\n"
          ]
        },
        {
          "name": "stdout",
          "output_type": "stream",
          "text": [
            "Epoch: [19/20], Valid loss: 1.1689, Valid accuracy: 0.5979, Valid accuracy full: 0.5170, current LR: 0.000100\n"
          ]
        },
        {
          "name": "stderr",
          "output_type": "stream",
          "text": [
            "100%|██████████| 175/175 [00:09<00:00, 18.58it/s]\n"
          ]
        },
        {
          "name": "stdout",
          "output_type": "stream",
          "text": [
            "Epoch: [20/20], Train loss: 0.9643\n"
          ]
        },
        {
          "name": "stderr",
          "output_type": "stream",
          "text": [
            "100%|██████████| 50/50 [00:02<00:00, 23.46it/s]"
          ]
        },
        {
          "name": "stdout",
          "output_type": "stream",
          "text": [
            "Epoch: [20/20], Valid loss: 1.1741, Valid accuracy: 0.6029, Valid accuracy full: 0.5158, current LR: 0.000100\n"
          ]
        },
        {
          "name": "stderr",
          "output_type": "stream",
          "text": [
            "\n"
          ]
        }
      ],
      "source": [
        "cnn_conv.load_state_dict(torch.load('final_model_lin_specsplit1d.ckpt'))\n",
        "\n",
        "n_epochs = 20\n",
        "lr = 0.0001\n",
        "\n",
        "loss_fn = nn.CrossEntropyLoss()\n",
        "optim = torch.optim.Adam(cnn_conv.parameters(), lr = lr)\n",
        "scheduler = torch.optim.lr_scheduler.ReduceLROnPlateau(optim, patience=20)\n",
        "\n",
        "train_losses = []\n",
        "val_losses = []\n",
        "\n",
        "for epoch in range(n_epochs):\n",
        "    losses = []\n",
        "\n",
        "    for specs, labels in tqdm.tqdm(train_loader):\n",
        "        specs = split_tensor_into_eight(specs.to(device))\n",
        "        logits = cnn_conv(specs.to(device))\n",
        "        loss = loss_fn(logits, torch.repeat_interleave(labels.to(device), 8))\n",
        "\n",
        "        optim.zero_grad()\n",
        "        loss.backward()\n",
        "        optim.step()\n",
        "        losses.append(loss.item())\n",
        "\n",
        "    train_loss = np.mean(losses)\n",
        "    train_losses.append(train_loss)\n",
        "    print('Epoch: [%d/%d], Train loss: %.4f' % (epoch + 1, n_epochs, train_loss))\n",
        "\n",
        "    losses = []\n",
        "    y_true = []\n",
        "    y_pred = []\n",
        "\n",
        "    y_true_full = []\n",
        "    y_pred_full = []\n",
        "\n",
        "    for specs, labels in tqdm.tqdm(valid_loader):\n",
        "        with torch.no_grad():\n",
        "            specs = split_tensor_into_eight(specs.to(device))\n",
        "            logits = cnn_conv(specs.to(device))\n",
        "\n",
        "        _, pred_full = torch.max(logits.data, 1)\n",
        "\n",
        "        y_true_full.extend(torch.repeat_interleave(labels, 8).tolist())\n",
        "        y_pred_full.extend(pred_full.tolist())\n",
        "\n",
        "        logits = logits.unfold(0, 8, 8).permute([0, 2, 1]).mean(dim=1)\n",
        "        loss = loss_fn(logits, labels.to(device))\n",
        "        losses.append(loss.item())\n",
        "        _, pred = torch.max(logits.data, 1)\n",
        "\n",
        "        y_true.extend(labels.tolist())\n",
        "        y_pred.extend(pred.tolist())\n",
        "\n",
        "    accuracy = accuracy_score(y_true, y_pred)\n",
        "    val_loss = np.mean(losses)\n",
        "    val_losses.append(val_loss)\n",
        "    scheduler.step(val_loss)\n",
        "    print('Epoch: [%d/%d], Valid loss: %.4f, Valid accuracy: %.4f, Valid accuracy full: %.4f, current LR: %f' % (epoch+1,\n",
        "                                                                                                                 n_epochs,\n",
        "                                                                                                                 val_loss,\n",
        "                                                                                                                 accuracy,\n",
        "                                                                                                                 accuracy_score(y_true_full, y_pred_full),\n",
        "                                                                                                                 scheduler.get_last_lr()[-1]\n",
        "                                                                                                                 ))\n",
        "\n",
        "    if np.argmin(val_losses) == epoch:\n",
        "        print('New best model found!')\n",
        "        torch.save(cnn_conv.state_dict(), 'best_model_lin_specsplit1d.ckpt')\n",
        "\n",
        "torch.save(cnn_conv.state_dict(), 'final_model_lin_specsplit1d.ckpt')\n"
      ]
    },
    {
      "cell_type": "code",
      "execution_count": null,
      "metadata": {},
      "outputs": [
        {
          "name": "stderr",
          "output_type": "stream",
          "text": [
            "100%|██████████| 25/25 [00:01<00:00, 24.46it/s]\n"
          ]
        },
        {
          "name": "stdout",
          "output_type": "stream",
          "text": [
            "Accuracy: 0.6421\n"
          ]
        },
        {
          "data": {
            "image/png": "[encoded data removed]",
            "text/plain": [
              "<Figure size 640x480 with 2 Axes>"
            ]
          },
          "metadata": {},
          "output_type": "display_data"
        }
      ],
      "source": [
        "y_true = []\n",
        "y_pred = []\n",
        "\n",
        "for specs, labels in tqdm.tqdm(test_loader):\n",
        "    with torch.no_grad():\n",
        "        specs = split_tensor_into_eight(specs.to(device))\n",
        "        logits = cnn_conv(specs.to(device))\n",
        "\n",
        "    logits = logits.unfold(0, 8, 8).permute([0, 2, 1]).mean(dim=1)\n",
        "\n",
        "    _, pred = torch.max(logits.data, 1)\n",
        "\n",
        "    y_true.extend(labels.tolist())\n",
        "    y_pred.extend(pred.tolist())\n",
        "\n",
        "\n",
        "l = ['Electronic', 'Experimental', 'Folk', 'Hip-Hop', 'Instrumental', 'International', 'Pop', 'Rock']\n",
        "accuracy = accuracy_score(y_true, y_pred)\n",
        "cm = confusion_matrix(y_true, y_pred)\n",
        "#sns.heatmap(cm, annot=True, xticklabels=l, yticklabels=l, cmap='YlGnBu', fmt='d')\n",
        "print('Accuracy: %.4f' % accuracy)\n",
        "\n",
        "\n",
        "disp = ConfusionMatrixDisplay(confusion_matrix=cm, display_labels=l)\n",
        "\n",
        "disp.plot(cmap=plt.cm.Blues)\n",
        "plt.xticks(rotation=90, ha='right')\n",
        "plt.title(\"Confusion Matrix\")\n",
        "plt.show()\n",
        "\n",
        "np.save('y_true_model_3.npy', np.array(y_true))\n",
        "np.save('y_pred_model_3.npy', np.array(y_pred))"
      ]
    }
  ],
  "metadata": {
    "accelerator": "GPU",
    "colab": {
      "gpuType": "T4",
      "provenance": []
    },
    "kernelspec": {
      "display_name": "Python 3",
      "name": "python3"
    },
    "language_info": {
      "codemirror_mode": {
        "name": "ipython",
        "version": 3
      },
      "file_extension": ".py",
      "mimetype": "text/x-python",
      "name": "python",
      "nbconvert_exporter": "python",
      "pygments_lexer": "ipython3",
      "version": "3.11.5"
    }
  },
  "nbformat": 4,
  "nbformat_minor": 0
}
